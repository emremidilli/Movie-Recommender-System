{
 "cells": [
  {
   "cell_type": "markdown",
   "id": "0e0b4891-c21a-4bfa-a6c1-39e15e19e310",
   "metadata": {
    "jp-MarkdownHeadingCollapsed": true,
    "tags": []
   },
   "source": [
    "# INTRODUCTION"
   ]
  },
  {
   "cell_type": "markdown",
   "id": "b5e4bd9d-06bc-4f80-a47d-fc282993fed2",
   "metadata": {},
   "source": [
    "A recommendation will be done based on the the rating statistics until a given date. That's why, a configuration parameter **RECOMMMENDATION_DATE** will be used as input parameter.\n",
    "\n",
    "If you are looking for a ranking function that optimizes consumption, an obvious baseline is item popularity. The reason is clear: on average, a member is most likely to watch what most others are watching. However, popularity is the opposite of personalization: it will produce the same ordering of items for every member. Thus, the goal becomes to find a personalized ranking function that is better than item popularity, so we can better satisfy members with varying tastes.\n",
    "\n",
    "Recall that our goal is to recommend the titles that each member is most likely to play and enjoy. One obvious way to approach this is to use the member’s predicted rating of each item as an adjunct to item popularity. Using predicted ratings on their own as a ranking function can lead to items that are too niche or unfamiliar being recommended, and can exclude items that the member would want to watch even though they may not rate them highly. To compensate for this, rather than using either popularity or predicted rating on their own, we would like to produce rankings that balance both of these aspects. At this point, we are ready to build a ranking prediction model using these two features.\n",
    "\n",
    "There are many ways one could construct a ranking function ranging from simple scoring methods, to pairwise preferences, to optimization over the entire ranking. For the purposes of illustration, let us start with a very simple scoring approach by choosing our ranking function to be a linear combination of popularity and predicted rating. This gives an equation of the form frank(u,v) = w1 p(v) + w2 r(u,v) + b, where u=user, v=video item, p=popularity and r=predicted rating.\n",
    "\n",
    "Once we have such a function, we can pass a set of videos through our function and sort them in descending order according to the score. You might be wondering how we can set the weights w1 and w2 in our model (the bias b is constant and thus ends up not affecting the final ordering). In other words, in our simple two-dimensional model, how do we determine whether popularity is more or less important than predicted rating? There are at least two possible approaches to this. You could sample the space of possible weights and let the members decide what makes sense after many A/B tests. This procedure might be time consuming and not very cost effective. Another possible answer involves formulating this as a machine learning problem: select positive and negative examples from your historical data and let a machine learning algorithm learn the weights that optimize your goal. This family of machine learning problems is known as “Learning to rank” and is central to application scenarios such as search engines or ad targeting. Note though that a crucial difference in the case of ranked recommendations is the importance of personalization: we do not expect a global notion of relevance, but rather look for ways of optimizing a personalized model.\n",
    "\n",
    "**Baseline**\n",
    "\n",
    "We already mentioned item popularity as a baseline. But, there are many ways to compute popularity. We can compute it over various time ranges, for instance hourly, daily, or weekly. Or, we can group members by region or other similarity metrics and compute popularity within that group.\n",
    "\n",
    "\n",
    "**Online System**\n",
    "\n",
    "An online machine learning system has a continuous stream of new input data. You’ll need to train your DNN on the new data. However, if you retrain your DNN from scratch, then your embeddings will be different because DNNs are initialized with random weights. Instead, always warm-start the DNN with the existing weights and then update the DNN with new data."
   ]
  },
  {
   "cell_type": "code",
   "execution_count": 1,
   "id": "743fed38-fec7-4ea1-b657-94487143b684",
   "metadata": {},
   "outputs": [],
   "source": [
    "gc_dt_RECOMMENDATION_DATE = '2005-08-01'"
   ]
  },
  {
   "cell_type": "markdown",
   "id": "38b530b2-ea52-4d61-b5c3-76eb2aaff33a",
   "metadata": {
    "jp-MarkdownHeadingCollapsed": true,
    "tags": []
   },
   "source": [
    "# LIBRARIES"
   ]
  },
  {
   "cell_type": "code",
   "execution_count": 2,
   "id": "0e9c55a1-ef5e-4637-ae61-cb2e3b440e5d",
   "metadata": {},
   "outputs": [],
   "source": [
    "import pandas as pd\n",
    "\n",
    "import numpy as np\n",
    "\n",
    "import tensorflow as tf\n",
    "\n",
    "from sklearn.preprocessing import MinMaxScaler\n",
    "from sklearn.preprocessing import OrdinalEncoder\n",
    "from sklearn.preprocessing import OneHotEncoder\n",
    "from sklearn.model_selection import train_test_split\n",
    "from sklearn.metrics.pairwise import pairwise_distances\n",
    "from sklearn.metrics import confusion_matrix\n",
    "from sklearn.metrics import ConfusionMatrixDisplay\n",
    "from sklearn.metrics import classification_report\n",
    "from sklearn.metrics import mean_squared_error, mean_absolute_error, r2_score\n",
    "\n",
    "import seaborn as sns\n",
    "import matplotlib.pyplot as plt\n",
    "\n",
    "import scipy.sparse as sp\n",
    "from scipy.sparse.linalg import svds\n",
    "from sklearn.utils import shuffle"
   ]
  },
  {
   "cell_type": "code",
   "execution_count": 3,
   "id": "d133117e-58bf-4e43-8d58-9a40a49cff56",
   "metadata": {},
   "outputs": [],
   "source": [
    "np.set_printoptions(suppress=True)"
   ]
  },
  {
   "cell_type": "markdown",
   "id": "0e743e57-588d-4455-82c1-74875306eb7b",
   "metadata": {
    "jp-MarkdownHeadingCollapsed": true,
    "tags": []
   },
   "source": [
    "# DATA SOURCE"
   ]
  },
  {
   "cell_type": "markdown",
   "id": "4206f404-0fbe-4d9e-85db-34eb18efb983",
   "metadata": {},
   "source": [
    "Data is downloaded from the link https://www.kaggle.com/datasets/san1201/movielens1m?select=ml-1m.train.csv"
   ]
  },
  {
   "cell_type": "markdown",
   "id": "a6971f14-009d-4fda-bc45-2afd6ae0af35",
   "metadata": {
    "jp-MarkdownHeadingCollapsed": true,
    "tags": []
   },
   "source": [
    "## Users"
   ]
  },
  {
   "cell_type": "code",
   "execution_count": 4,
   "id": "8342fc19-8867-4c80-97a0-9c8c84a2250b",
   "metadata": {},
   "outputs": [
    {
     "data": {
      "text/html": [
       "<div>\n",
       "<style scoped>\n",
       "    .dataframe tbody tr th:only-of-type {\n",
       "        vertical-align: middle;\n",
       "    }\n",
       "\n",
       "    .dataframe tbody tr th {\n",
       "        vertical-align: top;\n",
       "    }\n",
       "\n",
       "    .dataframe thead th {\n",
       "        text-align: right;\n",
       "    }\n",
       "</style>\n",
       "<table border=\"1\" class=\"dataframe\">\n",
       "  <thead>\n",
       "    <tr style=\"text-align: right;\">\n",
       "      <th></th>\n",
       "      <th>gender</th>\n",
       "      <th>age</th>\n",
       "      <th>occupation</th>\n",
       "      <th>zip_code</th>\n",
       "    </tr>\n",
       "    <tr>\n",
       "      <th>user_id</th>\n",
       "      <th></th>\n",
       "      <th></th>\n",
       "      <th></th>\n",
       "      <th></th>\n",
       "    </tr>\n",
       "  </thead>\n",
       "  <tbody>\n",
       "    <tr>\n",
       "      <th>1</th>\n",
       "      <td>F</td>\n",
       "      <td>1</td>\n",
       "      <td>10</td>\n",
       "      <td>48067</td>\n",
       "    </tr>\n",
       "    <tr>\n",
       "      <th>2</th>\n",
       "      <td>M</td>\n",
       "      <td>56</td>\n",
       "      <td>16</td>\n",
       "      <td>70072</td>\n",
       "    </tr>\n",
       "    <tr>\n",
       "      <th>3</th>\n",
       "      <td>M</td>\n",
       "      <td>25</td>\n",
       "      <td>15</td>\n",
       "      <td>55117</td>\n",
       "    </tr>\n",
       "    <tr>\n",
       "      <th>4</th>\n",
       "      <td>M</td>\n",
       "      <td>45</td>\n",
       "      <td>7</td>\n",
       "      <td>02460</td>\n",
       "    </tr>\n",
       "    <tr>\n",
       "      <th>5</th>\n",
       "      <td>M</td>\n",
       "      <td>25</td>\n",
       "      <td>20</td>\n",
       "      <td>55455</td>\n",
       "    </tr>\n",
       "  </tbody>\n",
       "</table>\n",
       "</div>"
      ],
      "text/plain": [
       "        gender  age  occupation zip_code\n",
       "user_id                                 \n",
       "1            F    1          10    48067\n",
       "2            M   56          16    70072\n",
       "3            M   25          15    55117\n",
       "4            M   45           7    02460\n",
       "5            M   25          20    55455"
      ]
     },
     "execution_count": 4,
     "metadata": {},
     "output_type": "execute_result"
    }
   ],
   "source": [
    "aColNamesUsers = ['user_id', 'gender', 'age', 'occupation','zip_code']\n",
    "dfUsers = pd.read_csv(r'Data\\users.dat', delimiter = '::', names =aColNamesUsers , engine = 'python', encoding='latin-1', index_col = 'user_id')\n",
    "dfCopyUsers = dfUsers.copy()\n",
    "dfUsers.head()"
   ]
  },
  {
   "cell_type": "markdown",
   "id": "2283798d-0d7e-44bd-b677-8e626f883eaf",
   "metadata": {
    "jp-MarkdownHeadingCollapsed": true,
    "tags": []
   },
   "source": [
    "## Movies"
   ]
  },
  {
   "cell_type": "code",
   "execution_count": 5,
   "id": "ddaf93d9-757b-437c-9458-f5440c35165d",
   "metadata": {},
   "outputs": [
    {
     "data": {
      "text/html": [
       "<div>\n",
       "<style scoped>\n",
       "    .dataframe tbody tr th:only-of-type {\n",
       "        vertical-align: middle;\n",
       "    }\n",
       "\n",
       "    .dataframe tbody tr th {\n",
       "        vertical-align: top;\n",
       "    }\n",
       "\n",
       "    .dataframe thead th {\n",
       "        text-align: right;\n",
       "    }\n",
       "</style>\n",
       "<table border=\"1\" class=\"dataframe\">\n",
       "  <thead>\n",
       "    <tr style=\"text-align: right;\">\n",
       "      <th></th>\n",
       "      <th>title</th>\n",
       "      <th>genres</th>\n",
       "    </tr>\n",
       "    <tr>\n",
       "      <th>movie_id</th>\n",
       "      <th></th>\n",
       "      <th></th>\n",
       "    </tr>\n",
       "  </thead>\n",
       "  <tbody>\n",
       "    <tr>\n",
       "      <th>1</th>\n",
       "      <td>Toy Story (1995)</td>\n",
       "      <td>Animation|Children's|Comedy</td>\n",
       "    </tr>\n",
       "    <tr>\n",
       "      <th>2</th>\n",
       "      <td>Jumanji (1995)</td>\n",
       "      <td>Adventure|Children's|Fantasy</td>\n",
       "    </tr>\n",
       "    <tr>\n",
       "      <th>3</th>\n",
       "      <td>Grumpier Old Men (1995)</td>\n",
       "      <td>Comedy|Romance</td>\n",
       "    </tr>\n",
       "    <tr>\n",
       "      <th>4</th>\n",
       "      <td>Waiting to Exhale (1995)</td>\n",
       "      <td>Comedy|Drama</td>\n",
       "    </tr>\n",
       "    <tr>\n",
       "      <th>5</th>\n",
       "      <td>Father of the Bride Part II (1995)</td>\n",
       "      <td>Comedy</td>\n",
       "    </tr>\n",
       "  </tbody>\n",
       "</table>\n",
       "</div>"
      ],
      "text/plain": [
       "                                       title                        genres\n",
       "movie_id                                                                  \n",
       "1                           Toy Story (1995)   Animation|Children's|Comedy\n",
       "2                             Jumanji (1995)  Adventure|Children's|Fantasy\n",
       "3                    Grumpier Old Men (1995)                Comedy|Romance\n",
       "4                   Waiting to Exhale (1995)                  Comedy|Drama\n",
       "5         Father of the Bride Part II (1995)                        Comedy"
      ]
     },
     "execution_count": 5,
     "metadata": {},
     "output_type": "execute_result"
    }
   ],
   "source": [
    "aColNamesMovies = ['movie_id', 'title', 'genres']\n",
    "dfMovies = pd.read_csv(r'Data\\movies.dat', delimiter = '::', names =aColNamesMovies , engine = 'python', encoding='latin-1', index_col = 'movie_id')\n",
    "dfCopyMovies = dfMovies.copy()\n",
    "dfMovies.head()"
   ]
  },
  {
   "cell_type": "markdown",
   "id": "fa649dbd-7328-4c50-b3b1-270e9d4a95d5",
   "metadata": {
    "jp-MarkdownHeadingCollapsed": true,
    "tags": []
   },
   "source": [
    "## Ratings"
   ]
  },
  {
   "cell_type": "code",
   "execution_count": 6,
   "id": "4fa20c83-30f3-4853-8721-eec372b5c79f",
   "metadata": {},
   "outputs": [
    {
     "data": {
      "text/html": [
       "<div>\n",
       "<style scoped>\n",
       "    .dataframe tbody tr th:only-of-type {\n",
       "        vertical-align: middle;\n",
       "    }\n",
       "\n",
       "    .dataframe tbody tr th {\n",
       "        vertical-align: top;\n",
       "    }\n",
       "\n",
       "    .dataframe thead th {\n",
       "        text-align: right;\n",
       "    }\n",
       "</style>\n",
       "<table border=\"1\" class=\"dataframe\">\n",
       "  <thead>\n",
       "    <tr style=\"text-align: right;\">\n",
       "      <th></th>\n",
       "      <th>user_id</th>\n",
       "      <th>movie_id</th>\n",
       "      <th>rating</th>\n",
       "      <th>timestamp</th>\n",
       "    </tr>\n",
       "  </thead>\n",
       "  <tbody>\n",
       "    <tr>\n",
       "      <th>0</th>\n",
       "      <td>1</td>\n",
       "      <td>1193</td>\n",
       "      <td>5</td>\n",
       "      <td>978300760</td>\n",
       "    </tr>\n",
       "    <tr>\n",
       "      <th>1</th>\n",
       "      <td>1</td>\n",
       "      <td>661</td>\n",
       "      <td>3</td>\n",
       "      <td>978302109</td>\n",
       "    </tr>\n",
       "    <tr>\n",
       "      <th>2</th>\n",
       "      <td>1</td>\n",
       "      <td>914</td>\n",
       "      <td>3</td>\n",
       "      <td>978301968</td>\n",
       "    </tr>\n",
       "    <tr>\n",
       "      <th>3</th>\n",
       "      <td>1</td>\n",
       "      <td>3408</td>\n",
       "      <td>4</td>\n",
       "      <td>978300275</td>\n",
       "    </tr>\n",
       "    <tr>\n",
       "      <th>4</th>\n",
       "      <td>1</td>\n",
       "      <td>2355</td>\n",
       "      <td>5</td>\n",
       "      <td>978824291</td>\n",
       "    </tr>\n",
       "  </tbody>\n",
       "</table>\n",
       "</div>"
      ],
      "text/plain": [
       "   user_id  movie_id  rating  timestamp\n",
       "0        1      1193       5  978300760\n",
       "1        1       661       3  978302109\n",
       "2        1       914       3  978301968\n",
       "3        1      3408       4  978300275\n",
       "4        1      2355       5  978824291"
      ]
     },
     "execution_count": 6,
     "metadata": {},
     "output_type": "execute_result"
    }
   ],
   "source": [
    "aColNamesRatings = ['user_id', 'movie_id', 'rating' ,'timestamp']\n",
    "dfRatings = pd.read_csv(r'Data\\ratings.dat', delimiter = '::', names =aColNamesRatings , engine = 'python')\n",
    "dfCopyRatings = dfRatings.copy()\n",
    "dfRatings.head()"
   ]
  },
  {
   "cell_type": "markdown",
   "id": "8d24bf71-3630-4a86-be6d-06adf04e49b8",
   "metadata": {
    "jp-MarkdownHeadingCollapsed": true,
    "tags": []
   },
   "source": [
    "## Genres"
   ]
  },
  {
   "cell_type": "code",
   "execution_count": 7,
   "id": "aab9e18b-5463-4377-a907-0ea1f290ec37",
   "metadata": {},
   "outputs": [
    {
     "data": {
      "text/plain": [
       "['Action',\n",
       " 'Adventure',\n",
       " 'Animation',\n",
       " \"Children's\",\n",
       " 'Comedy',\n",
       " 'Crime',\n",
       " 'Documentary',\n",
       " 'Drama',\n",
       " 'Fantasy',\n",
       " 'Film-Noir',\n",
       " 'Horror',\n",
       " 'Musical',\n",
       " 'Mystery',\n",
       " 'Romance',\n",
       " 'Sci-Fi',\n",
       " 'Thriller',\n",
       " 'War',\n",
       " 'Western']"
      ]
     },
     "execution_count": 7,
     "metadata": {},
     "output_type": "execute_result"
    }
   ],
   "source": [
    "gc_a_GENRES = [\n",
    "\t\"Action\",\n",
    "\t\"Adventure\", \n",
    "\t\"Animation\", \n",
    "\t\"Children's\", \n",
    "\t\"Comedy\", \n",
    "\t\"Crime\", \n",
    "\t\"Documentary\", \n",
    "\t\"Drama\", \n",
    "\t\"Fantasy\", \n",
    "\t\"Film-Noir\", \n",
    "\t\"Horror\", \n",
    "\t\"Musical\", \n",
    "\t\"Mystery\", \n",
    "\t\"Romance\", \n",
    "\t\"Sci-Fi\", \n",
    "\t\"Thriller\", \n",
    "\t\"War\",\n",
    "\t\"Western\"\n",
    "]\n",
    "gc_a_GENRES"
   ]
  },
  {
   "cell_type": "markdown",
   "id": "91bcfca2-ce23-4c92-a720-d5729f9e35ec",
   "metadata": {
    "tags": []
   },
   "source": [
    "# PREPROCESSING"
   ]
  },
  {
   "cell_type": "markdown",
   "id": "08048821-4cd0-4970-90ad-cc9adf62c7f5",
   "metadata": {
    "jp-MarkdownHeadingCollapsed": true,
    "tags": []
   },
   "source": [
    "## Convert Timestamp of Ratings to Date Time Format"
   ]
  },
  {
   "cell_type": "code",
   "execution_count": 8,
   "id": "76c43bdb-3792-46ac-8076-83d234d02885",
   "metadata": {},
   "outputs": [],
   "source": [
    "dfRatings['timestamp'] = pd.to_datetime(dfRatings['timestamp'], unit = 's')"
   ]
  },
  {
   "cell_type": "markdown",
   "id": "49ada615-03f3-4df8-80da-0d89e2681ea1",
   "metadata": {
    "jp-MarkdownHeadingCollapsed": true,
    "tags": []
   },
   "source": [
    "## Extract Year of Release of Movies\n",
    "\n",
    "After moving the \"\"year_of_release\"\" from \"\"title\"\" there can be duplicated names. It means that same movie name has different release years. (e.g., <i>Hamlet</i>)"
   ]
  },
  {
   "cell_type": "code",
   "execution_count": 9,
   "id": "e479bee2-bc79-4ce5-847d-7694a085fc2b",
   "metadata": {},
   "outputs": [],
   "source": [
    "dfMovies['year_of_release'] = dfMovies['title'].str[-5:-1].astype(int)\n",
    "dfMovies['title'] = dfMovies['title'].str[:-7]"
   ]
  },
  {
   "cell_type": "code",
   "execution_count": 10,
   "id": "01d46236-ca21-417d-bd5c-2f21f66f3088",
   "metadata": {},
   "outputs": [
    {
     "data": {
      "text/html": [
       "<div>\n",
       "<style scoped>\n",
       "    .dataframe tbody tr th:only-of-type {\n",
       "        vertical-align: middle;\n",
       "    }\n",
       "\n",
       "    .dataframe tbody tr th {\n",
       "        vertical-align: top;\n",
       "    }\n",
       "\n",
       "    .dataframe thead th {\n",
       "        text-align: right;\n",
       "    }\n",
       "</style>\n",
       "<table border=\"1\" class=\"dataframe\">\n",
       "  <thead>\n",
       "    <tr style=\"text-align: right;\">\n",
       "      <th></th>\n",
       "      <th>title</th>\n",
       "      <th>genres</th>\n",
       "      <th>year_of_release</th>\n",
       "    </tr>\n",
       "    <tr>\n",
       "      <th>movie_id</th>\n",
       "      <th></th>\n",
       "      <th></th>\n",
       "      <th></th>\n",
       "    </tr>\n",
       "  </thead>\n",
       "  <tbody>\n",
       "    <tr>\n",
       "      <th>1411</th>\n",
       "      <td>Hamlet</td>\n",
       "      <td>Drama</td>\n",
       "      <td>1996</td>\n",
       "    </tr>\n",
       "    <tr>\n",
       "      <th>1941</th>\n",
       "      <td>Hamlet</td>\n",
       "      <td>Drama</td>\n",
       "      <td>1948</td>\n",
       "    </tr>\n",
       "    <tr>\n",
       "      <th>2820</th>\n",
       "      <td>Hamlet</td>\n",
       "      <td>Drama</td>\n",
       "      <td>1964</td>\n",
       "    </tr>\n",
       "    <tr>\n",
       "      <th>3598</th>\n",
       "      <td>Hamlet</td>\n",
       "      <td>Drama</td>\n",
       "      <td>2000</td>\n",
       "    </tr>\n",
       "    <tr>\n",
       "      <th>3723</th>\n",
       "      <td>Hamlet</td>\n",
       "      <td>Drama</td>\n",
       "      <td>1990</td>\n",
       "    </tr>\n",
       "  </tbody>\n",
       "</table>\n",
       "</div>"
      ],
      "text/plain": [
       "           title genres  year_of_release\n",
       "movie_id                                \n",
       "1411      Hamlet  Drama             1996\n",
       "1941      Hamlet  Drama             1948\n",
       "2820      Hamlet  Drama             1964\n",
       "3598      Hamlet  Drama             2000\n",
       "3723      Hamlet  Drama             1990"
      ]
     },
     "execution_count": 10,
     "metadata": {},
     "output_type": "execute_result"
    }
   ],
   "source": [
    "dfMovies[dfMovies['title'] == 'Hamlet']"
   ]
  },
  {
   "cell_type": "markdown",
   "id": "1fdf9df0-f0c0-444b-b7de-09cc87e3f5c5",
   "metadata": {
    "jp-MarkdownHeadingCollapsed": true,
    "tags": []
   },
   "source": [
    "## Transform Genres of Movies to One Hot Vector"
   ]
  },
  {
   "cell_type": "code",
   "execution_count": 11,
   "id": "41d5c299-d24c-45cd-8e79-b6056ace0d4e",
   "metadata": {},
   "outputs": [
    {
     "data": {
      "text/html": [
       "<div>\n",
       "<style scoped>\n",
       "    .dataframe tbody tr th:only-of-type {\n",
       "        vertical-align: middle;\n",
       "    }\n",
       "\n",
       "    .dataframe tbody tr th {\n",
       "        vertical-align: top;\n",
       "    }\n",
       "\n",
       "    .dataframe thead th {\n",
       "        text-align: right;\n",
       "    }\n",
       "</style>\n",
       "<table border=\"1\" class=\"dataframe\">\n",
       "  <thead>\n",
       "    <tr style=\"text-align: right;\">\n",
       "      <th></th>\n",
       "      <th>title</th>\n",
       "      <th>year_of_release</th>\n",
       "      <th>Action</th>\n",
       "      <th>Adventure</th>\n",
       "      <th>Animation</th>\n",
       "      <th>Children's</th>\n",
       "      <th>Comedy</th>\n",
       "      <th>Crime</th>\n",
       "      <th>Documentary</th>\n",
       "      <th>Drama</th>\n",
       "      <th>Fantasy</th>\n",
       "      <th>Film-Noir</th>\n",
       "      <th>Horror</th>\n",
       "      <th>Musical</th>\n",
       "      <th>Mystery</th>\n",
       "      <th>Romance</th>\n",
       "      <th>Sci-Fi</th>\n",
       "      <th>Thriller</th>\n",
       "      <th>War</th>\n",
       "      <th>Western</th>\n",
       "    </tr>\n",
       "    <tr>\n",
       "      <th>movie_id</th>\n",
       "      <th></th>\n",
       "      <th></th>\n",
       "      <th></th>\n",
       "      <th></th>\n",
       "      <th></th>\n",
       "      <th></th>\n",
       "      <th></th>\n",
       "      <th></th>\n",
       "      <th></th>\n",
       "      <th></th>\n",
       "      <th></th>\n",
       "      <th></th>\n",
       "      <th></th>\n",
       "      <th></th>\n",
       "      <th></th>\n",
       "      <th></th>\n",
       "      <th></th>\n",
       "      <th></th>\n",
       "      <th></th>\n",
       "      <th></th>\n",
       "    </tr>\n",
       "  </thead>\n",
       "  <tbody>\n",
       "    <tr>\n",
       "      <th>1</th>\n",
       "      <td>Toy Story</td>\n",
       "      <td>1995</td>\n",
       "      <td>0</td>\n",
       "      <td>0</td>\n",
       "      <td>1</td>\n",
       "      <td>1</td>\n",
       "      <td>1</td>\n",
       "      <td>0</td>\n",
       "      <td>0</td>\n",
       "      <td>0</td>\n",
       "      <td>0</td>\n",
       "      <td>0</td>\n",
       "      <td>0</td>\n",
       "      <td>0</td>\n",
       "      <td>0</td>\n",
       "      <td>0</td>\n",
       "      <td>0</td>\n",
       "      <td>0</td>\n",
       "      <td>0</td>\n",
       "      <td>0</td>\n",
       "    </tr>\n",
       "    <tr>\n",
       "      <th>2</th>\n",
       "      <td>Jumanji</td>\n",
       "      <td>1995</td>\n",
       "      <td>0</td>\n",
       "      <td>1</td>\n",
       "      <td>0</td>\n",
       "      <td>1</td>\n",
       "      <td>0</td>\n",
       "      <td>0</td>\n",
       "      <td>0</td>\n",
       "      <td>0</td>\n",
       "      <td>1</td>\n",
       "      <td>0</td>\n",
       "      <td>0</td>\n",
       "      <td>0</td>\n",
       "      <td>0</td>\n",
       "      <td>0</td>\n",
       "      <td>0</td>\n",
       "      <td>0</td>\n",
       "      <td>0</td>\n",
       "      <td>0</td>\n",
       "    </tr>\n",
       "    <tr>\n",
       "      <th>3</th>\n",
       "      <td>Grumpier Old Men</td>\n",
       "      <td>1995</td>\n",
       "      <td>0</td>\n",
       "      <td>0</td>\n",
       "      <td>0</td>\n",
       "      <td>0</td>\n",
       "      <td>1</td>\n",
       "      <td>0</td>\n",
       "      <td>0</td>\n",
       "      <td>0</td>\n",
       "      <td>0</td>\n",
       "      <td>0</td>\n",
       "      <td>0</td>\n",
       "      <td>0</td>\n",
       "      <td>0</td>\n",
       "      <td>1</td>\n",
       "      <td>0</td>\n",
       "      <td>0</td>\n",
       "      <td>0</td>\n",
       "      <td>0</td>\n",
       "    </tr>\n",
       "    <tr>\n",
       "      <th>4</th>\n",
       "      <td>Waiting to Exhale</td>\n",
       "      <td>1995</td>\n",
       "      <td>0</td>\n",
       "      <td>0</td>\n",
       "      <td>0</td>\n",
       "      <td>0</td>\n",
       "      <td>1</td>\n",
       "      <td>0</td>\n",
       "      <td>0</td>\n",
       "      <td>1</td>\n",
       "      <td>0</td>\n",
       "      <td>0</td>\n",
       "      <td>0</td>\n",
       "      <td>0</td>\n",
       "      <td>0</td>\n",
       "      <td>0</td>\n",
       "      <td>0</td>\n",
       "      <td>0</td>\n",
       "      <td>0</td>\n",
       "      <td>0</td>\n",
       "    </tr>\n",
       "    <tr>\n",
       "      <th>5</th>\n",
       "      <td>Father of the Bride Part II</td>\n",
       "      <td>1995</td>\n",
       "      <td>0</td>\n",
       "      <td>0</td>\n",
       "      <td>0</td>\n",
       "      <td>0</td>\n",
       "      <td>1</td>\n",
       "      <td>0</td>\n",
       "      <td>0</td>\n",
       "      <td>0</td>\n",
       "      <td>0</td>\n",
       "      <td>0</td>\n",
       "      <td>0</td>\n",
       "      <td>0</td>\n",
       "      <td>0</td>\n",
       "      <td>0</td>\n",
       "      <td>0</td>\n",
       "      <td>0</td>\n",
       "      <td>0</td>\n",
       "      <td>0</td>\n",
       "    </tr>\n",
       "    <tr>\n",
       "      <th>...</th>\n",
       "      <td>...</td>\n",
       "      <td>...</td>\n",
       "      <td>...</td>\n",
       "      <td>...</td>\n",
       "      <td>...</td>\n",
       "      <td>...</td>\n",
       "      <td>...</td>\n",
       "      <td>...</td>\n",
       "      <td>...</td>\n",
       "      <td>...</td>\n",
       "      <td>...</td>\n",
       "      <td>...</td>\n",
       "      <td>...</td>\n",
       "      <td>...</td>\n",
       "      <td>...</td>\n",
       "      <td>...</td>\n",
       "      <td>...</td>\n",
       "      <td>...</td>\n",
       "      <td>...</td>\n",
       "      <td>...</td>\n",
       "    </tr>\n",
       "    <tr>\n",
       "      <th>3948</th>\n",
       "      <td>Meet the Parents</td>\n",
       "      <td>2000</td>\n",
       "      <td>0</td>\n",
       "      <td>0</td>\n",
       "      <td>0</td>\n",
       "      <td>0</td>\n",
       "      <td>1</td>\n",
       "      <td>0</td>\n",
       "      <td>0</td>\n",
       "      <td>0</td>\n",
       "      <td>0</td>\n",
       "      <td>0</td>\n",
       "      <td>0</td>\n",
       "      <td>0</td>\n",
       "      <td>0</td>\n",
       "      <td>0</td>\n",
       "      <td>0</td>\n",
       "      <td>0</td>\n",
       "      <td>0</td>\n",
       "      <td>0</td>\n",
       "    </tr>\n",
       "    <tr>\n",
       "      <th>3949</th>\n",
       "      <td>Requiem for a Dream</td>\n",
       "      <td>2000</td>\n",
       "      <td>0</td>\n",
       "      <td>0</td>\n",
       "      <td>0</td>\n",
       "      <td>0</td>\n",
       "      <td>0</td>\n",
       "      <td>0</td>\n",
       "      <td>0</td>\n",
       "      <td>1</td>\n",
       "      <td>0</td>\n",
       "      <td>0</td>\n",
       "      <td>0</td>\n",
       "      <td>0</td>\n",
       "      <td>0</td>\n",
       "      <td>0</td>\n",
       "      <td>0</td>\n",
       "      <td>0</td>\n",
       "      <td>0</td>\n",
       "      <td>0</td>\n",
       "    </tr>\n",
       "    <tr>\n",
       "      <th>3950</th>\n",
       "      <td>Tigerland</td>\n",
       "      <td>2000</td>\n",
       "      <td>0</td>\n",
       "      <td>0</td>\n",
       "      <td>0</td>\n",
       "      <td>0</td>\n",
       "      <td>0</td>\n",
       "      <td>0</td>\n",
       "      <td>0</td>\n",
       "      <td>1</td>\n",
       "      <td>0</td>\n",
       "      <td>0</td>\n",
       "      <td>0</td>\n",
       "      <td>0</td>\n",
       "      <td>0</td>\n",
       "      <td>0</td>\n",
       "      <td>0</td>\n",
       "      <td>0</td>\n",
       "      <td>0</td>\n",
       "      <td>0</td>\n",
       "    </tr>\n",
       "    <tr>\n",
       "      <th>3951</th>\n",
       "      <td>Two Family House</td>\n",
       "      <td>2000</td>\n",
       "      <td>0</td>\n",
       "      <td>0</td>\n",
       "      <td>0</td>\n",
       "      <td>0</td>\n",
       "      <td>0</td>\n",
       "      <td>0</td>\n",
       "      <td>0</td>\n",
       "      <td>1</td>\n",
       "      <td>0</td>\n",
       "      <td>0</td>\n",
       "      <td>0</td>\n",
       "      <td>0</td>\n",
       "      <td>0</td>\n",
       "      <td>0</td>\n",
       "      <td>0</td>\n",
       "      <td>0</td>\n",
       "      <td>0</td>\n",
       "      <td>0</td>\n",
       "    </tr>\n",
       "    <tr>\n",
       "      <th>3952</th>\n",
       "      <td>Contender, The</td>\n",
       "      <td>2000</td>\n",
       "      <td>0</td>\n",
       "      <td>0</td>\n",
       "      <td>0</td>\n",
       "      <td>0</td>\n",
       "      <td>0</td>\n",
       "      <td>0</td>\n",
       "      <td>0</td>\n",
       "      <td>1</td>\n",
       "      <td>0</td>\n",
       "      <td>0</td>\n",
       "      <td>0</td>\n",
       "      <td>0</td>\n",
       "      <td>0</td>\n",
       "      <td>0</td>\n",
       "      <td>0</td>\n",
       "      <td>1</td>\n",
       "      <td>0</td>\n",
       "      <td>0</td>\n",
       "    </tr>\n",
       "  </tbody>\n",
       "</table>\n",
       "<p>3883 rows × 20 columns</p>\n",
       "</div>"
      ],
      "text/plain": [
       "                                title  year_of_release  Action  Adventure  \\\n",
       "movie_id                                                                    \n",
       "1                           Toy Story             1995       0          0   \n",
       "2                             Jumanji             1995       0          1   \n",
       "3                    Grumpier Old Men             1995       0          0   \n",
       "4                   Waiting to Exhale             1995       0          0   \n",
       "5         Father of the Bride Part II             1995       0          0   \n",
       "...                               ...              ...     ...        ...   \n",
       "3948                 Meet the Parents             2000       0          0   \n",
       "3949              Requiem for a Dream             2000       0          0   \n",
       "3950                        Tigerland             2000       0          0   \n",
       "3951                 Two Family House             2000       0          0   \n",
       "3952                   Contender, The             2000       0          0   \n",
       "\n",
       "          Animation  Children's  Comedy  Crime  Documentary  Drama  Fantasy  \\\n",
       "movie_id                                                                      \n",
       "1                 1           1       1      0            0      0        0   \n",
       "2                 0           1       0      0            0      0        1   \n",
       "3                 0           0       1      0            0      0        0   \n",
       "4                 0           0       1      0            0      1        0   \n",
       "5                 0           0       1      0            0      0        0   \n",
       "...             ...         ...     ...    ...          ...    ...      ...   \n",
       "3948              0           0       1      0            0      0        0   \n",
       "3949              0           0       0      0            0      1        0   \n",
       "3950              0           0       0      0            0      1        0   \n",
       "3951              0           0       0      0            0      1        0   \n",
       "3952              0           0       0      0            0      1        0   \n",
       "\n",
       "          Film-Noir  Horror  Musical  Mystery  Romance  Sci-Fi  Thriller  War  \\\n",
       "movie_id                                                                        \n",
       "1                 0       0        0        0        0       0         0    0   \n",
       "2                 0       0        0        0        0       0         0    0   \n",
       "3                 0       0        0        0        1       0         0    0   \n",
       "4                 0       0        0        0        0       0         0    0   \n",
       "5                 0       0        0        0        0       0         0    0   \n",
       "...             ...     ...      ...      ...      ...     ...       ...  ...   \n",
       "3948              0       0        0        0        0       0         0    0   \n",
       "3949              0       0        0        0        0       0         0    0   \n",
       "3950              0       0        0        0        0       0         0    0   \n",
       "3951              0       0        0        0        0       0         0    0   \n",
       "3952              0       0        0        0        0       0         1    0   \n",
       "\n",
       "          Western  \n",
       "movie_id           \n",
       "1               0  \n",
       "2               0  \n",
       "3               0  \n",
       "4               0  \n",
       "5               0  \n",
       "...           ...  \n",
       "3948            0  \n",
       "3949            0  \n",
       "3950            0  \n",
       "3951            0  \n",
       "3952            0  \n",
       "\n",
       "[3883 rows x 20 columns]"
      ]
     },
     "execution_count": 11,
     "metadata": {},
     "output_type": "execute_result"
    }
   ],
   "source": [
    "for sGenre in gc_a_GENRES:\n",
    "    dfMovies.loc[:, sGenre] = dfMovies.loc[: ,'genres'].str.contains(sGenre).astype(int)\n",
    "    \n",
    "dfMovies.drop(['genres'], axis = 1, inplace = True)\n",
    "dfMovies"
   ]
  },
  {
   "cell_type": "markdown",
   "id": "6b484f89-20b3-4fc5-9ff9-e806b2144f6b",
   "metadata": {
    "tags": []
   },
   "source": [
    "# DEEP LEARNING MODEL"
   ]
  },
  {
   "cell_type": "code",
   "execution_count": 12,
   "id": "0e264684-d1f3-4b6c-b77a-931be65fb700",
   "metadata": {},
   "outputs": [],
   "source": [
    "dfAnalysis = dfRatings.copy()\n",
    "dfAnalysis = pd.merge(left = dfAnalysis, right= dfMovies, left_on = 'movie_id', right_index = True, how = 'left')"
   ]
  },
  {
   "cell_type": "markdown",
   "id": "17f76e0d-f334-4a04-86b5-78773454f3f5",
   "metadata": {
    "tags": []
   },
   "source": [
    "## Encode Movie ID and Item Id in Ratings Dataset"
   ]
  },
  {
   "cell_type": "code",
   "execution_count": 13,
   "id": "2ee90121-bb74-4468-9754-e7c951a6091c",
   "metadata": {},
   "outputs": [],
   "source": [
    "oMovieEncoder = OrdinalEncoder()\n",
    "dfAnalysis['movie_id_encoded'] =  oMovieEncoder.fit_transform(dfAnalysis['movie_id'].values.reshape(-1 , 1))\n",
    "\n",
    "oUserEncoder = OrdinalEncoder()\n",
    "dfAnalysis['user_id_encoded'] =  oUserEncoder.fit_transform(dfAnalysis['user_id'].values.reshape(-1 , 1))"
   ]
  },
  {
   "cell_type": "markdown",
   "id": "ff349306-7972-4c2e-947d-8b7295334a74",
   "metadata": {
    "tags": []
   },
   "source": [
    "## Identify Unique Number of Movies and Users in Ratings Dataset"
   ]
  },
  {
   "cell_type": "code",
   "execution_count": 14,
   "id": "27d665b5-68b0-41b8-80c4-c46398a31adc",
   "metadata": {},
   "outputs": [],
   "source": [
    "iNrOfMovies = dfAnalysis['movie_id_encoded'].nunique()\n",
    "iNrOfUsers = dfAnalysis['user_id_encoded'].nunique()"
   ]
  },
  {
   "cell_type": "markdown",
   "id": "bd278fea-8b2d-472e-8f5e-286b36a48f6f",
   "metadata": {
    "tags": []
   },
   "source": [
    "## Split Train-Validation-Test"
   ]
  },
  {
   "cell_type": "code",
   "execution_count": 15,
   "id": "fd849b31-2404-4692-8967-061fee7b3a02",
   "metadata": {},
   "outputs": [],
   "source": [
    "c_fTrainingRatio = 0.7\n",
    "c_fValidationRatio = 0.15\n",
    "c_fTestRatio = 0.15\n",
    "\n",
    "ixTrain,ixTest = train_test_split(\n",
    "    dfAnalysis.index,\n",
    "    test_size=1-c_fTrainingRatio,\n",
    "    shuffle=True)\n",
    "\n",
    "ixValidation,ixTest= train_test_split(\n",
    "    ixTest,\n",
    "    test_size=c_fTestRatio/(c_fTestRatio + c_fValidationRatio),\n",
    "    shuffle=True)"
   ]
  },
  {
   "cell_type": "markdown",
   "id": "2cfe4e23-cbd0-4917-b21c-6a0fe694dd28",
   "metadata": {
    "tags": []
   },
   "source": [
    "## Build Input and Output Datasets"
   ]
  },
  {
   "cell_type": "code",
   "execution_count": 16,
   "id": "85532d32-b8c8-4486-8b09-37ab1573b230",
   "metadata": {
    "tags": []
   },
   "outputs": [],
   "source": [
    "aColsMovie_X =  [ 'movie_id_encoded'] + gc_a_GENRES\n",
    "aMovie_X_Train = dfAnalysis.loc[ ixTrain , aColsMovie_X].values\n",
    "aMovie_X_Validation = dfAnalysis.loc[ ixValidation , aColsMovie_X].values\n",
    "aMovie_X_Test = dfAnalysis.loc[ ixTest , aColsMovie_X].values\n",
    "\n",
    "\n",
    "aColsUser_X = ['user_id_encoded'] + gc_a_GENRES\n",
    "aUser_X_Train = dfAnalysis.loc[ ixTrain , aColsUser_X].values\n",
    "aUser_X_Validation = dfAnalysis.loc[ ixValidation , aColsUser_X].values\n",
    "aUser_X_Test = dfAnalysis.loc[ ixTest , aColsUser_X].values\n",
    "\n",
    "\n",
    "aCol_y = ['rating']\n",
    "oOheRating = OneHotEncoder()\n",
    "oOheRating.fit(dfAnalysis[aCol_y].values.reshape(-1,1))\n",
    "\n",
    "a_y = oOheRating.transform(dfAnalysis[aCol_y].values.reshape(-1,1))\n",
    "\n",
    "a_y_Train =  oOheRating.transform(dfAnalysis.loc[ ixTrain , aCol_y].values.reshape(-1,1)).toarray()\n",
    "a_y_Validation = oOheRating.transform(dfAnalysis.loc[ ixValidation , aCol_y].values.reshape(-1,1)).toarray()\n",
    "a_y_Test = oOheRating.transform(dfAnalysis.loc[ ixTest , aCol_y].values.reshape(-1,1)).toarray()"
   ]
  },
  {
   "cell_type": "markdown",
   "id": "dee1c0e3-b4b8-4d9f-a467-b4938cd2023e",
   "metadata": {
    "tags": []
   },
   "source": [
    "## Build Model"
   ]
  },
  {
   "cell_type": "code",
   "execution_count": 17,
   "id": "189c3491-19b8-47cb-886a-82e9c6ea31ce",
   "metadata": {},
   "outputs": [],
   "source": [
    "c_iEmbeddigSize = 5"
   ]
  },
  {
   "cell_type": "code",
   "execution_count": 18,
   "id": "c95fe6c1-669f-4eaa-a8a8-924d9cfb9559",
   "metadata": {},
   "outputs": [],
   "source": [
    "aMovieInput = tf.keras.Input(\n",
    "    shape = (aMovie_X_Train.shape[1],),\n",
    "    name = 'movie_input'\n",
    ")\n",
    "\n",
    "aMovieEmbedding = tf.keras.layers.Embedding(\n",
    "    input_dim=iNrOfMovies, # size of vocabulary\n",
    "    output_dim=c_iEmbeddigSize, # length of sequence\n",
    "    name = 'movie_embedding'\n",
    ")(aMovieInput)"
   ]
  },
  {
   "cell_type": "code",
   "execution_count": 19,
   "id": "d007b27d-5b54-4b98-9293-24b844a81398",
   "metadata": {},
   "outputs": [],
   "source": [
    "aUserInput = tf.keras.Input(\n",
    "    shape = (aUser_X_Train.shape[1],),\n",
    "    name = 'user_input'\n",
    ")\n",
    "\n",
    "aUserEmbedding = tf.keras.layers.Embedding(\n",
    "    input_dim=iNrOfUsers, # size of vocabulary\n",
    "    output_dim=c_iEmbeddigSize, # length of sequence\n",
    "    name = 'user_embedding'\n",
    ")(aUserInput)"
   ]
  },
  {
   "cell_type": "code",
   "execution_count": 20,
   "id": "30059f57-ae47-46a0-83d5-400e8a2676a0",
   "metadata": {},
   "outputs": [],
   "source": [
    "aOutput = tf.keras.layers.Dot(\n",
    "    name = 'dot_product', \n",
    "    normalize = True,\n",
    "    axes = 2)([aMovieEmbedding, aUserEmbedding])\n",
    "\n",
    "aOutput = tf.keras.layers.Flatten()(aOutput)\n",
    "aOutput = tf.keras.layers.Dense(40, activation = 'ReLU')(aOutput) #, activity_regularizer = tf.keras.regularizers.L2(0.01)\n",
    "aOutput = tf.keras.layers.Dropout(0.1)(aOutput)\n",
    "aOutput = tf.keras.layers.Dense(20, activation = 'ReLU')(aOutput) #, activity_regularizer = tf.keras.regularizers.L2(0.01)\n",
    "aOutput = tf.keras.layers.Dropout(0.1)(aOutput)\n",
    "aOutput = tf.keras.layers.Dense(10, activation = 'ReLU')(aOutput) #, activity_regularizer = tf.keras.regularizers.L2(0.01)\n",
    "aOutput = tf.keras.layers.Dropout(0.1)(aOutput)\n",
    "aOutput = tf.keras.layers.Dense(5, activation = 'sigmoid')(aOutput)"
   ]
  },
  {
   "cell_type": "code",
   "execution_count": 21,
   "id": "d9c3e89e-241b-473b-a222-bc34896b21d2",
   "metadata": {},
   "outputs": [
    {
     "data": {
      "image/png": "[encoded data removed]",
      "text/plain": [
       "<IPython.core.display.Image object>"
      ]
     },
     "execution_count": 21,
     "metadata": {},
     "output_type": "execute_result"
    }
   ],
   "source": [
    "oModelRatingEstimator = tf.keras.Model(inputs=[aMovieInput, aUserInput], outputs=aOutput)\n",
    "\n",
    "oOptimizer = tf.keras.optimizers.Adam(learning_rate=1e-03)\n",
    "\n",
    "oModelRatingEstimator.compile(optimizer=oOptimizer,loss= tf.keras.losses.BinaryCrossentropy())\n",
    "\n",
    "tf.keras.utils.plot_model(oModelRatingEstimator, show_shapes=True)"
   ]
  },
  {
   "cell_type": "markdown",
   "id": "493b71f1-d867-4748-bb61-ca2056290e96",
   "metadata": {
    "tags": []
   },
   "source": [
    "## Fit Model"
   ]
  },
  {
   "cell_type": "code",
   "execution_count": 22,
   "id": "c355f2fa-127b-434a-8ad2-2e4688a2409e",
   "metadata": {},
   "outputs": [
    {
     "name": "stdout",
     "output_type": "stream",
     "text": [
      "Epoch 1/1000\n",
      "171/171 [==============================] - 5s 21ms/step - loss: 0.5689 - val_loss: 0.4592ETA\n",
      "Epoch 2/1000\n",
      "171/171 [==============================] - 4s 22ms/step - loss: 0.4750 - val_loss: 0.4380\n",
      "Epoch 3/1000\n",
      "171/171 [==============================] - 4s 22ms/step - loss: 0.4555 - val_loss: 0.4300\n",
      "Epoch 4/1000\n",
      "171/171 [==============================] - 4s 22ms/step - loss: 0.4441 - val_loss: 0.4237\n",
      "Epoch 5/1000\n",
      "171/171 [==============================] - 4s 23ms/step - loss: 0.4363 - val_loss: 0.4202\n",
      "Epoch 6/1000\n",
      "171/171 [==============================] - 4s 23ms/step - loss: 0.4286 - val_loss: 0.4139\n",
      "Epoch 7/1000\n",
      "171/171 [==============================] - 4s 23ms/step - loss: 0.4204 - val_loss: 0.4103\n",
      "Epoch 8/1000\n",
      "171/171 [==============================] - 4s 22ms/step - loss: 0.4152 - val_loss: 0.4087\n",
      "Epoch 9/1000\n",
      "171/171 [==============================] - 4s 21ms/step - loss: 0.4116 - val_loss: 0.4072\n",
      "Epoch 10/1000\n",
      "171/171 [==============================] - 4s 26ms/step - loss: 0.4094 - val_loss: 0.4064\n",
      "Epoch 11/1000\n",
      "171/171 [==============================] - 5s 26ms/step - loss: 0.4071 - val_loss: 0.4057\n",
      "Epoch 12/1000\n",
      "171/171 [==============================] - 5s 29ms/step - loss: 0.4052 - val_loss: 0.4051\n",
      "Epoch 13/1000\n",
      "171/171 [==============================] - 4s 25ms/step - loss: 0.4036 - val_loss: 0.4044\n",
      "Epoch 14/1000\n",
      "171/171 [==============================] - 4s 24ms/step - loss: 0.4022 - val_loss: 0.4039\n",
      "Epoch 15/1000\n",
      "171/171 [==============================] - 4s 22ms/step - loss: 0.4011 - val_loss: 0.4037\n",
      "Epoch 16/1000\n",
      "171/171 [==============================] - 4s 24ms/step - loss: 0.4000 - val_loss: 0.4036\n",
      "Epoch 17/1000\n",
      "171/171 [==============================] - 4s 23ms/step - loss: 0.3991 - val_loss: 0.4034\n",
      "Epoch 18/1000\n",
      "171/171 [==============================] - 4s 23ms/step - loss: 0.3983 - val_loss: 0.4027\n",
      "Epoch 19/1000\n",
      "171/171 [==============================] - 4s 21ms/step - loss: 0.3976 - val_loss: 0.4026\n",
      "Epoch 20/1000\n",
      "171/171 [==============================] - 4s 24ms/step - loss: 0.3967 - val_loss: 0.4020\n",
      "Epoch 21/1000\n",
      "171/171 [==============================] - 5s 27ms/step - loss: 0.3961 - val_loss: 0.4018\n",
      "Epoch 22/1000\n",
      "171/171 [==============================] - 5s 26ms/step - loss: 0.3954 - val_loss: 0.4015\n",
      "Epoch 23/1000\n",
      "171/171 [==============================] - 5s 30ms/step - loss: 0.3948 - val_loss: 0.4012\n",
      "Epoch 24/1000\n",
      "171/171 [==============================] - 4s 26ms/step - loss: 0.3943 - val_loss: 0.4013\n",
      "Epoch 25/1000\n",
      "171/171 [==============================] - 4s 23ms/step - loss: 0.3938 - val_loss: 0.4008\n",
      "Epoch 26/1000\n",
      "171/171 [==============================] - 5s 27ms/step - loss: 0.3931 - val_loss: 0.4003\n",
      "Epoch 27/1000\n",
      "171/171 [==============================] - 4s 26ms/step - loss: 0.3927 - val_loss: 0.4001\n",
      "Epoch 28/1000\n",
      "171/171 [==============================] - 4s 22ms/step - loss: 0.3921 - val_loss: 0.4002\n",
      "Epoch 29/1000\n",
      "171/171 [==============================] - 4s 23ms/step - loss: 0.3917 - val_loss: 0.3994\n",
      "Epoch 30/1000\n",
      "171/171 [==============================] - 4s 24ms/step - loss: 0.3914 - val_loss: 0.3997\n",
      "Epoch 31/1000\n",
      "171/171 [==============================] - 4s 24ms/step - loss: 0.3910 - val_loss: 0.3992\n",
      "Epoch 32/1000\n",
      "171/171 [==============================] - 4s 24ms/step - loss: 0.3907 - val_loss: 0.3997\n",
      "Epoch 33/1000\n",
      "171/171 [==============================] - 4s 22ms/step - loss: 0.3903 - val_loss: 0.3992\n",
      "Epoch 34/1000\n",
      "171/171 [==============================] - 4s 23ms/step - loss: 0.3902 - val_loss: 0.3993\n",
      "Epoch 35/1000\n",
      "171/171 [==============================] - 4s 24ms/step - loss: 0.3897 - val_loss: 0.3991\n",
      "Epoch 36/1000\n",
      "171/171 [==============================] - 4s 24ms/step - loss: 0.3895 - val_loss: 0.3989\n",
      "Epoch 37/1000\n",
      "171/171 [==============================] - 4s 25ms/step - loss: 0.3892 - val_loss: 0.3989\n",
      "Epoch 38/1000\n",
      "171/171 [==============================] - 4s 25ms/step - loss: 0.3887 - val_loss: 0.3994\n",
      "Epoch 39/1000\n",
      "171/171 [==============================] - 4s 23ms/step - loss: 0.3885 - val_loss: 0.3988\n",
      "Epoch 40/1000\n",
      "171/171 [==============================] - 4s 24ms/step - loss: 0.3883 - val_loss: 0.3989\n",
      "Epoch 41/1000\n",
      "171/171 [==============================] - 4s 24ms/step - loss: 0.3881 - val_loss: 0.3992\n",
      "Epoch 42/1000\n",
      "171/171 [==============================] - 4s 22ms/step - loss: 0.3877 - val_loss: 0.3987\n",
      "Epoch 43/1000\n",
      "171/171 [==============================] - 4s 24ms/step - loss: 0.3875 - val_loss: 0.3988\n",
      "Epoch 44/1000\n",
      "171/171 [==============================] - 4s 25ms/step - loss: 0.3874 - val_loss: 0.3989\n",
      "Epoch 45/1000\n",
      "171/171 [==============================] - 4s 24ms/step - loss: 0.3874 - val_loss: 0.3982\n",
      "Epoch 46/1000\n",
      "171/171 [==============================] - 4s 24ms/step - loss: 0.3870 - val_loss: 0.3987\n",
      "Epoch 47/1000\n",
      "171/171 [==============================] - 4s 23ms/step - loss: 0.3869 - val_loss: 0.3993\n",
      "Epoch 48/1000\n",
      "171/171 [==============================] - 4s 24ms/step - loss: 0.3868 - val_loss: 0.3987\n",
      "Epoch 49/1000\n",
      "171/171 [==============================] - 4s 22ms/step - loss: 0.3867 - val_loss: 0.3987\n",
      "Epoch 50/1000\n",
      "171/171 [==============================] - 4s 23ms/step - loss: 0.3865 - val_loss: 0.3986\n",
      "Epoch 51/1000\n",
      "171/171 [==============================] - 4s 23ms/step - loss: 0.3864 - val_loss: 0.3986\n",
      "Epoch 52/1000\n",
      "171/171 [==============================] - 4s 25ms/step - loss: 0.3864 - val_loss: 0.3984\n",
      "Epoch 53/1000\n",
      "171/171 [==============================] - 4s 23ms/step - loss: 0.3863 - val_loss: 0.3987\n",
      "Epoch 54/1000\n",
      "171/171 [==============================] - 4s 23ms/step - loss: 0.3861 - val_loss: 0.3987\n",
      "Epoch 55/1000\n",
      "171/171 [==============================] - 3s 19ms/step - loss: 0.3860 - val_loss: 0.3989\n"
     ]
    }
   ],
   "source": [
    "oEarlyStop = tf.keras.callbacks.EarlyStopping(\n",
    "    monitor = 'val_loss', \n",
    "    mode = 'min', \n",
    "    verbose = 0 , \n",
    "    patience = 10, \n",
    "    restore_best_weights = True)\n",
    "\n",
    "oModelRatingEstimator.fit(\n",
    "    [aMovie_X_Train, aUser_X_Train], \n",
    "    a_y_Train, \n",
    "    epochs= 1000, \n",
    "    batch_size=2**12, \n",
    "    verbose=1, \n",
    "    validation_data= ([aMovie_X_Validation, aUser_X_Validation], a_y_Validation),\n",
    "    callbacks=[oEarlyStop]\n",
    ")\n",
    "\n",
    "dfHistory = pd.DataFrame(oModelRatingEstimator.history.history)"
   ]
  },
  {
   "cell_type": "code",
   "execution_count": 23,
   "id": "e68d0d5c-c5ac-497f-ab0f-5074d5b451f9",
   "metadata": {},
   "outputs": [
    {
     "data": {
      "text/plain": [
       "<AxesSubplot:ylabel='loss'>"
      ]
     },
     "execution_count": 23,
     "metadata": {},
     "output_type": "execute_result"
    },
    {
     "data": {
      "image/png": "[encoded data removed]",
      "text/plain": [
       "<Figure size 1440x576 with 1 Axes>"
      ]
     },
     "metadata": {
      "needs_background": "light"
     },
     "output_type": "display_data"
    }
   ],
   "source": [
    "plt.figure(figsize = (20, 8))\n",
    "sns.lineplot(data = dfHistory['loss'].iloc[1:], legend = True, label = 'Train')\n",
    "sns.lineplot(data = dfHistory['val_loss'].iloc[1:], legend = True, label = 'Validation')"
   ]
  },
  {
   "cell_type": "markdown",
   "id": "129f0553-4dc7-412e-83c0-eef19928fac9",
   "metadata": {
    "tags": []
   },
   "source": [
    "## Test Model"
   ]
  },
  {
   "cell_type": "code",
   "execution_count": 24,
   "id": "dfc6feda-b639-4603-b1f2-d5fe0ca31422",
   "metadata": {},
   "outputs": [
    {
     "name": "stdout",
     "output_type": "stream",
     "text": [
      "MSE: 0.98\n",
      "RMSE: 0.99\n",
      "MAE: 0.67\n",
      "R2: 0.22\n"
     ]
    }
   ],
   "source": [
    "a_y_pred = oModelRatingEstimator.predict([aMovie_X_Test, aUser_X_Test])\n",
    "\n",
    "pred = oOheRating.inverse_transform(a_y_pred)\n",
    "ground_true = oOheRating.inverse_transform(a_y_Test)\n",
    "\n",
    "fMse =  mean_squared_error(ground_true, pred)\n",
    "fRmse = np.sqrt(fMse)\n",
    "fMae = mean_absolute_error(ground_true, pred)\n",
    "fR2 =  r2_score(ground_true, pred)\n",
    "\n",
    "print('MSE: {:.2f}\\nRMSE: {:.2f}\\nMAE: {:.2f}\\nR2: {:.2f}'.format(fMse, fRmse, fMae, fR2))"
   ]
  },
  {
   "cell_type": "code",
   "execution_count": 25,
   "id": "398a6aab-d59e-408c-a750-ee8eadfcfde4",
   "metadata": {},
   "outputs": [],
   "source": [
    "dfComparison = pd.DataFrame(index = ixTest)\n",
    "dfComparison['pred'] = pred\n",
    "dfComparison['ground_true'] = ground_true"
   ]
  },
  {
   "cell_type": "code",
   "execution_count": 26,
   "id": "3bfc317b-1c4d-44cf-83d4-0a407cd41493",
   "metadata": {},
   "outputs": [
    {
     "data": {
      "text/plain": [
       "<AxesSubplot:ylabel='Count'>"
      ]
     },
     "execution_count": 26,
     "metadata": {},
     "output_type": "execute_result"
    },
    {
     "data": {
      "image/png": "[encoded data removed]",
      "text/plain": [
       "<Figure size 1440x576 with 1 Axes>"
      ]
     },
     "metadata": {
      "needs_background": "light"
     },
     "output_type": "display_data"
    }
   ],
   "source": [
    "plt.figure(figsize = (20, 8))\n",
    "sns.histplot(data = dfComparison)"
   ]
  },
  {
   "cell_type": "code",
   "execution_count": 27,
   "id": "78da4e9d-6328-48c3-9088-0df9d35fb78e",
   "metadata": {},
   "outputs": [
    {
     "name": "stdout",
     "output_type": "stream",
     "text": [
      "              precision    recall  f1-score   support\n",
      "\n",
      "           1       0.49      0.32      0.39      8425\n",
      "           2       0.41      0.11      0.17     16232\n",
      "           3       0.41      0.47      0.44     38956\n",
      "           4       0.46      0.58      0.51     52376\n",
      "           5       0.55      0.48      0.51     34043\n",
      "\n",
      "    accuracy                           0.46    150032\n",
      "   macro avg       0.47      0.39      0.40    150032\n",
      "weighted avg       0.46      0.46      0.45    150032\n",
      "\n"
     ]
    },
    {
     "data": {
      "text/plain": [
       "<sklearn.metrics._plot.confusion_matrix.ConfusionMatrixDisplay at 0x290f15b8ac8>"
      ]
     },
     "execution_count": 27,
     "metadata": {},
     "output_type": "execute_result"
    },
    {
     "data": {
      "image/png": "[encoded data removed]",
      "text/plain": [
       "<Figure size 1440x576 with 2 Axes>"
      ]
     },
     "metadata": {
      "needs_background": "light"
     },
     "output_type": "display_data"
    }
   ],
   "source": [
    "print(classification_report(ground_true, pred))\n",
    "\n",
    "aConfMatr = confusion_matrix(ground_true, pred, labels = np.unique(ground_true))\n",
    "oConfMatr = ConfusionMatrixDisplay(aConfMatr, display_labels  = np.unique(ground_true))\n",
    "fig, ax = plt.subplots(figsize=(20,8))\n",
    "oConfMatr.plot(ax=ax)"
   ]
  },
  {
   "cell_type": "markdown",
   "id": "70b3564a-84e3-42d1-ac1e-34c7977d3d8b",
   "metadata": {
    "jp-MarkdownHeadingCollapsed": true,
    "tags": []
   },
   "source": [
    "# SIMILARITY MODEL"
   ]
  },
  {
   "cell_type": "code",
   "execution_count": 28,
   "id": "19575644-ac93-4b11-854a-15eba027b52d",
   "metadata": {},
   "outputs": [],
   "source": [
    "aLatentFeaturesUsers = oModelRatingEstimator.get_layer('user_embedding').weights[0]\n",
    "aLatentFeaturesMovies= oModelRatingEstimator.get_layer('movie_embedding').weights[0]"
   ]
  },
  {
   "cell_type": "markdown",
   "id": "57ab40ce-3dda-4a8c-861d-abf96780ca5b",
   "metadata": {},
   "source": [
    "The ones who has smallest cosine distance is the most similar to each other."
   ]
  },
  {
   "cell_type": "code",
   "execution_count": 29,
   "id": "4c1e3146-1741-4b2c-91ad-a24c45c769f5",
   "metadata": {},
   "outputs": [],
   "source": [
    "aUserSimilarities =  pairwise_distances(aLatentFeaturesUsers, metric='cosine')\n",
    "aMovieSimilarities =  pairwise_distances(aLatentFeaturesMovies, metric='cosine')"
   ]
  },
  {
   "cell_type": "markdown",
   "id": "9ad625b6-5265-4aa6-998d-763870e312ce",
   "metadata": {
    "tags": []
   },
   "source": [
    "# INFERENCE"
   ]
  },
  {
   "cell_type": "code",
   "execution_count": 85,
   "id": "c668a42d-1672-4bc0-8001-67bd6176d474",
   "metadata": {},
   "outputs": [
    {
     "data": {
      "text/plain": [
       "204"
      ]
     },
     "execution_count": 85,
     "metadata": {},
     "output_type": "execute_result"
    }
   ],
   "source": [
    "iUserID = 205\n",
    "\n",
    "iUserIDEncoded = int(oUserEncoder.transform(np.array(iUserID).reshape(-1, 1))[0][0])\n",
    "iUserIDEncoded"
   ]
  },
  {
   "cell_type": "code",
   "execution_count": 86,
   "id": "e14337cd-0cfc-4eff-85f2-ce83bae7671e",
   "metadata": {},
   "outputs": [
    {
     "data": {
      "text/plain": [
       "array([4068,   28, 2157], dtype=int64)"
      ]
     },
     "execution_count": 86,
     "metadata": {},
     "output_type": "execute_result"
    }
   ],
   "source": [
    "c_iNrOfMostSimilarUsers = 3\n",
    "aMaxSimilarNUsers = np.argsort(aUserSimilarities[iUserIDEncoded])\n",
    "aMaxSimilarNUsers = aMaxSimilarNUsers[aMaxSimilarNUsers != iUserIDEncoded]\n",
    "aMaxSimilarNUsers = aMaxSimilarNUsers[0:c_iNrOfMostSimilarUsers]\n",
    "aMaxSimilarNUsers"
   ]
  },
  {
   "cell_type": "code",
   "execution_count": 87,
   "id": "6eb0ac25-18e2-4ef8-9e87-7d9e98eaebfc",
   "metadata": {},
   "outputs": [
    {
     "data": {
      "text/plain": [
       "array([2775., 1156., 1160., 3622., 1948., 1162., 1164., 2785., 1167.,\n",
       "       1099.,  575., 2788., 3700., 1169., 1883., 1170., 1173., 1175.,\n",
       "       1106., 1107., 1108., 1109.,  579., 1178., 1182., 1183., 1184.,\n",
       "       1186., 3651.,  713., 1193., 1196., 2108., 2816., 2823.,  842.,\n",
       "        843., 1200.,  844., 1202., 2898.,  849., 1340., 1342.,  858.,\n",
       "       2005.,  863.,  802.,  869., 1414.,  872., 1295.,  805., 1478.,\n",
       "       2855., 2857., 1485.,  879., 2156.,  880.,  882., 2872.,  890.,\n",
       "        894., 3074., 3008., 2877., 2173., 2881.,  904.,  908., 3101.,\n",
       "       2332.,  107., 1584., 3043., 2976., 2203., 3183., 3122., 3192.,\n",
       "        143., 3270., 3274., 3275., 3203., 3133., 3134., 1656., 1741.,\n",
       "       3294.,  309., 3229., 1751., 3309., 3237., 2542.,  253., 3248.,\n",
       "       1773., 1774.,  335., 2557.,  963., 2708., 2709.,  971.,  284.,\n",
       "        287., 2716.,   49., 3488., 2728., 2586., 1050., 1052.,  513.,\n",
       "       3568., 3498., 3571., 1114., 3575., 2664., 2738., 1059., 3508.,\n",
       "       1120., 1121., 1122., 2744., 1124., 1125., 1126., 1839., 1005.,\n",
       "       1006., 1131., 1136., 3526., 1017., 3664., 1139., 2759., 1212.,\n",
       "       1141., 1927., 2762., 1215., 1143., 1144., 1146., 1148., 1151.])"
      ]
     },
     "execution_count": 87,
     "metadata": {},
     "output_type": "execute_result"
    }
   ],
   "source": [
    "aRatedEncodedMovieIds = dfAnalysis[dfAnalysis['user_id_encoded'] == iUserIDEncoded]['movie_id_encoded'].values\n",
    "aRatedEncodedMovieIds"
   ]
  },
  {
   "cell_type": "code",
   "execution_count": 88,
   "id": "4d6cde9c-e9b8-453a-b87c-5b6b9b836e68",
   "metadata": {},
   "outputs": [
    {
     "data": {
      "text/html": [
       "<div>\n",
       "<style scoped>\n",
       "    .dataframe tbody tr th:only-of-type {\n",
       "        vertical-align: middle;\n",
       "    }\n",
       "\n",
       "    .dataframe tbody tr th {\n",
       "        vertical-align: top;\n",
       "    }\n",
       "\n",
       "    .dataframe thead th {\n",
       "        text-align: right;\n",
       "    }\n",
       "</style>\n",
       "<table border=\"1\" class=\"dataframe\">\n",
       "  <thead>\n",
       "    <tr style=\"text-align: right;\">\n",
       "      <th></th>\n",
       "      <th>cosine_distance</th>\n",
       "    </tr>\n",
       "  </thead>\n",
       "  <tbody>\n",
       "    <tr>\n",
       "      <th>4068</th>\n",
       "      <td>0.028727</td>\n",
       "    </tr>\n",
       "    <tr>\n",
       "      <th>28</th>\n",
       "      <td>0.032203</td>\n",
       "    </tr>\n",
       "    <tr>\n",
       "      <th>2157</th>\n",
       "      <td>0.040041</td>\n",
       "    </tr>\n",
       "  </tbody>\n",
       "</table>\n",
       "</div>"
      ],
      "text/plain": [
       "      cosine_distance\n",
       "4068         0.028727\n",
       "28           0.032203\n",
       "2157         0.040041"
      ]
     },
     "execution_count": 88,
     "metadata": {},
     "output_type": "execute_result"
    }
   ],
   "source": [
    "dfCosineDistancesToSimilarUsers = pd.DataFrame(\n",
    "    index = aMaxSimilarNUsers,\n",
    "    data = aUserSimilarities[iUserIDEncoded, aMaxSimilarNUsers],\n",
    "    columns = ['cosine_distance']\n",
    ")\n",
    "dfCosineDistancesToSimilarUsers"
   ]
  },
  {
   "cell_type": "code",
   "execution_count": 89,
   "id": "b5fb5aa5-e424-4114-9e53-30f4aefc083a",
   "metadata": {},
   "outputs": [
    {
     "data": {
      "text/html": [
       "<div>\n",
       "<style scoped>\n",
       "    .dataframe tbody tr th:only-of-type {\n",
       "        vertical-align: middle;\n",
       "    }\n",
       "\n",
       "    .dataframe tbody tr th {\n",
       "        vertical-align: top;\n",
       "    }\n",
       "\n",
       "    .dataframe thead th {\n",
       "        text-align: right;\n",
       "    }\n",
       "</style>\n",
       "<table border=\"1\" class=\"dataframe\">\n",
       "  <thead>\n",
       "    <tr style=\"text-align: right;\">\n",
       "      <th></th>\n",
       "      <th>movie_id_encoded</th>\n",
       "      <th>similarity_weighted_rating</th>\n",
       "    </tr>\n",
       "  </thead>\n",
       "  <tbody>\n",
       "    <tr>\n",
       "      <th>1</th>\n",
       "      <td>1288.0</td>\n",
       "      <td>3.083941</td>\n",
       "    </tr>\n",
       "    <tr>\n",
       "      <th>2</th>\n",
       "      <td>106.0</td>\n",
       "      <td>3.083941</td>\n",
       "    </tr>\n",
       "    <tr>\n",
       "      <th>4</th>\n",
       "      <td>3398.0</td>\n",
       "      <td>2.900255</td>\n",
       "    </tr>\n",
       "    <tr>\n",
       "      <th>5</th>\n",
       "      <td>3392.0</td>\n",
       "      <td>2.900255</td>\n",
       "    </tr>\n",
       "    <tr>\n",
       "      <th>6</th>\n",
       "      <td>2741.0</td>\n",
       "      <td>2.900255</td>\n",
       "    </tr>\n",
       "    <tr>\n",
       "      <th>...</th>\n",
       "      <td>...</td>\n",
       "      <td>...</td>\n",
       "    </tr>\n",
       "    <tr>\n",
       "      <th>216</th>\n",
       "      <td>1987.0</td>\n",
       "      <td>0.549873</td>\n",
       "    </tr>\n",
       "    <tr>\n",
       "      <th>218</th>\n",
       "      <td>2383.0</td>\n",
       "      <td>0.549873</td>\n",
       "    </tr>\n",
       "    <tr>\n",
       "      <th>219</th>\n",
       "      <td>3302.0</td>\n",
       "      <td>0.549873</td>\n",
       "    </tr>\n",
       "    <tr>\n",
       "      <th>220</th>\n",
       "      <td>1737.0</td>\n",
       "      <td>0.383212</td>\n",
       "    </tr>\n",
       "    <tr>\n",
       "      <th>221</th>\n",
       "      <td>3443.0</td>\n",
       "      <td>0.383212</td>\n",
       "    </tr>\n",
       "  </tbody>\n",
       "</table>\n",
       "<p>173 rows × 2 columns</p>\n",
       "</div>"
      ],
      "text/plain": [
       "     movie_id_encoded  similarity_weighted_rating\n",
       "1              1288.0                    3.083941\n",
       "2               106.0                    3.083941\n",
       "4              3398.0                    2.900255\n",
       "5              3392.0                    2.900255\n",
       "6              2741.0                    2.900255\n",
       "..                ...                         ...\n",
       "216            1987.0                    0.549873\n",
       "218            2383.0                    0.549873\n",
       "219            3302.0                    0.549873\n",
       "220            1737.0                    0.383212\n",
       "221            3443.0                    0.383212\n",
       "\n",
       "[173 rows x 2 columns]"
      ]
     },
     "execution_count": 89,
     "metadata": {},
     "output_type": "execute_result"
    }
   ],
   "source": [
    "dfSimilarUserRatings = dfAnalysis[dfAnalysis['user_id_encoded'].isin(aMaxSimilarNUsers)]\n",
    "\n",
    "dfSimilarUserRatings = pd.merge(\n",
    "    left=dfSimilarUserRatings,\n",
    "    right = dfCosineDistancesToSimilarUsers, \n",
    "    left_on = 'user_id_encoded',\n",
    "    right_index = True\n",
    ")\n",
    "\n",
    "dfSimilarUserRatings['similarity_weighted_rating'] = dfSimilarUserRatings['rating']/dfSimilarUserRatings['cosine_distance']\n",
    "dfSimilarUserRatings = dfSimilarUserRatings.groupby(['movie_id_encoded']).sum()['similarity_weighted_rating'].to_frame()\n",
    "dfSimilarUserRatings = (dfSimilarUserRatings['similarity_weighted_rating']/(np.sum(1/dfCosineDistancesToSimilarUsers.values))).to_frame()\n",
    "\n",
    "dfSimilarUserRatings = dfSimilarUserRatings.sort_values(by = 'similarity_weighted_rating',  ascending = False)\n",
    "dfSimilarUserRatings.reset_index(inplace = True)\n",
    "dfSimilarUserRatings = dfSimilarUserRatings[dfSimilarUserRatings['movie_id_encoded'].isin(aRatedEncodedMovieIds) == False]\n",
    "dfSimilarUserRatings"
   ]
  },
  {
   "cell_type": "code",
   "execution_count": 90,
   "id": "8d4c17db-f254-470b-bbee-e213f7cc4305",
   "metadata": {},
   "outputs": [
    {
     "data": {
      "text/html": [
       "<div>\n",
       "<style scoped>\n",
       "    .dataframe tbody tr th:only-of-type {\n",
       "        vertical-align: middle;\n",
       "    }\n",
       "\n",
       "    .dataframe tbody tr th {\n",
       "        vertical-align: top;\n",
       "    }\n",
       "\n",
       "    .dataframe thead th {\n",
       "        text-align: right;\n",
       "    }\n",
       "</style>\n",
       "<table border=\"1\" class=\"dataframe\">\n",
       "  <thead>\n",
       "    <tr style=\"text-align: right;\">\n",
       "      <th></th>\n",
       "      <th>movie_id_encoded</th>\n",
       "      <th>similarity_weighted_rating</th>\n",
       "      <th>expected_rating</th>\n",
       "    </tr>\n",
       "  </thead>\n",
       "  <tbody>\n",
       "    <tr>\n",
       "      <th>1</th>\n",
       "      <td>1288.0</td>\n",
       "      <td>3.083941</td>\n",
       "      <td>4.0</td>\n",
       "    </tr>\n",
       "    <tr>\n",
       "      <th>2</th>\n",
       "      <td>106.0</td>\n",
       "      <td>3.083941</td>\n",
       "      <td>5.0</td>\n",
       "    </tr>\n",
       "    <tr>\n",
       "      <th>4</th>\n",
       "      <td>3398.0</td>\n",
       "      <td>2.900255</td>\n",
       "      <td>4.0</td>\n",
       "    </tr>\n",
       "    <tr>\n",
       "      <th>5</th>\n",
       "      <td>3392.0</td>\n",
       "      <td>2.900255</td>\n",
       "      <td>4.0</td>\n",
       "    </tr>\n",
       "    <tr>\n",
       "      <th>6</th>\n",
       "      <td>2741.0</td>\n",
       "      <td>2.900255</td>\n",
       "      <td>4.0</td>\n",
       "    </tr>\n",
       "    <tr>\n",
       "      <th>...</th>\n",
       "      <td>...</td>\n",
       "      <td>...</td>\n",
       "      <td>...</td>\n",
       "    </tr>\n",
       "    <tr>\n",
       "      <th>216</th>\n",
       "      <td>1987.0</td>\n",
       "      <td>0.549873</td>\n",
       "      <td>3.0</td>\n",
       "    </tr>\n",
       "    <tr>\n",
       "      <th>218</th>\n",
       "      <td>2383.0</td>\n",
       "      <td>0.549873</td>\n",
       "      <td>4.0</td>\n",
       "    </tr>\n",
       "    <tr>\n",
       "      <th>219</th>\n",
       "      <td>3302.0</td>\n",
       "      <td>0.549873</td>\n",
       "      <td>5.0</td>\n",
       "    </tr>\n",
       "    <tr>\n",
       "      <th>220</th>\n",
       "      <td>1737.0</td>\n",
       "      <td>0.383212</td>\n",
       "      <td>3.0</td>\n",
       "    </tr>\n",
       "    <tr>\n",
       "      <th>221</th>\n",
       "      <td>3443.0</td>\n",
       "      <td>0.383212</td>\n",
       "      <td>4.0</td>\n",
       "    </tr>\n",
       "  </tbody>\n",
       "</table>\n",
       "<p>173 rows × 3 columns</p>\n",
       "</div>"
      ],
      "text/plain": [
       "     movie_id_encoded  similarity_weighted_rating  expected_rating\n",
       "1              1288.0                    3.083941              4.0\n",
       "2               106.0                    3.083941              5.0\n",
       "4              3398.0                    2.900255              4.0\n",
       "5              3392.0                    2.900255              4.0\n",
       "6              2741.0                    2.900255              4.0\n",
       "..                ...                         ...              ...\n",
       "216            1987.0                    0.549873              3.0\n",
       "218            2383.0                    0.549873              4.0\n",
       "219            3302.0                    0.549873              5.0\n",
       "220            1737.0                    0.383212              3.0\n",
       "221            3443.0                    0.383212              4.0\n",
       "\n",
       "[173 rows x 3 columns]"
      ]
     },
     "execution_count": 90,
     "metadata": {},
     "output_type": "execute_result"
    }
   ],
   "source": [
    "\n",
    "for ix, srs in dfSimilarUserRatings.iterrows():\n",
    "    \n",
    "    iMovieIdEncoded = srs['movie_id_encoded']\n",
    "    iMovieId = oMovieEncoder.inverse_transform(np.array(iMovieIdEncoded).reshape(-1, 1)) [0][0]\n",
    "    aMovieGenres = dfMovies.loc[iMovieId][gc_a_GENRES].values\n",
    "    \n",
    "    a_inference_movie_X = np.array([iMovieIdEncoded] + list(aMovieGenres)).reshape(1, -1)\n",
    "    a_inference_user_X= np.array([iUserIDEncoded] + list(aMovieGenres)).reshape(1, -1)\n",
    "    \n",
    "\n",
    "    aProbs =  oModelRatingEstimator.predict([a_inference_movie_X, a_inference_user_X])\n",
    "    iExpectedRating =  np.argmax(aProbs)  + 1\n",
    "    dfSimilarUserRatings.loc[ix, 'expected_rating'] = iExpectedRating\n",
    "    \n",
    "dfSimilarUserRatings"
   ]
  },
  {
   "cell_type": "code",
   "execution_count": 91,
   "id": "28a4c456-614e-4908-a4b3-0d70a6753c82",
   "metadata": {},
   "outputs": [],
   "source": [
    "oInferenceMinMaxScaler = MinMaxScaler((np.min(dfSimilarUserRatings['expected_rating'].values), np.max(dfSimilarUserRatings['expected_rating'].values)))\n",
    "dfSimilarUserRatings['normalized_similarity_weighted_rating'] = oInferenceMinMaxScaler.fit_transform(dfSimilarUserRatings['similarity_weighted_rating'].values.reshape(-1, 1))\n",
    "\n",
    "dfSimilarUserRatings['similarity_and_expectation_weighted_rating'] = dfSimilarUserRatings['normalized_similarity_weighted_rating'] + dfSimilarUserRatings['expected_rating']\n",
    "\n",
    "oInferenceMinMaxScaler = MinMaxScaler((np.min(dfSimilarUserRatings['expected_rating'].values), np.max(dfSimilarUserRatings['expected_rating'].values)))\n",
    "dfSimilarUserRatings['normalized_similarity_and_expectation_weighted_rating'] = oInferenceMinMaxScaler.fit_transform(dfSimilarUserRatings['similarity_and_expectation_weighted_rating'].values.reshape(-1, 1))\n"
   ]
  },
  {
   "cell_type": "code",
   "execution_count": 92,
   "id": "b7f8e66c-f710-44ac-a6ce-aa04cdcab0ef",
   "metadata": {},
   "outputs": [
    {
     "data": {
      "text/html": [
       "<div>\n",
       "<style scoped>\n",
       "    .dataframe tbody tr th:only-of-type {\n",
       "        vertical-align: middle;\n",
       "    }\n",
       "\n",
       "    .dataframe tbody tr th {\n",
       "        vertical-align: top;\n",
       "    }\n",
       "\n",
       "    .dataframe thead th {\n",
       "        text-align: right;\n",
       "    }\n",
       "</style>\n",
       "<table border=\"1\" class=\"dataframe\">\n",
       "  <thead>\n",
       "    <tr style=\"text-align: right;\">\n",
       "      <th></th>\n",
       "      <th>movie_id</th>\n",
       "      <th>normalized_similarity_and_expectation_weighted_rating</th>\n",
       "      <th>title</th>\n",
       "      <th>genres</th>\n",
       "    </tr>\n",
       "  </thead>\n",
       "  <tbody>\n",
       "    <tr>\n",
       "      <th>0</th>\n",
       "      <td>110</td>\n",
       "      <td>5.000000</td>\n",
       "      <td>Braveheart (1995)</td>\n",
       "      <td>Action|Drama|War</td>\n",
       "    </tr>\n",
       "    <tr>\n",
       "      <th>1</th>\n",
       "      <td>1220</td>\n",
       "      <td>4.898199</td>\n",
       "      <td>Blues Brothers, The (1980)</td>\n",
       "      <td>Action|Comedy|Musical</td>\n",
       "    </tr>\n",
       "    <tr>\n",
       "      <th>2</th>\n",
       "      <td>1244</td>\n",
       "      <td>4.872970</td>\n",
       "      <td>Manhattan (1979)</td>\n",
       "      <td>Comedy|Drama|Romance</td>\n",
       "    </tr>\n",
       "    <tr>\n",
       "      <th>3</th>\n",
       "      <td>541</td>\n",
       "      <td>4.645044</td>\n",
       "      <td>Blade Runner (1982)</td>\n",
       "      <td>Film-Noir|Sci-Fi</td>\n",
       "    </tr>\n",
       "    <tr>\n",
       "      <th>4</th>\n",
       "      <td>1639</td>\n",
       "      <td>4.567568</td>\n",
       "      <td>Chasing Amy (1997)</td>\n",
       "      <td>Drama|Romance</td>\n",
       "    </tr>\n",
       "  </tbody>\n",
       "</table>\n",
       "</div>"
      ],
      "text/plain": [
       "   movie_id  normalized_similarity_and_expectation_weighted_rating  \\\n",
       "0       110                                           5.000000       \n",
       "1      1220                                           4.898199       \n",
       "2      1244                                           4.872970       \n",
       "3       541                                           4.645044       \n",
       "4      1639                                           4.567568       \n",
       "\n",
       "                        title                 genres  \n",
       "0           Braveheart (1995)       Action|Drama|War  \n",
       "1  Blues Brothers, The (1980)  Action|Comedy|Musical  \n",
       "2            Manhattan (1979)   Comedy|Drama|Romance  \n",
       "3         Blade Runner (1982)       Film-Noir|Sci-Fi  \n",
       "4          Chasing Amy (1997)          Drama|Romance  "
      ]
     },
     "execution_count": 92,
     "metadata": {},
     "output_type": "execute_result"
    }
   ],
   "source": [
    "dfToRecommend = dfSimilarUserRatings.copy()\n",
    "\n",
    "c_iTopNItemsToRecommend = 5\n",
    "\n",
    "dfToRecommend.sort_values(by = 'normalized_similarity_and_expectation_weighted_rating', ascending = False , inplace = True)\n",
    "\n",
    "dfToRecommend['movie_id'] =  oMovieEncoder.inverse_transform(dfToRecommend['movie_id_encoded'].to_frame())\n",
    "dfToRecommend = pd.merge(left = dfToRecommend, right = dfCopyMovies, left_on = 'movie_id', right_on = 'movie_id')\n",
    "\n",
    "dfToRecommend[['movie_id', 'normalized_similarity_and_expectation_weighted_rating', 'title', 'genres']].head(c_iTopNItemsToRecommend)"
   ]
  },
  {
   "cell_type": "markdown",
   "id": "0a3a3d2f-c640-41f0-8461-855919dd4383",
   "metadata": {},
   "source": [
    "## User History"
   ]
  },
  {
   "cell_type": "code",
   "execution_count": 96,
   "id": "c4a691b9-7b8d-460d-a092-963a6fae1b83",
   "metadata": {},
   "outputs": [
    {
     "data": {
      "text/html": [
       "<div>\n",
       "<style scoped>\n",
       "    .dataframe tbody tr th:only-of-type {\n",
       "        vertical-align: middle;\n",
       "    }\n",
       "\n",
       "    .dataframe tbody tr th {\n",
       "        vertical-align: top;\n",
       "    }\n",
       "\n",
       "    .dataframe thead th {\n",
       "        text-align: right;\n",
       "    }\n",
       "</style>\n",
       "<table border=\"1\" class=\"dataframe\">\n",
       "  <thead>\n",
       "    <tr style=\"text-align: right;\">\n",
       "      <th></th>\n",
       "      <th>user_id</th>\n",
       "      <th>movie_id</th>\n",
       "      <th>rating</th>\n",
       "      <th>timestamp</th>\n",
       "      <th>title</th>\n",
       "      <th>genres</th>\n",
       "    </tr>\n",
       "  </thead>\n",
       "  <tbody>\n",
       "    <tr>\n",
       "      <th>152</th>\n",
       "      <td>205</td>\n",
       "      <td>1243</td>\n",
       "      <td>5</td>\n",
       "      <td>2000-12-15 23:36:59</td>\n",
       "      <td>Rosencrantz and Guildenstern Are Dead (1990)</td>\n",
       "      <td>Comedy|Drama</td>\n",
       "    </tr>\n",
       "    <tr>\n",
       "      <th>60</th>\n",
       "      <td>205</td>\n",
       "      <td>943</td>\n",
       "      <td>5</td>\n",
       "      <td>2000-12-15 23:44:57</td>\n",
       "      <td>Ghost and Mrs. Muir, The (1947)</td>\n",
       "      <td>Drama|Romance</td>\n",
       "    </tr>\n",
       "    <tr>\n",
       "      <th>71</th>\n",
       "      <td>205</td>\n",
       "      <td>3327</td>\n",
       "      <td>5</td>\n",
       "      <td>2000-12-15 23:43:04</td>\n",
       "      <td>Beyond the Mat (2000)</td>\n",
       "      <td>Documentary</td>\n",
       "    </tr>\n",
       "    <tr>\n",
       "      <th>132</th>\n",
       "      <td>205</td>\n",
       "      <td>1216</td>\n",
       "      <td>5</td>\n",
       "      <td>2000-12-15 23:42:08</td>\n",
       "      <td>Big Blue, The (Le Grand Bleu) (1988)</td>\n",
       "      <td>Adventure|Romance</td>\n",
       "    </tr>\n",
       "    <tr>\n",
       "      <th>133</th>\n",
       "      <td>205</td>\n",
       "      <td>2019</td>\n",
       "      <td>5</td>\n",
       "      <td>2000-12-15 23:43:04</td>\n",
       "      <td>Seven Samurai (The Magnificent Seven) (Shichin...</td>\n",
       "      <td>Action|Drama</td>\n",
       "    </tr>\n",
       "    <tr>\n",
       "      <th>134</th>\n",
       "      <td>205</td>\n",
       "      <td>1077</td>\n",
       "      <td>5</td>\n",
       "      <td>2000-12-15 23:35:35</td>\n",
       "      <td>Sleeper (1973)</td>\n",
       "      <td>Comedy|Sci-Fi</td>\n",
       "    </tr>\n",
       "    <tr>\n",
       "      <th>135</th>\n",
       "      <td>205</td>\n",
       "      <td>1078</td>\n",
       "      <td>5</td>\n",
       "      <td>2000-12-15 23:21:57</td>\n",
       "      <td>Bananas (1971)</td>\n",
       "      <td>Comedy|War</td>\n",
       "    </tr>\n",
       "    <tr>\n",
       "      <th>136</th>\n",
       "      <td>205</td>\n",
       "      <td>1221</td>\n",
       "      <td>5</td>\n",
       "      <td>2000-12-15 23:44:57</td>\n",
       "      <td>Godfather: Part II, The (1974)</td>\n",
       "      <td>Action|Crime|Drama</td>\n",
       "    </tr>\n",
       "    <tr>\n",
       "      <th>62</th>\n",
       "      <td>205</td>\n",
       "      <td>951</td>\n",
       "      <td>5</td>\n",
       "      <td>2000-12-15 23:21:06</td>\n",
       "      <td>His Girl Friday (1940)</td>\n",
       "      <td>Comedy</td>\n",
       "    </tr>\n",
       "    <tr>\n",
       "      <th>61</th>\n",
       "      <td>205</td>\n",
       "      <td>3088</td>\n",
       "      <td>5</td>\n",
       "      <td>2000-12-15 23:38:24</td>\n",
       "      <td>Harvey (1950)</td>\n",
       "      <td>Comedy</td>\n",
       "    </tr>\n",
       "    <tr>\n",
       "      <th>139</th>\n",
       "      <td>205</td>\n",
       "      <td>1089</td>\n",
       "      <td>5</td>\n",
       "      <td>2000-12-15 23:17:31</td>\n",
       "      <td>Reservoir Dogs (1992)</td>\n",
       "      <td>Crime|Thriller</td>\n",
       "    </tr>\n",
       "    <tr>\n",
       "      <th>43</th>\n",
       "      <td>205</td>\n",
       "      <td>1449</td>\n",
       "      <td>5</td>\n",
       "      <td>2000-12-15 23:37:35</td>\n",
       "      <td>Waiting for Guffman (1996)</td>\n",
       "      <td>Comedy</td>\n",
       "    </tr>\n",
       "    <tr>\n",
       "      <th>56</th>\n",
       "      <td>205</td>\n",
       "      <td>1617</td>\n",
       "      <td>5</td>\n",
       "      <td>2000-12-15 23:45:10</td>\n",
       "      <td>L.A. Confidential (1997)</td>\n",
       "      <td>Crime|Film-Noir|Mystery|Thriller</td>\n",
       "    </tr>\n",
       "    <tr>\n",
       "      <th>110</th>\n",
       "      <td>205</td>\n",
       "      <td>50</td>\n",
       "      <td>5</td>\n",
       "      <td>2000-12-15 23:18:45</td>\n",
       "      <td>Usual Suspects, The (1995)</td>\n",
       "      <td>Crime|Thriller</td>\n",
       "    </tr>\n",
       "    <tr>\n",
       "      <th>54</th>\n",
       "      <td>205</td>\n",
       "      <td>3070</td>\n",
       "      <td>5</td>\n",
       "      <td>2000-12-15 23:35:35</td>\n",
       "      <td>Adventures of Buckaroo Bonzai Across the 8th D...</td>\n",
       "      <td>Adventure|Comedy|Sci-Fi</td>\n",
       "    </tr>\n",
       "    <tr>\n",
       "      <th>141</th>\n",
       "      <td>205</td>\n",
       "      <td>1230</td>\n",
       "      <td>5</td>\n",
       "      <td>2000-12-15 23:21:22</td>\n",
       "      <td>Annie Hall (1977)</td>\n",
       "      <td>Comedy|Romance</td>\n",
       "    </tr>\n",
       "    <tr>\n",
       "      <th>52</th>\n",
       "      <td>205</td>\n",
       "      <td>861</td>\n",
       "      <td>5</td>\n",
       "      <td>2000-12-15 23:18:59</td>\n",
       "      <td>Supercop (1992)</td>\n",
       "      <td>Action|Thriller</td>\n",
       "    </tr>\n",
       "    <tr>\n",
       "      <th>50</th>\n",
       "      <td>205</td>\n",
       "      <td>933</td>\n",
       "      <td>5</td>\n",
       "      <td>2000-12-15 23:36:35</td>\n",
       "      <td>To Catch a Thief (1955)</td>\n",
       "      <td>Comedy|Romance|Thriller</td>\n",
       "    </tr>\n",
       "    <tr>\n",
       "      <th>47</th>\n",
       "      <td>205</td>\n",
       "      <td>858</td>\n",
       "      <td>5</td>\n",
       "      <td>2000-12-15 23:43:16</td>\n",
       "      <td>Godfather, The (1972)</td>\n",
       "      <td>Action|Crime|Drama</td>\n",
       "    </tr>\n",
       "    <tr>\n",
       "      <th>143</th>\n",
       "      <td>205</td>\n",
       "      <td>1304</td>\n",
       "      <td>5</td>\n",
       "      <td>2000-12-15 23:22:14</td>\n",
       "      <td>Butch Cassidy and the Sundance Kid (1969)</td>\n",
       "      <td>Action|Comedy|Western</td>\n",
       "    </tr>\n",
       "  </tbody>\n",
       "</table>\n",
       "</div>"
      ],
      "text/plain": [
       "     user_id  movie_id  rating           timestamp  \\\n",
       "152      205      1243       5 2000-12-15 23:36:59   \n",
       "60       205       943       5 2000-12-15 23:44:57   \n",
       "71       205      3327       5 2000-12-15 23:43:04   \n",
       "132      205      1216       5 2000-12-15 23:42:08   \n",
       "133      205      2019       5 2000-12-15 23:43:04   \n",
       "134      205      1077       5 2000-12-15 23:35:35   \n",
       "135      205      1078       5 2000-12-15 23:21:57   \n",
       "136      205      1221       5 2000-12-15 23:44:57   \n",
       "62       205       951       5 2000-12-15 23:21:06   \n",
       "61       205      3088       5 2000-12-15 23:38:24   \n",
       "139      205      1089       5 2000-12-15 23:17:31   \n",
       "43       205      1449       5 2000-12-15 23:37:35   \n",
       "56       205      1617       5 2000-12-15 23:45:10   \n",
       "110      205        50       5 2000-12-15 23:18:45   \n",
       "54       205      3070       5 2000-12-15 23:35:35   \n",
       "141      205      1230       5 2000-12-15 23:21:22   \n",
       "52       205       861       5 2000-12-15 23:18:59   \n",
       "50       205       933       5 2000-12-15 23:36:35   \n",
       "47       205       858       5 2000-12-15 23:43:16   \n",
       "143      205      1304       5 2000-12-15 23:22:14   \n",
       "\n",
       "                                                 title  \\\n",
       "152       Rosencrantz and Guildenstern Are Dead (1990)   \n",
       "60                     Ghost and Mrs. Muir, The (1947)   \n",
       "71                               Beyond the Mat (2000)   \n",
       "132               Big Blue, The (Le Grand Bleu) (1988)   \n",
       "133  Seven Samurai (The Magnificent Seven) (Shichin...   \n",
       "134                                     Sleeper (1973)   \n",
       "135                                     Bananas (1971)   \n",
       "136                     Godfather: Part II, The (1974)   \n",
       "62                              His Girl Friday (1940)   \n",
       "61                                       Harvey (1950)   \n",
       "139                              Reservoir Dogs (1992)   \n",
       "43                          Waiting for Guffman (1996)   \n",
       "56                            L.A. Confidential (1997)   \n",
       "110                         Usual Suspects, The (1995)   \n",
       "54   Adventures of Buckaroo Bonzai Across the 8th D...   \n",
       "141                                  Annie Hall (1977)   \n",
       "52                                     Supercop (1992)   \n",
       "50                             To Catch a Thief (1955)   \n",
       "47                               Godfather, The (1972)   \n",
       "143          Butch Cassidy and the Sundance Kid (1969)   \n",
       "\n",
       "                               genres  \n",
       "152                      Comedy|Drama  \n",
       "60                      Drama|Romance  \n",
       "71                        Documentary  \n",
       "132                 Adventure|Romance  \n",
       "133                      Action|Drama  \n",
       "134                     Comedy|Sci-Fi  \n",
       "135                        Comedy|War  \n",
       "136                Action|Crime|Drama  \n",
       "62                             Comedy  \n",
       "61                             Comedy  \n",
       "139                    Crime|Thriller  \n",
       "43                             Comedy  \n",
       "56   Crime|Film-Noir|Mystery|Thriller  \n",
       "110                    Crime|Thriller  \n",
       "54            Adventure|Comedy|Sci-Fi  \n",
       "141                    Comedy|Romance  \n",
       "52                    Action|Thriller  \n",
       "50            Comedy|Romance|Thriller  \n",
       "47                 Action|Crime|Drama  \n",
       "143             Action|Comedy|Western  "
      ]
     },
     "execution_count": 96,
     "metadata": {},
     "output_type": "execute_result"
    }
   ],
   "source": [
    "dfUserHistory =  dfRatings[dfRatings['user_id'] == iUserID]\n",
    "dfUserHistory = pd.merge(left = dfUserHistory , right= dfCopyMovies, left_on = 'movie_id', right_on = 'movie_id' )\n",
    "dfUserHistory.sort_values(by = 'rating',  ascending = False, inplace = True)\n",
    "dfUserHistory.head(20)"
   ]
  },
  {
   "cell_type": "markdown",
   "id": "bfaca5ba-a9e4-4a88-946d-049c72e97997",
   "metadata": {
    "jp-MarkdownHeadingCollapsed": true,
    "tags": []
   },
   "source": [
    "# FUTURE STEPS"
   ]
  },
  {
   "cell_type": "markdown",
   "id": "21310a63-5e5f-4bc0-92cb-4110bcff14b8",
   "metadata": {},
   "source": [
    "1. Book https://www.amazon.com/Recommender-Systems-Introduction-Dietmar-Jannach/dp/0521493366 should be read.\n",
    "1. For Embedding layer of movies, vocabulary of **title** of movie can be used.\n",
    "1. Scalibility is a challage. When there are millions of items. \n",
    "1. It is challange When a new user or new movie is added. Or when a person starts to rate.\n",
    "1. Sequence of user ratings is important\n",
    "1. Large dataset with a lof of users and movies are problem. Pandas will give out of memery error. \n",
    "1. Cross-Validation could be applied.\n",
    "1. Don't recommend second version of series if the user did not watch the first ones."
   ]
  },
  {
   "cell_type": "markdown",
   "id": "83e15b57-949f-43af-98f5-4d631ff67a7e",
   "metadata": {
    "tags": []
   },
   "source": [
    "# REFERENCES"
   ]
  },
  {
   "cell_type": "markdown",
   "id": "636f28ea-564e-4bd6-99b4-027562a4a624",
   "metadata": {},
   "source": [
    "1. https://developers.google.com/machine-learning/clustering/similarity/supervised-similarity\n",
    "1. https://towardsdatascience.com/recommender-systems-from-learned-embeddings-f1d12288f278#:~:text=Embeddings%20are%20vector%20representations%20of,and%20user%20IDs%20as%20embeddings.\n",
    "1. https://netflixtechblog.com/netflix-recommendations-beyond-the-5-stars-part-1-55838468f429\n",
    "1. https://netflixtechblog.com/netflix-recommendations-beyond-the-5-stars-part-2-d9b96aa399f5\n",
    "1. https://blog.tensorflow.org/2020/09/introducing-tensorflow-recommenders.html\n",
    "1. http://buzzard.ups.edu/courses/2014spring/420projects/math420-UPS-spring-2014-gower-netflix-SVD.pdf"
   ]
  }
 ],
 "metadata": {
  "kernelspec": {
   "display_name": "Python 3",
   "language": "python",
   "name": "python3"
  },
  "language_info": {
   "codemirror_mode": {
    "name": "ipython",
    "version": 3
   },
   "file_extension": ".py",
   "mimetype": "text/x-python",
   "name": "python",
   "nbconvert_exporter": "python",
   "pygments_lexer": "ipython3",
   "version": "3.7.10"
  }
 },
 "nbformat": 4,
 "nbformat_minor": 5
}
