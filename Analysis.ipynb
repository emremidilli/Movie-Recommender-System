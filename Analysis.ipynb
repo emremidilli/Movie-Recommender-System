{
 "cells": [
  {
   "cell_type": "markdown",
   "id": "0e0b4891-c21a-4bfa-a6c1-39e15e19e310",
   "metadata": {
    "tags": []
   },
   "source": [
    "# INTRODUCTION"
   ]
  },
  {
   "cell_type": "markdown",
   "id": "b5e4bd9d-06bc-4f80-a47d-fc282993fed2",
   "metadata": {},
   "source": [
    "* **Goal**\n",
    "    \n",
    "    * The goal becomes to find a personalized tastes.\n",
    "\n",
    "* **Scoring Approach**\n",
    "\n",
    "    * For **training** purpose, dot product of embedding layers of users and movies are used.\n",
    "    * For **inference** purpose, \n",
    "        * Top 3 most similar customers are identified based **cosine distance** of user and mvoies embedding matrices.\n",
    "        * Normalized ratings of similar customers are taken.\n",
    "        * Expected rating, $r_{a,i}^{cos}$, of the movie $i$ by the customer $a$ is calculated as follows: $${r_{a,i}^{cos} = \\frac{\\sum_{b}r_{b,i}^{cos} \\times sim(a,b)}{\\sum_{b}sim(a,b)}}$$ where $b$ is list of most similar customers. $sim(a,b)$ is the similarity metric which is inverse of cosine distance. $$sim(a,b) = \\frac{1}{cosdist(a,b)}$$\n",
    "        * $r_{a,i}^{model}$ is the expected rating which is calculated by deep learning model.\n",
    "        * Final suggestion is calculated based on values of $$r^{final}_{a,i} = r^{model}_{a,i} + r^{cos}_{a,i} $$\n",
    "    \n",
    "\n",
    "* **Limitations**\n",
    "    * It is assumed that inference is done only for the rated movies and by the users who already rated."
   ]
  },
  {
   "cell_type": "markdown",
   "id": "38b530b2-ea52-4d61-b5c3-76eb2aaff33a",
   "metadata": {
    "tags": []
   },
   "source": [
    "# LIBRARIES"
   ]
  },
  {
   "cell_type": "code",
   "execution_count": 1,
   "id": "0e9c55a1-ef5e-4637-ae61-cb2e3b440e5d",
   "metadata": {},
   "outputs": [],
   "source": [
    "import pandas as pd\n",
    "\n",
    "import numpy as np\n",
    "\n",
    "from tensorflow.keras.utils import plot_model\n",
    "\n",
    "from sklearn.metrics import confusion_matrix\n",
    "from sklearn.metrics import ConfusionMatrixDisplay\n",
    "from sklearn.metrics import classification_report\n",
    "\n",
    "import seaborn as sns\n",
    "import matplotlib.pyplot as plt\n",
    "\n",
    "from Movie_Recommender import SourceData, PreProcessing, DeepLearning, Recommendation"
   ]
  },
  {
   "cell_type": "code",
   "execution_count": 2,
   "id": "d133117e-58bf-4e43-8d58-9a40a49cff56",
   "metadata": {},
   "outputs": [],
   "source": [
    "np.set_printoptions(suppress=True)"
   ]
  },
  {
   "cell_type": "markdown",
   "id": "0e743e57-588d-4455-82c1-74875306eb7b",
   "metadata": {
    "jp-MarkdownHeadingCollapsed": true,
    "tags": []
   },
   "source": [
    "# DATA SOURCE"
   ]
  },
  {
   "cell_type": "markdown",
   "id": "4206f404-0fbe-4d9e-85db-34eb18efb983",
   "metadata": {},
   "source": [
    "Data is downloaded from the link https://www.kaggle.com/datasets/san1201/movielens1m?select=ml-1m.train.csv"
   ]
  },
  {
   "cell_type": "markdown",
   "id": "a6971f14-009d-4fda-bc45-2afd6ae0af35",
   "metadata": {
    "tags": []
   },
   "source": [
    "## Users"
   ]
  },
  {
   "cell_type": "code",
   "execution_count": 3,
   "id": "8342fc19-8867-4c80-97a0-9c8c84a2250b",
   "metadata": {},
   "outputs": [
    {
     "data": {
      "text/html": [
       "<div>\n",
       "<style scoped>\n",
       "    .dataframe tbody tr th:only-of-type {\n",
       "        vertical-align: middle;\n",
       "    }\n",
       "\n",
       "    .dataframe tbody tr th {\n",
       "        vertical-align: top;\n",
       "    }\n",
       "\n",
       "    .dataframe thead th {\n",
       "        text-align: right;\n",
       "    }\n",
       "</style>\n",
       "<table border=\"1\" class=\"dataframe\">\n",
       "  <thead>\n",
       "    <tr style=\"text-align: right;\">\n",
       "      <th></th>\n",
       "      <th>gender</th>\n",
       "      <th>age</th>\n",
       "      <th>occupation</th>\n",
       "      <th>zip_code</th>\n",
       "    </tr>\n",
       "    <tr>\n",
       "      <th>user_id</th>\n",
       "      <th></th>\n",
       "      <th></th>\n",
       "      <th></th>\n",
       "      <th></th>\n",
       "    </tr>\n",
       "  </thead>\n",
       "  <tbody>\n",
       "    <tr>\n",
       "      <th>1</th>\n",
       "      <td>F</td>\n",
       "      <td>1</td>\n",
       "      <td>10</td>\n",
       "      <td>48067</td>\n",
       "    </tr>\n",
       "    <tr>\n",
       "      <th>2</th>\n",
       "      <td>M</td>\n",
       "      <td>56</td>\n",
       "      <td>16</td>\n",
       "      <td>70072</td>\n",
       "    </tr>\n",
       "    <tr>\n",
       "      <th>3</th>\n",
       "      <td>M</td>\n",
       "      <td>25</td>\n",
       "      <td>15</td>\n",
       "      <td>55117</td>\n",
       "    </tr>\n",
       "    <tr>\n",
       "      <th>4</th>\n",
       "      <td>M</td>\n",
       "      <td>45</td>\n",
       "      <td>7</td>\n",
       "      <td>02460</td>\n",
       "    </tr>\n",
       "    <tr>\n",
       "      <th>5</th>\n",
       "      <td>M</td>\n",
       "      <td>25</td>\n",
       "      <td>20</td>\n",
       "      <td>55455</td>\n",
       "    </tr>\n",
       "  </tbody>\n",
       "</table>\n",
       "</div>"
      ],
      "text/plain": [
       "        gender  age  occupation zip_code\n",
       "user_id                                 \n",
       "1            F    1          10    48067\n",
       "2            M   56          16    70072\n",
       "3            M   25          15    55117\n",
       "4            M   45           7    02460\n",
       "5            M   25          20    55455"
      ]
     },
     "execution_count": 3,
     "metadata": {},
     "output_type": "execute_result"
    }
   ],
   "source": [
    "dfUsers = SourceData.dfGetUsers()\n",
    "dfCopyUsers = dfUsers.copy()\n",
    "dfUsers.head()"
   ]
  },
  {
   "cell_type": "markdown",
   "id": "2283798d-0d7e-44bd-b677-8e626f883eaf",
   "metadata": {
    "tags": []
   },
   "source": [
    "## Movies"
   ]
  },
  {
   "cell_type": "code",
   "execution_count": 4,
   "id": "ddaf93d9-757b-437c-9458-f5440c35165d",
   "metadata": {},
   "outputs": [
    {
     "data": {
      "text/html": [
       "<div>\n",
       "<style scoped>\n",
       "    .dataframe tbody tr th:only-of-type {\n",
       "        vertical-align: middle;\n",
       "    }\n",
       "\n",
       "    .dataframe tbody tr th {\n",
       "        vertical-align: top;\n",
       "    }\n",
       "\n",
       "    .dataframe thead th {\n",
       "        text-align: right;\n",
       "    }\n",
       "</style>\n",
       "<table border=\"1\" class=\"dataframe\">\n",
       "  <thead>\n",
       "    <tr style=\"text-align: right;\">\n",
       "      <th></th>\n",
       "      <th>title</th>\n",
       "      <th>genres</th>\n",
       "    </tr>\n",
       "    <tr>\n",
       "      <th>movie_id</th>\n",
       "      <th></th>\n",
       "      <th></th>\n",
       "    </tr>\n",
       "  </thead>\n",
       "  <tbody>\n",
       "    <tr>\n",
       "      <th>1</th>\n",
       "      <td>Toy Story (1995)</td>\n",
       "      <td>Animation|Children's|Comedy</td>\n",
       "    </tr>\n",
       "    <tr>\n",
       "      <th>2</th>\n",
       "      <td>Jumanji (1995)</td>\n",
       "      <td>Adventure|Children's|Fantasy</td>\n",
       "    </tr>\n",
       "    <tr>\n",
       "      <th>3</th>\n",
       "      <td>Grumpier Old Men (1995)</td>\n",
       "      <td>Comedy|Romance</td>\n",
       "    </tr>\n",
       "    <tr>\n",
       "      <th>4</th>\n",
       "      <td>Waiting to Exhale (1995)</td>\n",
       "      <td>Comedy|Drama</td>\n",
       "    </tr>\n",
       "    <tr>\n",
       "      <th>5</th>\n",
       "      <td>Father of the Bride Part II (1995)</td>\n",
       "      <td>Comedy</td>\n",
       "    </tr>\n",
       "  </tbody>\n",
       "</table>\n",
       "</div>"
      ],
      "text/plain": [
       "                                       title                        genres\n",
       "movie_id                                                                  \n",
       "1                           Toy Story (1995)   Animation|Children's|Comedy\n",
       "2                             Jumanji (1995)  Adventure|Children's|Fantasy\n",
       "3                    Grumpier Old Men (1995)                Comedy|Romance\n",
       "4                   Waiting to Exhale (1995)                  Comedy|Drama\n",
       "5         Father of the Bride Part II (1995)                        Comedy"
      ]
     },
     "execution_count": 4,
     "metadata": {},
     "output_type": "execute_result"
    }
   ],
   "source": [
    "dfMovies = SourceData.dfGetMovies()\n",
    "dfCopyMovies = dfMovies.copy()\n",
    "dfMovies.head()"
   ]
  },
  {
   "cell_type": "markdown",
   "id": "fa649dbd-7328-4c50-b3b1-270e9d4a95d5",
   "metadata": {
    "tags": []
   },
   "source": [
    "## Ratings"
   ]
  },
  {
   "cell_type": "code",
   "execution_count": 5,
   "id": "4fa20c83-30f3-4853-8721-eec372b5c79f",
   "metadata": {},
   "outputs": [
    {
     "data": {
      "text/html": [
       "<div>\n",
       "<style scoped>\n",
       "    .dataframe tbody tr th:only-of-type {\n",
       "        vertical-align: middle;\n",
       "    }\n",
       "\n",
       "    .dataframe tbody tr th {\n",
       "        vertical-align: top;\n",
       "    }\n",
       "\n",
       "    .dataframe thead th {\n",
       "        text-align: right;\n",
       "    }\n",
       "</style>\n",
       "<table border=\"1\" class=\"dataframe\">\n",
       "  <thead>\n",
       "    <tr style=\"text-align: right;\">\n",
       "      <th></th>\n",
       "      <th>user_id</th>\n",
       "      <th>movie_id</th>\n",
       "      <th>rating</th>\n",
       "      <th>timestamp</th>\n",
       "    </tr>\n",
       "  </thead>\n",
       "  <tbody>\n",
       "    <tr>\n",
       "      <th>0</th>\n",
       "      <td>1</td>\n",
       "      <td>1193</td>\n",
       "      <td>5</td>\n",
       "      <td>978300760</td>\n",
       "    </tr>\n",
       "    <tr>\n",
       "      <th>1</th>\n",
       "      <td>1</td>\n",
       "      <td>661</td>\n",
       "      <td>3</td>\n",
       "      <td>978302109</td>\n",
       "    </tr>\n",
       "    <tr>\n",
       "      <th>2</th>\n",
       "      <td>1</td>\n",
       "      <td>914</td>\n",
       "      <td>3</td>\n",
       "      <td>978301968</td>\n",
       "    </tr>\n",
       "    <tr>\n",
       "      <th>3</th>\n",
       "      <td>1</td>\n",
       "      <td>3408</td>\n",
       "      <td>4</td>\n",
       "      <td>978300275</td>\n",
       "    </tr>\n",
       "    <tr>\n",
       "      <th>4</th>\n",
       "      <td>1</td>\n",
       "      <td>2355</td>\n",
       "      <td>5</td>\n",
       "      <td>978824291</td>\n",
       "    </tr>\n",
       "  </tbody>\n",
       "</table>\n",
       "</div>"
      ],
      "text/plain": [
       "   user_id  movie_id  rating  timestamp\n",
       "0        1      1193       5  978300760\n",
       "1        1       661       3  978302109\n",
       "2        1       914       3  978301968\n",
       "3        1      3408       4  978300275\n",
       "4        1      2355       5  978824291"
      ]
     },
     "execution_count": 5,
     "metadata": {},
     "output_type": "execute_result"
    }
   ],
   "source": [
    "dfRatings = SourceData.dfGetRatings()\n",
    "dfCopyRatings = dfRatings.copy()\n",
    "dfRatings.head()"
   ]
  },
  {
   "cell_type": "markdown",
   "id": "91bcfca2-ce23-4c92-a720-d5729f9e35ec",
   "metadata": {
    "tags": []
   },
   "source": [
    "# PREPROCESSING"
   ]
  },
  {
   "cell_type": "markdown",
   "id": "49ada615-03f3-4df8-80da-0d89e2681ea1",
   "metadata": {
    "jp-MarkdownHeadingCollapsed": true,
    "tags": []
   },
   "source": [
    "## Extract Year of Release of Movies\n",
    "\n",
    "After moving the \"\"year_of_release\"\" from \"\"title\"\" there can be duplicated names. It means that same movie name has different release years. (e.g., <i>Hamlet</i>)"
   ]
  },
  {
   "cell_type": "code",
   "execution_count": 6,
   "id": "e479bee2-bc79-4ce5-847d-7694a085fc2b",
   "metadata": {},
   "outputs": [],
   "source": [
    "dfMovies = PreProcessing.dfExtractYearOfReleaseOfMovies(dfMovies)"
   ]
  },
  {
   "cell_type": "code",
   "execution_count": 7,
   "id": "01d46236-ca21-417d-bd5c-2f21f66f3088",
   "metadata": {},
   "outputs": [
    {
     "data": {
      "text/html": [
       "<div>\n",
       "<style scoped>\n",
       "    .dataframe tbody tr th:only-of-type {\n",
       "        vertical-align: middle;\n",
       "    }\n",
       "\n",
       "    .dataframe tbody tr th {\n",
       "        vertical-align: top;\n",
       "    }\n",
       "\n",
       "    .dataframe thead th {\n",
       "        text-align: right;\n",
       "    }\n",
       "</style>\n",
       "<table border=\"1\" class=\"dataframe\">\n",
       "  <thead>\n",
       "    <tr style=\"text-align: right;\">\n",
       "      <th></th>\n",
       "      <th>title</th>\n",
       "      <th>genres</th>\n",
       "      <th>year_of_release</th>\n",
       "    </tr>\n",
       "    <tr>\n",
       "      <th>movie_id</th>\n",
       "      <th></th>\n",
       "      <th></th>\n",
       "      <th></th>\n",
       "    </tr>\n",
       "  </thead>\n",
       "  <tbody>\n",
       "    <tr>\n",
       "      <th>1411</th>\n",
       "      <td>Hamlet</td>\n",
       "      <td>Drama</td>\n",
       "      <td>1996</td>\n",
       "    </tr>\n",
       "    <tr>\n",
       "      <th>1941</th>\n",
       "      <td>Hamlet</td>\n",
       "      <td>Drama</td>\n",
       "      <td>1948</td>\n",
       "    </tr>\n",
       "    <tr>\n",
       "      <th>2820</th>\n",
       "      <td>Hamlet</td>\n",
       "      <td>Drama</td>\n",
       "      <td>1964</td>\n",
       "    </tr>\n",
       "    <tr>\n",
       "      <th>3598</th>\n",
       "      <td>Hamlet</td>\n",
       "      <td>Drama</td>\n",
       "      <td>2000</td>\n",
       "    </tr>\n",
       "    <tr>\n",
       "      <th>3723</th>\n",
       "      <td>Hamlet</td>\n",
       "      <td>Drama</td>\n",
       "      <td>1990</td>\n",
       "    </tr>\n",
       "  </tbody>\n",
       "</table>\n",
       "</div>"
      ],
      "text/plain": [
       "           title genres  year_of_release\n",
       "movie_id                                \n",
       "1411      Hamlet  Drama             1996\n",
       "1941      Hamlet  Drama             1948\n",
       "2820      Hamlet  Drama             1964\n",
       "3598      Hamlet  Drama             2000\n",
       "3723      Hamlet  Drama             1990"
      ]
     },
     "execution_count": 7,
     "metadata": {},
     "output_type": "execute_result"
    }
   ],
   "source": [
    "dfMovies[dfMovies['title'] == 'Hamlet']"
   ]
  },
  {
   "cell_type": "markdown",
   "id": "1fdf9df0-f0c0-444b-b7de-09cc87e3f5c5",
   "metadata": {
    "jp-MarkdownHeadingCollapsed": true,
    "tags": []
   },
   "source": [
    "## Transform Genres of Movies to One Hot Vector"
   ]
  },
  {
   "cell_type": "code",
   "execution_count": 8,
   "id": "41d5c299-d24c-45cd-8e79-b6056ace0d4e",
   "metadata": {},
   "outputs": [
    {
     "data": {
      "text/html": [
       "<div>\n",
       "<style scoped>\n",
       "    .dataframe tbody tr th:only-of-type {\n",
       "        vertical-align: middle;\n",
       "    }\n",
       "\n",
       "    .dataframe tbody tr th {\n",
       "        vertical-align: top;\n",
       "    }\n",
       "\n",
       "    .dataframe thead th {\n",
       "        text-align: right;\n",
       "    }\n",
       "</style>\n",
       "<table border=\"1\" class=\"dataframe\">\n",
       "  <thead>\n",
       "    <tr style=\"text-align: right;\">\n",
       "      <th></th>\n",
       "      <th>title</th>\n",
       "      <th>genres</th>\n",
       "      <th>year_of_release</th>\n",
       "      <th>Action</th>\n",
       "      <th>Adventure</th>\n",
       "      <th>Animation</th>\n",
       "      <th>Children's</th>\n",
       "      <th>Comedy</th>\n",
       "      <th>Crime</th>\n",
       "      <th>Documentary</th>\n",
       "      <th>...</th>\n",
       "      <th>Fantasy</th>\n",
       "      <th>Film-Noir</th>\n",
       "      <th>Horror</th>\n",
       "      <th>Musical</th>\n",
       "      <th>Mystery</th>\n",
       "      <th>Romance</th>\n",
       "      <th>Sci-Fi</th>\n",
       "      <th>Thriller</th>\n",
       "      <th>War</th>\n",
       "      <th>Western</th>\n",
       "    </tr>\n",
       "    <tr>\n",
       "      <th>movie_id</th>\n",
       "      <th></th>\n",
       "      <th></th>\n",
       "      <th></th>\n",
       "      <th></th>\n",
       "      <th></th>\n",
       "      <th></th>\n",
       "      <th></th>\n",
       "      <th></th>\n",
       "      <th></th>\n",
       "      <th></th>\n",
       "      <th></th>\n",
       "      <th></th>\n",
       "      <th></th>\n",
       "      <th></th>\n",
       "      <th></th>\n",
       "      <th></th>\n",
       "      <th></th>\n",
       "      <th></th>\n",
       "      <th></th>\n",
       "      <th></th>\n",
       "      <th></th>\n",
       "    </tr>\n",
       "  </thead>\n",
       "  <tbody>\n",
       "    <tr>\n",
       "      <th>1</th>\n",
       "      <td>Toy Story</td>\n",
       "      <td>Animation|Children's|Comedy</td>\n",
       "      <td>1995</td>\n",
       "      <td>0</td>\n",
       "      <td>0</td>\n",
       "      <td>1</td>\n",
       "      <td>1</td>\n",
       "      <td>1</td>\n",
       "      <td>0</td>\n",
       "      <td>0</td>\n",
       "      <td>...</td>\n",
       "      <td>0</td>\n",
       "      <td>0</td>\n",
       "      <td>0</td>\n",
       "      <td>0</td>\n",
       "      <td>0</td>\n",
       "      <td>0</td>\n",
       "      <td>0</td>\n",
       "      <td>0</td>\n",
       "      <td>0</td>\n",
       "      <td>0</td>\n",
       "    </tr>\n",
       "    <tr>\n",
       "      <th>2</th>\n",
       "      <td>Jumanji</td>\n",
       "      <td>Adventure|Children's|Fantasy</td>\n",
       "      <td>1995</td>\n",
       "      <td>0</td>\n",
       "      <td>1</td>\n",
       "      <td>0</td>\n",
       "      <td>1</td>\n",
       "      <td>0</td>\n",
       "      <td>0</td>\n",
       "      <td>0</td>\n",
       "      <td>...</td>\n",
       "      <td>1</td>\n",
       "      <td>0</td>\n",
       "      <td>0</td>\n",
       "      <td>0</td>\n",
       "      <td>0</td>\n",
       "      <td>0</td>\n",
       "      <td>0</td>\n",
       "      <td>0</td>\n",
       "      <td>0</td>\n",
       "      <td>0</td>\n",
       "    </tr>\n",
       "    <tr>\n",
       "      <th>3</th>\n",
       "      <td>Grumpier Old Men</td>\n",
       "      <td>Comedy|Romance</td>\n",
       "      <td>1995</td>\n",
       "      <td>0</td>\n",
       "      <td>0</td>\n",
       "      <td>0</td>\n",
       "      <td>0</td>\n",
       "      <td>1</td>\n",
       "      <td>0</td>\n",
       "      <td>0</td>\n",
       "      <td>...</td>\n",
       "      <td>0</td>\n",
       "      <td>0</td>\n",
       "      <td>0</td>\n",
       "      <td>0</td>\n",
       "      <td>0</td>\n",
       "      <td>1</td>\n",
       "      <td>0</td>\n",
       "      <td>0</td>\n",
       "      <td>0</td>\n",
       "      <td>0</td>\n",
       "    </tr>\n",
       "    <tr>\n",
       "      <th>4</th>\n",
       "      <td>Waiting to Exhale</td>\n",
       "      <td>Comedy|Drama</td>\n",
       "      <td>1995</td>\n",
       "      <td>0</td>\n",
       "      <td>0</td>\n",
       "      <td>0</td>\n",
       "      <td>0</td>\n",
       "      <td>1</td>\n",
       "      <td>0</td>\n",
       "      <td>0</td>\n",
       "      <td>...</td>\n",
       "      <td>0</td>\n",
       "      <td>0</td>\n",
       "      <td>0</td>\n",
       "      <td>0</td>\n",
       "      <td>0</td>\n",
       "      <td>0</td>\n",
       "      <td>0</td>\n",
       "      <td>0</td>\n",
       "      <td>0</td>\n",
       "      <td>0</td>\n",
       "    </tr>\n",
       "    <tr>\n",
       "      <th>5</th>\n",
       "      <td>Father of the Bride Part II</td>\n",
       "      <td>Comedy</td>\n",
       "      <td>1995</td>\n",
       "      <td>0</td>\n",
       "      <td>0</td>\n",
       "      <td>0</td>\n",
       "      <td>0</td>\n",
       "      <td>1</td>\n",
       "      <td>0</td>\n",
       "      <td>0</td>\n",
       "      <td>...</td>\n",
       "      <td>0</td>\n",
       "      <td>0</td>\n",
       "      <td>0</td>\n",
       "      <td>0</td>\n",
       "      <td>0</td>\n",
       "      <td>0</td>\n",
       "      <td>0</td>\n",
       "      <td>0</td>\n",
       "      <td>0</td>\n",
       "      <td>0</td>\n",
       "    </tr>\n",
       "    <tr>\n",
       "      <th>...</th>\n",
       "      <td>...</td>\n",
       "      <td>...</td>\n",
       "      <td>...</td>\n",
       "      <td>...</td>\n",
       "      <td>...</td>\n",
       "      <td>...</td>\n",
       "      <td>...</td>\n",
       "      <td>...</td>\n",
       "      <td>...</td>\n",
       "      <td>...</td>\n",
       "      <td>...</td>\n",
       "      <td>...</td>\n",
       "      <td>...</td>\n",
       "      <td>...</td>\n",
       "      <td>...</td>\n",
       "      <td>...</td>\n",
       "      <td>...</td>\n",
       "      <td>...</td>\n",
       "      <td>...</td>\n",
       "      <td>...</td>\n",
       "      <td>...</td>\n",
       "    </tr>\n",
       "    <tr>\n",
       "      <th>3948</th>\n",
       "      <td>Meet the Parents</td>\n",
       "      <td>Comedy</td>\n",
       "      <td>2000</td>\n",
       "      <td>0</td>\n",
       "      <td>0</td>\n",
       "      <td>0</td>\n",
       "      <td>0</td>\n",
       "      <td>1</td>\n",
       "      <td>0</td>\n",
       "      <td>0</td>\n",
       "      <td>...</td>\n",
       "      <td>0</td>\n",
       "      <td>0</td>\n",
       "      <td>0</td>\n",
       "      <td>0</td>\n",
       "      <td>0</td>\n",
       "      <td>0</td>\n",
       "      <td>0</td>\n",
       "      <td>0</td>\n",
       "      <td>0</td>\n",
       "      <td>0</td>\n",
       "    </tr>\n",
       "    <tr>\n",
       "      <th>3949</th>\n",
       "      <td>Requiem for a Dream</td>\n",
       "      <td>Drama</td>\n",
       "      <td>2000</td>\n",
       "      <td>0</td>\n",
       "      <td>0</td>\n",
       "      <td>0</td>\n",
       "      <td>0</td>\n",
       "      <td>0</td>\n",
       "      <td>0</td>\n",
       "      <td>0</td>\n",
       "      <td>...</td>\n",
       "      <td>0</td>\n",
       "      <td>0</td>\n",
       "      <td>0</td>\n",
       "      <td>0</td>\n",
       "      <td>0</td>\n",
       "      <td>0</td>\n",
       "      <td>0</td>\n",
       "      <td>0</td>\n",
       "      <td>0</td>\n",
       "      <td>0</td>\n",
       "    </tr>\n",
       "    <tr>\n",
       "      <th>3950</th>\n",
       "      <td>Tigerland</td>\n",
       "      <td>Drama</td>\n",
       "      <td>2000</td>\n",
       "      <td>0</td>\n",
       "      <td>0</td>\n",
       "      <td>0</td>\n",
       "      <td>0</td>\n",
       "      <td>0</td>\n",
       "      <td>0</td>\n",
       "      <td>0</td>\n",
       "      <td>...</td>\n",
       "      <td>0</td>\n",
       "      <td>0</td>\n",
       "      <td>0</td>\n",
       "      <td>0</td>\n",
       "      <td>0</td>\n",
       "      <td>0</td>\n",
       "      <td>0</td>\n",
       "      <td>0</td>\n",
       "      <td>0</td>\n",
       "      <td>0</td>\n",
       "    </tr>\n",
       "    <tr>\n",
       "      <th>3951</th>\n",
       "      <td>Two Family House</td>\n",
       "      <td>Drama</td>\n",
       "      <td>2000</td>\n",
       "      <td>0</td>\n",
       "      <td>0</td>\n",
       "      <td>0</td>\n",
       "      <td>0</td>\n",
       "      <td>0</td>\n",
       "      <td>0</td>\n",
       "      <td>0</td>\n",
       "      <td>...</td>\n",
       "      <td>0</td>\n",
       "      <td>0</td>\n",
       "      <td>0</td>\n",
       "      <td>0</td>\n",
       "      <td>0</td>\n",
       "      <td>0</td>\n",
       "      <td>0</td>\n",
       "      <td>0</td>\n",
       "      <td>0</td>\n",
       "      <td>0</td>\n",
       "    </tr>\n",
       "    <tr>\n",
       "      <th>3952</th>\n",
       "      <td>Contender, The</td>\n",
       "      <td>Drama|Thriller</td>\n",
       "      <td>2000</td>\n",
       "      <td>0</td>\n",
       "      <td>0</td>\n",
       "      <td>0</td>\n",
       "      <td>0</td>\n",
       "      <td>0</td>\n",
       "      <td>0</td>\n",
       "      <td>0</td>\n",
       "      <td>...</td>\n",
       "      <td>0</td>\n",
       "      <td>0</td>\n",
       "      <td>0</td>\n",
       "      <td>0</td>\n",
       "      <td>0</td>\n",
       "      <td>0</td>\n",
       "      <td>0</td>\n",
       "      <td>1</td>\n",
       "      <td>0</td>\n",
       "      <td>0</td>\n",
       "    </tr>\n",
       "  </tbody>\n",
       "</table>\n",
       "<p>3883 rows × 21 columns</p>\n",
       "</div>"
      ],
      "text/plain": [
       "                                title                        genres  \\\n",
       "movie_id                                                              \n",
       "1                           Toy Story   Animation|Children's|Comedy   \n",
       "2                             Jumanji  Adventure|Children's|Fantasy   \n",
       "3                    Grumpier Old Men                Comedy|Romance   \n",
       "4                   Waiting to Exhale                  Comedy|Drama   \n",
       "5         Father of the Bride Part II                        Comedy   \n",
       "...                               ...                           ...   \n",
       "3948                 Meet the Parents                        Comedy   \n",
       "3949              Requiem for a Dream                         Drama   \n",
       "3950                        Tigerland                         Drama   \n",
       "3951                 Two Family House                         Drama   \n",
       "3952                   Contender, The                Drama|Thriller   \n",
       "\n",
       "          year_of_release  Action  Adventure  Animation  Children's  Comedy  \\\n",
       "movie_id                                                                      \n",
       "1                    1995       0          0          1           1       1   \n",
       "2                    1995       0          1          0           1       0   \n",
       "3                    1995       0          0          0           0       1   \n",
       "4                    1995       0          0          0           0       1   \n",
       "5                    1995       0          0          0           0       1   \n",
       "...                   ...     ...        ...        ...         ...     ...   \n",
       "3948                 2000       0          0          0           0       1   \n",
       "3949                 2000       0          0          0           0       0   \n",
       "3950                 2000       0          0          0           0       0   \n",
       "3951                 2000       0          0          0           0       0   \n",
       "3952                 2000       0          0          0           0       0   \n",
       "\n",
       "          Crime  Documentary  ...  Fantasy  Film-Noir  Horror  Musical  \\\n",
       "movie_id                      ...                                        \n",
       "1             0            0  ...        0          0       0        0   \n",
       "2             0            0  ...        1          0       0        0   \n",
       "3             0            0  ...        0          0       0        0   \n",
       "4             0            0  ...        0          0       0        0   \n",
       "5             0            0  ...        0          0       0        0   \n",
       "...         ...          ...  ...      ...        ...     ...      ...   \n",
       "3948          0            0  ...        0          0       0        0   \n",
       "3949          0            0  ...        0          0       0        0   \n",
       "3950          0            0  ...        0          0       0        0   \n",
       "3951          0            0  ...        0          0       0        0   \n",
       "3952          0            0  ...        0          0       0        0   \n",
       "\n",
       "          Mystery  Romance  Sci-Fi  Thriller  War  Western  \n",
       "movie_id                                                    \n",
       "1               0        0       0         0    0        0  \n",
       "2               0        0       0         0    0        0  \n",
       "3               0        1       0         0    0        0  \n",
       "4               0        0       0         0    0        0  \n",
       "5               0        0       0         0    0        0  \n",
       "...           ...      ...     ...       ...  ...      ...  \n",
       "3948            0        0       0         0    0        0  \n",
       "3949            0        0       0         0    0        0  \n",
       "3950            0        0       0         0    0        0  \n",
       "3951            0        0       0         0    0        0  \n",
       "3952            0        0       0         1    0        0  \n",
       "\n",
       "[3883 rows x 21 columns]"
      ]
     },
     "execution_count": 8,
     "metadata": {},
     "output_type": "execute_result"
    }
   ],
   "source": [
    "dfMovies = PreProcessing.dfTransformGenresToOneHot(dfMovies)\n",
    "dfMovies"
   ]
  },
  {
   "cell_type": "markdown",
   "id": "0c617921-bed8-4535-9472-ef0ce2757433",
   "metadata": {
    "jp-MarkdownHeadingCollapsed": true,
    "tags": []
   },
   "source": [
    "## Merge Datasets"
   ]
  },
  {
   "cell_type": "code",
   "execution_count": 9,
   "id": "0e264684-d1f3-4b6c-b77a-931be65fb700",
   "metadata": {},
   "outputs": [],
   "source": [
    "dfPreprocessed = PreProcessing.dfMergeRatingsMoviesUsers(dfRatings, dfMovies, dfUsers)"
   ]
  },
  {
   "cell_type": "markdown",
   "id": "17f76e0d-f334-4a04-86b5-78773454f3f5",
   "metadata": {
    "jp-MarkdownHeadingCollapsed": true,
    "tags": []
   },
   "source": [
    "## Encode Movie ID and Item Id in Ratings Dataset"
   ]
  },
  {
   "cell_type": "code",
   "execution_count": 10,
   "id": "2ee90121-bb74-4468-9754-e7c951a6091c",
   "metadata": {},
   "outputs": [
    {
     "name": "stderr",
     "output_type": "stream",
     "text": [
      "C:\\Users\\yunus\\AppData\\Local\\Continuum\\anaconda3\\envs\\tf-gpu\\lib\\site-packages\\sklearn\\preprocessing\\_label.py:115: DataConversionWarning: A column-vector y was passed when a 1d array was expected. Please change the shape of y to (n_samples, ), for example using ravel().\n",
      "  y = column_or_1d(y, warn=True)\n"
     ]
    }
   ],
   "source": [
    "dfPreprocessed = PreProcessing.oEncodeField(dfPreprocessed, 'movie_id', 'Ordinal')\n",
    "dfPreprocessed = PreProcessing.oEncodeField(dfPreprocessed, 'user_id', 'Ordinal')\n",
    "dfPreprocessed = PreProcessing.oEncodeField(dfPreprocessed, 'gender', 'Label')\n",
    "dfPreprocessed = PreProcessing.oEncodeField(dfPreprocessed, 'age', 'MinMax')\n",
    "dfPreprocessed = PreProcessing.oEncodeField(dfPreprocessed, 'year_of_release', 'MinMax')"
   ]
  },
  {
   "cell_type": "markdown",
   "id": "6b484f89-20b3-4fc5-9ff9-e806b2144f6b",
   "metadata": {
    "tags": []
   },
   "source": [
    "# DEEP LEARNING MODEL"
   ]
  },
  {
   "cell_type": "markdown",
   "id": "bd278fea-8b2d-472e-8f5e-286b36a48f6f",
   "metadata": {
    "jp-MarkdownHeadingCollapsed": true,
    "tags": []
   },
   "source": [
    "## Split Train-Validation-Test"
   ]
  },
  {
   "cell_type": "markdown",
   "id": "e2cf0d34-46ee-4e2a-bb06-56d289c30766",
   "metadata": {},
   "source": [
    "70%-15%-15% of ratings are used as ratio to identify train, validation and test datasets. Data is shuffled before splitting."
   ]
  },
  {
   "cell_type": "code",
   "execution_count": 11,
   "id": "fd849b31-2404-4692-8967-061fee7b3a02",
   "metadata": {},
   "outputs": [],
   "source": [
    "ixTrain, ixValidation , ixTest = DeepLearning.ixSplitTrainValidationTest(dfPreprocessed)"
   ]
  },
  {
   "cell_type": "markdown",
   "id": "ff349306-7972-4c2e-947d-8b7295334a74",
   "metadata": {
    "jp-MarkdownHeadingCollapsed": true,
    "tags": []
   },
   "source": [
    "## Identify Unique Number of Movies and Users in Ratings Dataset"
   ]
  },
  {
   "cell_type": "code",
   "execution_count": 12,
   "id": "ee643cac-f842-4a77-8ffb-890f19b2604a",
   "metadata": {},
   "outputs": [],
   "source": [
    "iNrOfMovies, iNrOfUsers = DeepLearning.iGetNrOfUniqueMoviesUsers(dfPreprocessed)"
   ]
  },
  {
   "cell_type": "markdown",
   "id": "2cfe4e23-cbd0-4917-b21c-6a0fe694dd28",
   "metadata": {
    "tags": []
   },
   "source": [
    "## Build Input Datasets"
   ]
  },
  {
   "cell_type": "markdown",
   "id": "e76f00f9-96f3-44e0-94f1-4e13fdbe47c0",
   "metadata": {},
   "source": [
    "Embedding layer is not generated only user id and movie id but also following columns: \n",
    "* movie_id_encoded,\n",
    "* user_id_encoded,\n",
    "* year_of_release_encoded,\n",
    "* age_encoded,\n",
    "* gender_encoded,\n",
    "* Action, \n",
    "* Adventure, \n",
    "* Animation,\n",
    "* Children's, \n",
    "* Comedy, \n",
    "* Crime, \n",
    "* Documentary, \n",
    "* Drama, \n",
    "* Fantasy, \n",
    "* Film-Noir, \n",
    "* Horror, \n",
    "* Musical, \n",
    "* Mystery, \n",
    "* Romance, \n",
    "* Sci-Fi, \n",
    "* Thriller, \n",
    "* War,\n",
    "* Western"
   ]
  },
  {
   "cell_type": "code",
   "execution_count": 13,
   "id": "85532d32-b8c8-4486-8b09-37ab1573b230",
   "metadata": {
    "tags": []
   },
   "outputs": [],
   "source": [
    "aMovie_X_Train, aMovie_X_Validation, aMovie_X_Test, aUser_X_Train, aUser_X_Validation, aUser_X_Test = DeepLearning.aBuildInputDatasets(dfPreprocessed, ixTrain, ixValidation, ixTest)"
   ]
  },
  {
   "cell_type": "code",
   "execution_count": 27,
   "id": "a1df5653-cb5b-4a53-bd4a-77631bed1bbd",
   "metadata": {},
   "outputs": [
    {
     "data": {
      "text/plain": [
       "array([[3341.        ,    1.        ,    0.        , ...,    1.        ,\n",
       "           0.43636364,    1.        ],\n",
       "       [2183.        ,    1.        ,    0.        , ...,    0.81481481,\n",
       "           0.43636364,    1.        ],\n",
       "       [1104.        ,    0.        ,    0.        , ...,    0.69135802,\n",
       "           0.61818182,    1.        ],\n",
       "       ...,\n",
       "       [3049.        ,    0.        ,    0.        , ...,    1.        ,\n",
       "           0.8       ,    1.        ],\n",
       "       [3041.        ,    1.        ,    0.        , ...,    0.90123457,\n",
       "           0.61818182,    1.        ],\n",
       "       [1537.        ,    0.        ,    0.        , ...,    0.81481481,\n",
       "           0.89090909,    1.        ]])"
      ]
     },
     "execution_count": 27,
     "metadata": {},
     "output_type": "execute_result"
    }
   ],
   "source": [
    "aMovie_X_Train"
   ]
  },
  {
   "cell_type": "markdown",
   "id": "0dab0abb-a7e0-4f0e-a949-cbbf7e3bf768",
   "metadata": {},
   "source": [
    "## Build Output Datasets"
   ]
  },
  {
   "cell_type": "markdown",
   "id": "5ee61dd9-6aa6-4463-9185-0e9abbb24163",
   "metadata": {},
   "source": [
    "Output dataset is one hot vector of rating."
   ]
  },
  {
   "cell_type": "code",
   "execution_count": 14,
   "id": "0ad99d62-98fa-4739-a67b-db00728e3544",
   "metadata": {},
   "outputs": [],
   "source": [
    "a_y_Train, a_y_Validation, a_y_Test = DeepLearning.aBuildOutputDatasets(dfPreprocessed, ixTrain, ixValidation,ixTest)"
   ]
  },
  {
   "cell_type": "markdown",
   "id": "dee1c0e3-b4b8-4d9f-a467-b4938cd2023e",
   "metadata": {
    "tags": []
   },
   "source": [
    "## Tune Hyperparameters"
   ]
  },
  {
   "cell_type": "markdown",
   "id": "0d2f04e2-15e1-4ab4-b98a-f51c2ae72a78",
   "metadata": {},
   "source": [
    "Random search algorithm is applied to tune hyperparameters. 20 experiment is executed. Each experiment is executed 2 times. Early stopping is applied with 5 patience over validation loss. Batch size is 4096."
   ]
  },
  {
   "cell_type": "code",
   "execution_count": 28,
   "id": "f952094a-35a3-4012-9964-63084ace7e97",
   "metadata": {},
   "outputs": [
    {
     "name": "stdout",
     "output_type": "stream",
     "text": [
      "Search space summary\n",
      "Default search space size: 6\n",
      "embedding_size (Int)\n",
      "{'default': None, 'conditions': [], 'min_value': 4, 'max_value': 64, 'step': 8, 'sampling': None}\n",
      "layers (Int)\n",
      "{'default': None, 'conditions': [], 'min_value': 0, 'max_value': 5, 'step': 1, 'sampling': None}\n",
      "learning_rate (Float)\n",
      "{'default': 0.0001, 'conditions': [], 'min_value': 0.0001, 'max_value': 0.01, 'step': None, 'sampling': None}\n",
      "units (Int)\n",
      "{'default': None, 'conditions': [], 'min_value': 8, 'max_value': 64, 'step': 8, 'sampling': None}\n",
      "l2_regulizer_coeff (Float)\n",
      "{'default': 0.0, 'conditions': [], 'min_value': 0.0, 'max_value': 0.005, 'step': None, 'sampling': None}\n",
      "dropout_rate (Float)\n",
      "{'default': 0.0, 'conditions': [], 'min_value': 0.0, 'max_value': 0.005, 'step': None, 'sampling': None}\n"
     ]
    }
   ],
   "source": [
    "oTuner = DeepLearning.oTuneHyperparameters(iNrOfMovies, iNrOfUsers, aMovie_X_Train, aUser_X_Train, a_y_Train,aMovie_X_Validation, aUser_X_Validation , a_y_Validation)\n",
    "oTuner.search_space_summary()"
   ]
  },
  {
   "cell_type": "code",
   "execution_count": 15,
   "id": "bdc47c43-2ada-48d8-bac7-26230298d35b",
   "metadata": {},
   "outputs": [
    {
     "name": "stdout",
     "output_type": "stream",
     "text": [
      "Trial 20 Complete [00h 01m 32s]\n",
      "val_loss: 0.4054022431373596\n",
      "\n",
      "Best val_loss So Far: 0.3989855647087097\n",
      "Total elapsed time: 00h 44m 30s\n",
      "INFO:tensorflow:Oracle triggered exit\n",
      "Results summary\n",
      "Results in Hyperparameter Optimization\\Random Search\n",
      "Showing 10 best trials\n",
      "<keras_tuner.engine.objective.Objective object at 0x0000025D24DA42C8>\n",
      "Trial summary\n",
      "Hyperparameters:\n",
      "embedding_size: 4\n",
      "layers: 2\n",
      "learning_rate: 0.008019213778778293\n",
      "units: 8\n",
      "l2_regulizer_coeff: 0.0\n",
      "dropout_rate: 0.0\n",
      "Score: 0.3989855647087097\n",
      "Trial summary\n",
      "Hyperparameters:\n",
      "embedding_size: 44\n",
      "layers: 1\n",
      "learning_rate: 0.005802921287754577\n",
      "units: 40\n",
      "l2_regulizer_coeff: 0.0002967835480827885\n",
      "dropout_rate: 0.004018860239440322\n",
      "Score: 0.40533192455768585\n",
      "Trial summary\n",
      "Hyperparameters:\n",
      "embedding_size: 12\n",
      "layers: 4\n",
      "learning_rate: 0.003381835445739296\n",
      "units: 24\n",
      "l2_regulizer_coeff: 0.0007296176460262472\n",
      "dropout_rate: 0.0018159392669947322\n",
      "Score: 0.4054022431373596\n",
      "Trial summary\n",
      "Hyperparameters:\n",
      "embedding_size: 12\n",
      "layers: 4\n",
      "learning_rate: 0.004093525724795625\n",
      "units: 32\n",
      "l2_regulizer_coeff: 0.002756166201724814\n",
      "dropout_rate: 0.003481422393745564\n",
      "Score: 0.4056311398744583\n",
      "Trial summary\n",
      "Hyperparameters:\n",
      "embedding_size: 52\n",
      "layers: 3\n",
      "learning_rate: 0.00653297834215368\n",
      "units: 16\n",
      "l2_regulizer_coeff: 0.0020051238784955018\n",
      "dropout_rate: 0.0021325939696274017\n",
      "Score: 0.4065074920654297\n",
      "Trial summary\n",
      "Hyperparameters:\n",
      "embedding_size: 20\n",
      "layers: 3\n",
      "learning_rate: 0.00931742201322243\n",
      "units: 16\n",
      "l2_regulizer_coeff: 0.00455938121504008\n",
      "dropout_rate: 0.004426708078414311\n",
      "Score: 0.40675580501556396\n",
      "Trial summary\n",
      "Hyperparameters:\n",
      "embedding_size: 44\n",
      "layers: 4\n",
      "learning_rate: 0.0028156886691578504\n",
      "units: 48\n",
      "l2_regulizer_coeff: 0.0007451234780122234\n",
      "dropout_rate: 0.0043766345858408965\n",
      "Score: 0.4071430414915085\n",
      "Trial summary\n",
      "Hyperparameters:\n",
      "embedding_size: 20\n",
      "layers: 3\n",
      "learning_rate: 0.003933300603790304\n",
      "units: 32\n",
      "l2_regulizer_coeff: 0.0022856359188500224\n",
      "dropout_rate: 0.002034385827392063\n",
      "Score: 0.4083153009414673\n",
      "Trial summary\n",
      "Hyperparameters:\n",
      "embedding_size: 12\n",
      "layers: 0\n",
      "learning_rate: 0.00642134223613403\n",
      "units: 24\n",
      "l2_regulizer_coeff: 0.0032359688552388577\n",
      "dropout_rate: 0.003167525284049262\n",
      "Score: 0.40883471071720123\n",
      "Trial summary\n",
      "Hyperparameters:\n",
      "embedding_size: 44\n",
      "layers: 3\n",
      "learning_rate: 0.005266093591903923\n",
      "units: 40\n",
      "l2_regulizer_coeff: 0.002567084243769129\n",
      "dropout_rate: 0.0033604055331621367\n",
      "Score: 0.4100979417562485\n"
     ]
    }
   ],
   "source": [
    "oTuner.results_summary()"
   ]
  },
  {
   "cell_type": "markdown",
   "id": "9c142d07-a1af-4e5c-bcf3-bddce09eb599",
   "metadata": {},
   "source": [
    "## Optimum Model"
   ]
  },
  {
   "cell_type": "code",
   "execution_count": 16,
   "id": "bad5c668-12db-4b68-831f-1b3acd67919a",
   "metadata": {},
   "outputs": [
    {
     "data": {
      "image/png": "[encoded data removed]",
      "text/plain": [
       "<IPython.core.display.Image object>"
      ]
     },
     "execution_count": 16,
     "metadata": {},
     "output_type": "execute_result"
    }
   ],
   "source": [
    "oOptimumModel = DeepLearning.oBuildModel(oTuner.get_best_hyperparameters(1)[0], iNrOfMovies=iNrOfMovies, iNrOfUsers=iNrOfUsers)\n",
    "plot_model(oOptimumModel, show_shapes=True)"
   ]
  },
  {
   "cell_type": "markdown",
   "id": "493b71f1-d867-4748-bb61-ca2056290e96",
   "metadata": {
    "tags": []
   },
   "source": [
    "## Fit Model"
   ]
  },
  {
   "cell_type": "markdown",
   "id": "cd1498b9-c18c-43cd-8e9d-e3ffa6ceb1c6",
   "metadata": {},
   "source": [
    "Early stopping is applied with 5 patience over validation loss. Batch size is 4096."
   ]
  },
  {
   "cell_type": "code",
   "execution_count": 17,
   "id": "d4e5882b-ab05-410b-a6fc-4103e8289c49",
   "metadata": {},
   "outputs": [
    {
     "name": "stdout",
     "output_type": "stream",
     "text": [
      "Epoch 1/1000\n",
      "171/171 [==============================] - 5s 20ms/step - loss: 0.4422 - val_loss: 0.4155\n",
      "Epoch 2/1000\n",
      "171/171 [==============================] - 3s 17ms/step - loss: 0.4135 - val_loss: 0.4126\n",
      "Epoch 3/1000\n",
      "171/171 [==============================] - 3s 17ms/step - loss: 0.4104 - val_loss: 0.4111\n",
      "Epoch 4/1000\n",
      "171/171 [==============================] - 3s 17ms/step - loss: 0.4082 - val_loss: 0.4100\n",
      "Epoch 5/1000\n",
      "171/171 [==============================] - 3s 17ms/step - loss: 0.4060 - val_loss: 0.4090\n",
      "Epoch 6/1000\n",
      "171/171 [==============================] - 3s 17ms/step - loss: 0.4043 - val_loss: 0.4086\n",
      "Epoch 7/1000\n",
      "171/171 [==============================] - 3s 17ms/step - loss: 0.4033 - val_loss: 0.4077\n",
      "Epoch 8/1000\n",
      "171/171 [==============================] - 3s 17ms/step - loss: 0.4019 - val_loss: 0.4075\n",
      "Epoch 9/1000\n",
      "171/171 [==============================] - 3s 18ms/step - loss: 0.4010 - val_loss: 0.4069\n",
      "Epoch 10/1000\n",
      "171/171 [==============================] - 3s 17ms/step - loss: 0.4003 - val_loss: 0.4065\n",
      "Epoch 11/1000\n",
      "171/171 [==============================] - 3s 17ms/step - loss: 0.3996 - val_loss: 0.4062\n",
      "Epoch 12/1000\n",
      "171/171 [==============================] - 3s 17ms/step - loss: 0.3990 - val_loss: 0.4064\n",
      "Epoch 13/1000\n",
      "171/171 [==============================] - 3s 17ms/step - loss: 0.3985 - val_loss: 0.4067\n",
      "Epoch 14/1000\n",
      "171/171 [==============================] - 3s 17ms/step - loss: 0.3980 - val_loss: 0.4057\n",
      "Epoch 15/1000\n",
      "171/171 [==============================] - 3s 17ms/step - loss: 0.3976 - val_loss: 0.4061\n",
      "Epoch 16/1000\n",
      "171/171 [==============================] - 3s 17ms/step - loss: 0.3972 - val_loss: 0.4054\n",
      "Epoch 17/1000\n",
      "171/171 [==============================] - 3s 17ms/step - loss: 0.3969 - val_loss: 0.4053\n",
      "Epoch 18/1000\n",
      "171/171 [==============================] - 3s 17ms/step - loss: 0.3966 - val_loss: 0.4056\n",
      "Epoch 19/1000\n",
      "171/171 [==============================] - 3s 17ms/step - loss: 0.3965 - val_loss: 0.4050\n",
      "Epoch 20/1000\n",
      "171/171 [==============================] - 3s 17ms/step - loss: 0.3961 - val_loss: 0.4051\n",
      "Epoch 21/1000\n",
      "171/171 [==============================] - 3s 17ms/step - loss: 0.3958 - val_loss: 0.4052\n",
      "Epoch 22/1000\n",
      "171/171 [==============================] - 3s 17ms/step - loss: 0.3956 - val_loss: 0.4047\n",
      "Epoch 23/1000\n",
      "171/171 [==============================] - 3s 17ms/step - loss: 0.3953 - val_loss: 0.4049\n",
      "Epoch 24/1000\n",
      "171/171 [==============================] - 3s 17ms/step - loss: 0.3952 - val_loss: 0.4049\n",
      "Epoch 25/1000\n",
      "171/171 [==============================] - 3s 17ms/step - loss: 0.3950 - val_loss: 0.4049\n",
      "Epoch 26/1000\n",
      "171/171 [==============================] - 3s 17ms/step - loss: 0.3948 - val_loss: 0.4047\n",
      "Epoch 27/1000\n",
      "171/171 [==============================] - 3s 18ms/step - loss: 0.3948 - val_loss: 0.4044\n",
      "Epoch 28/1000\n",
      "171/171 [==============================] - 3s 18ms/step - loss: 0.3947 - val_loss: 0.4043\n",
      "Epoch 29/1000\n",
      "171/171 [==============================] - 3s 17ms/step - loss: 0.3945 - val_loss: 0.4044\n",
      "Epoch 30/1000\n",
      "171/171 [==============================] - 3s 18ms/step - loss: 0.3942 - val_loss: 0.4045\n",
      "Epoch 31/1000\n",
      "171/171 [==============================] - 3s 18ms/step - loss: 0.3942 - val_loss: 0.4041\n",
      "Epoch 32/1000\n",
      "171/171 [==============================] - 3s 17ms/step - loss: 0.3939 - val_loss: 0.4043\n",
      "Epoch 33/1000\n",
      "171/171 [==============================] - 3s 17ms/step - loss: 0.3938 - val_loss: 0.4043\n",
      "Epoch 34/1000\n",
      "171/171 [==============================] - 3s 17ms/step - loss: 0.3937 - val_loss: 0.4041\n",
      "Epoch 35/1000\n",
      "171/171 [==============================] - 3s 17ms/step - loss: 0.3937 - val_loss: 0.4040\n",
      "Epoch 36/1000\n",
      "171/171 [==============================] - 3s 17ms/step - loss: 0.3936 - val_loss: 0.4043\n",
      "Epoch 37/1000\n",
      "171/171 [==============================] - 3s 17ms/step - loss: 0.3934 - val_loss: 0.4045\n",
      "Epoch 38/1000\n",
      "171/171 [==============================] - 3s 17ms/step - loss: 0.3933 - val_loss: 0.4044\n",
      "Epoch 39/1000\n",
      "171/171 [==============================] - 3s 17ms/step - loss: 0.3934 - val_loss: 0.4041\n",
      "Epoch 40/1000\n",
      "171/171 [==============================] - 3s 17ms/step - loss: 0.3932 - val_loss: 0.4040\n"
     ]
    },
    {
     "name": "stderr",
     "output_type": "stream",
     "text": [
      "WARNING:absl:Found untraced functions such as re_lu_4_layer_call_fn, re_lu_4_layer_call_and_return_conditional_losses, re_lu_5_layer_call_fn, re_lu_5_layer_call_and_return_conditional_losses, re_lu_4_layer_call_fn while saving (showing 5 of 10). These functions will not be directly callable after loading.\n"
     ]
    },
    {
     "name": "stdout",
     "output_type": "stream",
     "text": [
      "INFO:tensorflow:Assets written to: Models\\rating_estimator_model\\assets\n"
     ]
    },
    {
     "name": "stderr",
     "output_type": "stream",
     "text": [
      "INFO:tensorflow:Assets written to: Models\\rating_estimator_model\\assets\n"
     ]
    }
   ],
   "source": [
    "dfHistory = DeepLearning.dfFitModel(oOptimumModel, aMovie_X_Train, aUser_X_Train,a_y_Train, aMovie_X_Validation, aUser_X_Validation, a_y_Validation)"
   ]
  },
  {
   "cell_type": "code",
   "execution_count": 18,
   "id": "e68d0d5c-c5ac-497f-ab0f-5074d5b451f9",
   "metadata": {},
   "outputs": [
    {
     "data": {
      "text/plain": [
       "<AxesSubplot:ylabel='loss'>"
      ]
     },
     "execution_count": 18,
     "metadata": {},
     "output_type": "execute_result"
    },
    {
     "data": {
      "image/png": "[encoded data removed]",
      "text/plain": [
       "<Figure size 1440x576 with 1 Axes>"
      ]
     },
     "metadata": {
      "needs_background": "light"
     },
     "output_type": "display_data"
    }
   ],
   "source": [
    "plt.figure(figsize = (20, 8))\n",
    "sns.lineplot(data = dfHistory['loss'].iloc[1:], legend = True, label = 'Train')\n",
    "sns.lineplot(data = dfHistory['val_loss'].iloc[1:], legend = True, label = 'Validation')"
   ]
  },
  {
   "cell_type": "markdown",
   "id": "129f0553-4dc7-412e-83c0-eef19928fac9",
   "metadata": {
    "tags": []
   },
   "source": [
    "## Test Model"
   ]
  },
  {
   "cell_type": "code",
   "execution_count": 19,
   "id": "dfc6feda-b639-4603-b1f2-d5fe0ca31422",
   "metadata": {},
   "outputs": [
    {
     "data": {
      "text/html": [
       "<div>\n",
       "<style scoped>\n",
       "    .dataframe tbody tr th:only-of-type {\n",
       "        vertical-align: middle;\n",
       "    }\n",
       "\n",
       "    .dataframe tbody tr th {\n",
       "        vertical-align: top;\n",
       "    }\n",
       "\n",
       "    .dataframe thead th {\n",
       "        text-align: right;\n",
       "    }\n",
       "</style>\n",
       "<table border=\"1\" class=\"dataframe\">\n",
       "  <thead>\n",
       "    <tr style=\"text-align: right;\">\n",
       "      <th></th>\n",
       "      <th>Value</th>\n",
       "    </tr>\n",
       "  </thead>\n",
       "  <tbody>\n",
       "    <tr>\n",
       "      <th>Mean Squared Error</th>\n",
       "      <td>0.98</td>\n",
       "    </tr>\n",
       "    <tr>\n",
       "      <th>Root Mean Squared Error</th>\n",
       "      <td>0.99</td>\n",
       "    </tr>\n",
       "    <tr>\n",
       "      <th>Mean Absolute Error</th>\n",
       "      <td>0.67</td>\n",
       "    </tr>\n",
       "    <tr>\n",
       "      <th>R2 Score</th>\n",
       "      <td>0.22</td>\n",
       "    </tr>\n",
       "  </tbody>\n",
       "</table>\n",
       "</div>"
      ],
      "text/plain": [
       "                         Value\n",
       "Mean Squared Error        0.98\n",
       "Root Mean Squared Error   0.99\n",
       "Mean Absolute Error       0.67\n",
       "R2 Score                  0.22"
      ]
     },
     "execution_count": 19,
     "metadata": {},
     "output_type": "execute_result"
    }
   ],
   "source": [
    "pred = DeepLearning.aPredict(aMovie_X_Test, aUser_X_Test, oOptimumModel)\n",
    "ground_true = DeepLearning.aDecodeOutput(a_y_Test)\n",
    "\n",
    "DeepLearning.dfGetRegressionMetrics(ground_true, pred)"
   ]
  },
  {
   "cell_type": "code",
   "execution_count": 20,
   "id": "78da4e9d-6328-48c3-9088-0df9d35fb78e",
   "metadata": {},
   "outputs": [
    {
     "name": "stdout",
     "output_type": "stream",
     "text": [
      "              precision    recall  f1-score   support\n",
      "\n",
      "           1       0.48      0.32      0.39      8296\n",
      "           2       0.36      0.14      0.20     16164\n",
      "           3       0.42      0.42      0.42     39446\n",
      "           4       0.45      0.60      0.51     52153\n",
      "           5       0.55      0.48      0.51     33973\n",
      "\n",
      "    accuracy                           0.46    150032\n",
      "   macro avg       0.45      0.39      0.41    150032\n",
      "weighted avg       0.46      0.46      0.45    150032\n",
      "\n"
     ]
    },
    {
     "data": {
      "text/plain": [
       "<sklearn.metrics._plot.confusion_matrix.ConfusionMatrixDisplay at 0x25e2f52eb88>"
      ]
     },
     "execution_count": 20,
     "metadata": {},
     "output_type": "execute_result"
    },
    {
     "data": {
      "image/png": "[encoded data removed]",
      "text/plain": [
       "<Figure size 1440x576 with 2 Axes>"
      ]
     },
     "metadata": {
      "needs_background": "light"
     },
     "output_type": "display_data"
    }
   ],
   "source": [
    "print(classification_report(ground_true, pred))\n",
    "\n",
    "aConfMatr = confusion_matrix(ground_true, pred, labels = np.unique(ground_true))\n",
    "oConfMatr = ConfusionMatrixDisplay(aConfMatr, display_labels  = np.unique(ground_true))\n",
    "fig, ax = plt.subplots(figsize=(20,8))\n",
    "oConfMatr.plot(ax=ax)"
   ]
  },
  {
   "cell_type": "code",
   "execution_count": 21,
   "id": "398a6aab-d59e-408c-a750-ee8eadfcfde4",
   "metadata": {},
   "outputs": [
    {
     "data": {
      "text/plain": [
       "<AxesSubplot:ylabel='Count'>"
      ]
     },
     "execution_count": 21,
     "metadata": {},
     "output_type": "execute_result"
    },
    {
     "data": {
      "image/png": "[encoded data removed]",
      "text/plain": [
       "<Figure size 1440x576 with 1 Axes>"
      ]
     },
     "metadata": {
      "needs_background": "light"
     },
     "output_type": "display_data"
    }
   ],
   "source": [
    "dfComparison = pd.DataFrame(index = ixTest)\n",
    "dfComparison['pred'] = pred\n",
    "dfComparison['ground_true'] = ground_true\n",
    "\n",
    "plt.figure(figsize = (20, 8))\n",
    "sns.histplot(data = dfComparison)"
   ]
  },
  {
   "cell_type": "markdown",
   "id": "9ad625b6-5265-4aa6-998d-763870e312ce",
   "metadata": {
    "tags": []
   },
   "source": [
    "# RECOMMENDATION"
   ]
  },
  {
   "cell_type": "markdown",
   "id": "57ab40ce-3dda-4a8c-861d-abf96780ca5b",
   "metadata": {},
   "source": [
    "The ones who has smallest **cosine** distance is the most similar to each other."
   ]
  },
  {
   "cell_type": "code",
   "execution_count": 22,
   "id": "c668a42d-1672-4bc0-8001-67bd6176d474",
   "metadata": {},
   "outputs": [],
   "source": [
    "iUserID = 205\n",
    "\n",
    "oRecommender = Recommendation(iUserID, dfPreprocessed)"
   ]
  },
  {
   "cell_type": "code",
   "execution_count": 23,
   "id": "e14337cd-0cfc-4eff-85f2-ce83bae7671e",
   "metadata": {},
   "outputs": [],
   "source": [
    "aMaxSimilarNUsers = oRecommender.aGetMostSimilarUsers()"
   ]
  },
  {
   "cell_type": "code",
   "execution_count": 24,
   "id": "bbaefa58-0090-4ddd-9b83-0caabf12fa93",
   "metadata": {},
   "outputs": [],
   "source": [
    "dfSimilarUserRatings = oRecommender.dfGetMovieIdsRatedByMostSimilarUsers(aMaxSimilarNUsers)\n",
    "dfSimilarUserRatings = oRecommender.dfExcludeMovieIdsThatAreAlreadyRatedByUser(dfSimilarUserRatings)\n",
    "dfSimilarUserRatings = oRecommender.dfGetExpectedRatingsForSimilarUserRatings(dfSimilarUserRatings)\n",
    "dfSimilarUserRatings = oRecommender.dfCalculateFinalExpectedScores(dfSimilarUserRatings)\n"
   ]
  },
  {
   "cell_type": "code",
   "execution_count": 25,
   "id": "4a29640b-bd5a-44dc-9b14-0c78d4a46850",
   "metadata": {},
   "outputs": [
    {
     "data": {
      "text/html": [
       "<div>\n",
       "<style scoped>\n",
       "    .dataframe tbody tr th:only-of-type {\n",
       "        vertical-align: middle;\n",
       "    }\n",
       "\n",
       "    .dataframe tbody tr th {\n",
       "        vertical-align: top;\n",
       "    }\n",
       "\n",
       "    .dataframe thead th {\n",
       "        text-align: right;\n",
       "    }\n",
       "</style>\n",
       "<table border=\"1\" class=\"dataframe\">\n",
       "  <thead>\n",
       "    <tr style=\"text-align: right;\">\n",
       "      <th></th>\n",
       "      <th>title</th>\n",
       "      <th>genres</th>\n",
       "      <th>expected_rating</th>\n",
       "    </tr>\n",
       "  </thead>\n",
       "  <tbody>\n",
       "    <tr>\n",
       "      <th>0</th>\n",
       "      <td>Crying Game, The (1992)</td>\n",
       "      <td>Drama|Romance|War</td>\n",
       "      <td>5.0</td>\n",
       "    </tr>\n",
       "    <tr>\n",
       "      <th>1</th>\n",
       "      <td>Parenthood (1989)</td>\n",
       "      <td>Comedy|Drama</td>\n",
       "      <td>5.0</td>\n",
       "    </tr>\n",
       "    <tr>\n",
       "      <th>2</th>\n",
       "      <td>Local Hero (1983)</td>\n",
       "      <td>Comedy</td>\n",
       "      <td>5.0</td>\n",
       "    </tr>\n",
       "    <tr>\n",
       "      <th>3</th>\n",
       "      <td>Say Anything... (1989)</td>\n",
       "      <td>Comedy|Drama|Romance</td>\n",
       "      <td>5.0</td>\n",
       "    </tr>\n",
       "    <tr>\n",
       "      <th>4</th>\n",
       "      <td>Dangerous Liaisons (1988)</td>\n",
       "      <td>Drama|Romance</td>\n",
       "      <td>5.0</td>\n",
       "    </tr>\n",
       "  </tbody>\n",
       "</table>\n",
       "</div>"
      ],
      "text/plain": [
       "                       title                genres  expected_rating\n",
       "0    Crying Game, The (1992)     Drama|Romance|War              5.0\n",
       "1          Parenthood (1989)          Comedy|Drama              5.0\n",
       "2          Local Hero (1983)                Comedy              5.0\n",
       "3     Say Anything... (1989)  Comedy|Drama|Romance              5.0\n",
       "4  Dangerous Liaisons (1988)         Drama|Romance              5.0"
      ]
     },
     "execution_count": 25,
     "metadata": {},
     "output_type": "execute_result"
    }
   ],
   "source": [
    "oRecommender.dfGetMoviesToRecommend(dfSimilarUserRatings)"
   ]
  },
  {
   "cell_type": "markdown",
   "id": "0a3a3d2f-c640-41f0-8461-855919dd4383",
   "metadata": {},
   "source": [
    "## User History"
   ]
  },
  {
   "cell_type": "code",
   "execution_count": 26,
   "id": "c4a691b9-7b8d-460d-a092-963a6fae1b83",
   "metadata": {},
   "outputs": [
    {
     "data": {
      "text/html": [
       "<div>\n",
       "<style scoped>\n",
       "    .dataframe tbody tr th:only-of-type {\n",
       "        vertical-align: middle;\n",
       "    }\n",
       "\n",
       "    .dataframe tbody tr th {\n",
       "        vertical-align: top;\n",
       "    }\n",
       "\n",
       "    .dataframe thead th {\n",
       "        text-align: right;\n",
       "    }\n",
       "</style>\n",
       "<table border=\"1\" class=\"dataframe\">\n",
       "  <thead>\n",
       "    <tr style=\"text-align: right;\">\n",
       "      <th></th>\n",
       "      <th>title</th>\n",
       "      <th>genres</th>\n",
       "      <th>rating</th>\n",
       "    </tr>\n",
       "  </thead>\n",
       "  <tbody>\n",
       "    <tr>\n",
       "      <th>152</th>\n",
       "      <td>Rosencrantz and Guildenstern Are Dead (1990)</td>\n",
       "      <td>Comedy|Drama</td>\n",
       "      <td>5</td>\n",
       "    </tr>\n",
       "    <tr>\n",
       "      <th>60</th>\n",
       "      <td>Ghost and Mrs. Muir, The (1947)</td>\n",
       "      <td>Drama|Romance</td>\n",
       "      <td>5</td>\n",
       "    </tr>\n",
       "    <tr>\n",
       "      <th>71</th>\n",
       "      <td>Beyond the Mat (2000)</td>\n",
       "      <td>Documentary</td>\n",
       "      <td>5</td>\n",
       "    </tr>\n",
       "    <tr>\n",
       "      <th>132</th>\n",
       "      <td>Big Blue, The (Le Grand Bleu) (1988)</td>\n",
       "      <td>Adventure|Romance</td>\n",
       "      <td>5</td>\n",
       "    </tr>\n",
       "    <tr>\n",
       "      <th>133</th>\n",
       "      <td>Seven Samurai (The Magnificent Seven) (Shichin...</td>\n",
       "      <td>Action|Drama</td>\n",
       "      <td>5</td>\n",
       "    </tr>\n",
       "    <tr>\n",
       "      <th>...</th>\n",
       "      <td>...</td>\n",
       "      <td>...</td>\n",
       "      <td>...</td>\n",
       "    </tr>\n",
       "    <tr>\n",
       "      <th>96</th>\n",
       "      <td>Little Shop of Horrors, The (1960)</td>\n",
       "      <td>Comedy|Horror</td>\n",
       "      <td>2</td>\n",
       "    </tr>\n",
       "    <tr>\n",
       "      <th>103</th>\n",
       "      <td>Mary Poppins (1964)</td>\n",
       "      <td>Children's|Comedy|Musical</td>\n",
       "      <td>1</td>\n",
       "    </tr>\n",
       "    <tr>\n",
       "      <th>11</th>\n",
       "      <td>Princess Mononoke, The (Mononoke Hime) (1997)</td>\n",
       "      <td>Action|Adventure|Animation</td>\n",
       "      <td>1</td>\n",
       "    </tr>\n",
       "    <tr>\n",
       "      <th>8</th>\n",
       "      <td>Stand by Me (1986)</td>\n",
       "      <td>Adventure|Comedy|Drama</td>\n",
       "      <td>1</td>\n",
       "    </tr>\n",
       "    <tr>\n",
       "      <th>0</th>\n",
       "      <td>Who Framed Roger Rabbit? (1988)</td>\n",
       "      <td>Adventure|Animation|Film-Noir</td>\n",
       "      <td>1</td>\n",
       "    </tr>\n",
       "  </tbody>\n",
       "</table>\n",
       "<p>153 rows × 3 columns</p>\n",
       "</div>"
      ],
      "text/plain": [
       "                                                 title  \\\n",
       "152       Rosencrantz and Guildenstern Are Dead (1990)   \n",
       "60                     Ghost and Mrs. Muir, The (1947)   \n",
       "71                               Beyond the Mat (2000)   \n",
       "132               Big Blue, The (Le Grand Bleu) (1988)   \n",
       "133  Seven Samurai (The Magnificent Seven) (Shichin...   \n",
       "..                                                 ...   \n",
       "96                  Little Shop of Horrors, The (1960)   \n",
       "103                                Mary Poppins (1964)   \n",
       "11       Princess Mononoke, The (Mononoke Hime) (1997)   \n",
       "8                                   Stand by Me (1986)   \n",
       "0                      Who Framed Roger Rabbit? (1988)   \n",
       "\n",
       "                            genres  rating  \n",
       "152                   Comedy|Drama       5  \n",
       "60                   Drama|Romance       5  \n",
       "71                     Documentary       5  \n",
       "132              Adventure|Romance       5  \n",
       "133                   Action|Drama       5  \n",
       "..                             ...     ...  \n",
       "96                   Comedy|Horror       2  \n",
       "103      Children's|Comedy|Musical       1  \n",
       "11      Action|Adventure|Animation       1  \n",
       "8           Adventure|Comedy|Drama       1  \n",
       "0    Adventure|Animation|Film-Noir       1  \n",
       "\n",
       "[153 rows x 3 columns]"
      ]
     },
     "execution_count": 26,
     "metadata": {},
     "output_type": "execute_result"
    }
   ],
   "source": [
    "oRecommender.dfGetUserHistory()"
   ]
  },
  {
   "cell_type": "markdown",
   "id": "9e00913b-56ea-4091-b2a5-606905b336af",
   "metadata": {
    "jp-MarkdownHeadingCollapsed": true,
    "tags": []
   },
   "source": [
    "# IMPLEMENTATION"
   ]
  },
  {
   "cell_type": "markdown",
   "id": "2c578112-29af-4bed-aa28-1df71ff36d8e",
   "metadata": {},
   "source": [
    "* **Scalibility** is a challage.\n",
    "    * Spark cluster should be used for machine learning models.\n",
    "    * Big data and cloud technologies should be used for databases, data streamings, virutal machines.\n",
    "* It is challange for users who never rated before, or new user, or new movie etc...\n",
    "    * There should be another machine learning algorithms to identify the cluster of customer via using features such as user interaction, search results, user profile etc.\n",
    "    * Some nearline algorithms could be run after enough data is collected from user. Embedding, encoding models etc. could be updated.\n",
    "    * Models should not be fully retrained. Instead, a trained weights could be applied as weight initialization.\n",
    "    * Some rule based algorithims could be applied also to cluster customers/movies etc.\n",
    "\n",
    "* **Latency** could be issue. User should be encouraged immidiately after making some searches.\n",
    "    * Spark streaming, Kafka etc. can be used streaming based predicitons.\n",
    "    * ElasticSearch integration can be used for search basis.\n",
    "   \n",
    "* Models can be outdated\n",
    "    * Six sigma based, stastistical process control mechanisms could be used to monitor model performances.\n",
    "    * Manual model verificiation might be needed.\n",
    "    * A/B test can be applied.\n",
    "\n",
    "* Imbalancade data could occur about rating.\n",
    "    * Data oversampling/undersampling can be done. In this study, I have applied but it didn't give very good results.\n",
    "    * Cross validation can be applied.\n",
    "    \n",
    "* CI/CD, ml-ops activities should be ensured so that they can be executed based on a framework.\n"
   ]
  },
  {
   "cell_type": "markdown",
   "id": "bfaca5ba-a9e4-4a88-946d-049c72e97997",
   "metadata": {
    "tags": []
   },
   "source": [
    "# FUTURE STEPS"
   ]
  },
  {
   "cell_type": "markdown",
   "id": "21310a63-5e5f-4bc0-92cb-4110bcff14b8",
   "metadata": {},
   "source": [
    "1. Book https://www.amazon.com/Recommender-Systems-Introduction-Dietmar-Jannach/dp/0521493366 should be read.\n",
    "1. For Embedding layer of movies, vocabulary of **title** of movie can be used.\n",
    "1. Sequence of user ratings is important. Sequence models can be used.\n",
    "1. Don't recommend second version of series if the user did not watch the first ones.\n",
    "1. **Singular Value Decomposition** can be applied. I applied, there were good results."
   ]
  },
  {
   "cell_type": "markdown",
   "id": "83e15b57-949f-43af-98f5-4d631ff67a7e",
   "metadata": {
    "tags": []
   },
   "source": [
    "# REFERENCES"
   ]
  },
  {
   "cell_type": "markdown",
   "id": "636f28ea-564e-4bd6-99b4-027562a4a624",
   "metadata": {},
   "source": [
    "1. https://developers.google.com/machine-learning/clustering/similarity/supervised-similarity\n",
    "1. https://towardsdatascience.com/recommender-systems-from-learned-embeddings-f1d12288f278#:~:text=Embeddings%20are%20vector%20representations%20of,and%20user%20IDs%20as%20embeddings.\n",
    "1. https://netflixtechblog.com/netflix-recommendations-beyond-the-5-stars-part-1-55838468f429\n",
    "1. https://netflixtechblog.com/netflix-recommendations-beyond-the-5-stars-part-2-d9b96aa399f5\n",
    "1. https://blog.tensorflow.org/2020/09/introducing-tensorflow-recommenders.html\n",
    "1. http://buzzard.ups.edu/courses/2014spring/420projects/math420-UPS-spring-2014-gower-netflix-SVD.pdf"
   ]
  }
 ],
 "metadata": {
  "kernelspec": {
   "display_name": "Python 3",
   "language": "python",
   "name": "python3"
  },
  "language_info": {
   "codemirror_mode": {
    "name": "ipython",
    "version": 3
   },
   "file_extension": ".py",
   "mimetype": "text/x-python",
   "name": "python",
   "nbconvert_exporter": "python",
   "pygments_lexer": "ipython3",
   "version": "3.7.10"
  }
 },
 "nbformat": 4,
 "nbformat_minor": 5
}
