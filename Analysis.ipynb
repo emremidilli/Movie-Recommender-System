{
 "cells": [
  {
   "cell_type": "markdown",
   "id": "0e0b4891-c21a-4bfa-a6c1-39e15e19e310",
   "metadata": {
    "jp-MarkdownHeadingCollapsed": true,
    "tags": []
   },
   "source": [
    "# INTRODUCTION"
   ]
  },
  {
   "cell_type": "markdown",
   "id": "b5e4bd9d-06bc-4f80-a47d-fc282993fed2",
   "metadata": {},
   "source": [
    "**Goal**\n",
    "\n",
    "The goal becomes to find a personalized ranking function that is better than item popularity, so we can better satisfy members with varying tastes.\n",
    "\n",
    "One obvious way to approach this is to use the member’s predicted rating of each item as an adjunct to item popularity. \n",
    "There are many ways one could construct a ranking function ranging from simple scoring methods, to pairwise preferences, to optimization over the entire ranking. \n",
    "\n",
    "**Scoring Approach**\n",
    "\n",
    "For the purposes of illustration, let us start with a very simple scoring approach by choosing our ranking function to be a linear combination of popularity and predicted rating. This gives an equation of the form frank(u,v) = w1 p(v) + w2 r(u,v) + b, where u=user, v=video item, p=popularity and r=predicted rating.\n",
    "\n",
    "**Limitations**\n",
    "\n",
    "1. Assumed that inference is done only for the rated movies and by the users who already rated.\n",
    "\n",
    "**Baseline**\n",
    "\n",
    "We already mentioned item popularity as a baseline. But, there are many ways to compute popularity. We can compute it over various time ranges, for instance hourly, daily, or weekly. Or, we can group members by region or other similarity metrics and compute popularity within that group.\n",
    "\n",
    "**Online System**\n",
    "\n",
    "An online machine learning system has a continuous stream of new input data. You’ll need to train your DNN on the new data. However, if you retrain your DNN from scratch, then your embeddings will be different because DNNs are initialized with random weights. Instead, always warm-start the DNN with the existing weights and then update the DNN with new data."
   ]
  },
  {
   "cell_type": "markdown",
   "id": "38b530b2-ea52-4d61-b5c3-76eb2aaff33a",
   "metadata": {
    "tags": []
   },
   "source": [
    "# LIBRARIES"
   ]
  },
  {
   "cell_type": "code",
   "execution_count": 1,
   "id": "0e9c55a1-ef5e-4637-ae61-cb2e3b440e5d",
   "metadata": {},
   "outputs": [],
   "source": [
    "import pandas as pd\n",
    "\n",
    "import numpy as np\n",
    "\n",
    "from tensorflow.keras.utils import plot_model\n",
    "\n",
    "from sklearn.metrics import confusion_matrix\n",
    "from sklearn.metrics import ConfusionMatrixDisplay\n",
    "from sklearn.metrics import classification_report\n",
    "\n",
    "import seaborn as sns\n",
    "import matplotlib.pyplot as plt\n",
    "\n",
    "from Movie_Recommender import SourceData, PreProcessing, DeepLearning, Recommendation"
   ]
  },
  {
   "cell_type": "code",
   "execution_count": 2,
   "id": "d133117e-58bf-4e43-8d58-9a40a49cff56",
   "metadata": {},
   "outputs": [],
   "source": [
    "np.set_printoptions(suppress=True)"
   ]
  },
  {
   "cell_type": "markdown",
   "id": "0e743e57-588d-4455-82c1-74875306eb7b",
   "metadata": {
    "tags": []
   },
   "source": [
    "# DATA SOURCE"
   ]
  },
  {
   "cell_type": "markdown",
   "id": "4206f404-0fbe-4d9e-85db-34eb18efb983",
   "metadata": {},
   "source": [
    "Data is downloaded from the link https://www.kaggle.com/datasets/san1201/movielens1m?select=ml-1m.train.csv"
   ]
  },
  {
   "cell_type": "markdown",
   "id": "a6971f14-009d-4fda-bc45-2afd6ae0af35",
   "metadata": {
    "jp-MarkdownHeadingCollapsed": true,
    "tags": []
   },
   "source": [
    "## Users"
   ]
  },
  {
   "cell_type": "code",
   "execution_count": 3,
   "id": "8342fc19-8867-4c80-97a0-9c8c84a2250b",
   "metadata": {},
   "outputs": [
    {
     "data": {
      "text/html": [
       "<div>\n",
       "<style scoped>\n",
       "    .dataframe tbody tr th:only-of-type {\n",
       "        vertical-align: middle;\n",
       "    }\n",
       "\n",
       "    .dataframe tbody tr th {\n",
       "        vertical-align: top;\n",
       "    }\n",
       "\n",
       "    .dataframe thead th {\n",
       "        text-align: right;\n",
       "    }\n",
       "</style>\n",
       "<table border=\"1\" class=\"dataframe\">\n",
       "  <thead>\n",
       "    <tr style=\"text-align: right;\">\n",
       "      <th></th>\n",
       "      <th>gender</th>\n",
       "      <th>age</th>\n",
       "      <th>occupation</th>\n",
       "      <th>zip_code</th>\n",
       "    </tr>\n",
       "    <tr>\n",
       "      <th>user_id</th>\n",
       "      <th></th>\n",
       "      <th></th>\n",
       "      <th></th>\n",
       "      <th></th>\n",
       "    </tr>\n",
       "  </thead>\n",
       "  <tbody>\n",
       "    <tr>\n",
       "      <th>1</th>\n",
       "      <td>F</td>\n",
       "      <td>1</td>\n",
       "      <td>10</td>\n",
       "      <td>48067</td>\n",
       "    </tr>\n",
       "    <tr>\n",
       "      <th>2</th>\n",
       "      <td>M</td>\n",
       "      <td>56</td>\n",
       "      <td>16</td>\n",
       "      <td>70072</td>\n",
       "    </tr>\n",
       "    <tr>\n",
       "      <th>3</th>\n",
       "      <td>M</td>\n",
       "      <td>25</td>\n",
       "      <td>15</td>\n",
       "      <td>55117</td>\n",
       "    </tr>\n",
       "    <tr>\n",
       "      <th>4</th>\n",
       "      <td>M</td>\n",
       "      <td>45</td>\n",
       "      <td>7</td>\n",
       "      <td>02460</td>\n",
       "    </tr>\n",
       "    <tr>\n",
       "      <th>5</th>\n",
       "      <td>M</td>\n",
       "      <td>25</td>\n",
       "      <td>20</td>\n",
       "      <td>55455</td>\n",
       "    </tr>\n",
       "  </tbody>\n",
       "</table>\n",
       "</div>"
      ],
      "text/plain": [
       "        gender  age  occupation zip_code\n",
       "user_id                                 \n",
       "1            F    1          10    48067\n",
       "2            M   56          16    70072\n",
       "3            M   25          15    55117\n",
       "4            M   45           7    02460\n",
       "5            M   25          20    55455"
      ]
     },
     "execution_count": 3,
     "metadata": {},
     "output_type": "execute_result"
    }
   ],
   "source": [
    "dfUsers = SourceData.dfGetUsers()\n",
    "dfCopyUsers = dfUsers.copy()\n",
    "dfUsers.head()"
   ]
  },
  {
   "cell_type": "markdown",
   "id": "2283798d-0d7e-44bd-b677-8e626f883eaf",
   "metadata": {
    "tags": []
   },
   "source": [
    "## Movies"
   ]
  },
  {
   "cell_type": "code",
   "execution_count": 4,
   "id": "ddaf93d9-757b-437c-9458-f5440c35165d",
   "metadata": {},
   "outputs": [
    {
     "data": {
      "text/html": [
       "<div>\n",
       "<style scoped>\n",
       "    .dataframe tbody tr th:only-of-type {\n",
       "        vertical-align: middle;\n",
       "    }\n",
       "\n",
       "    .dataframe tbody tr th {\n",
       "        vertical-align: top;\n",
       "    }\n",
       "\n",
       "    .dataframe thead th {\n",
       "        text-align: right;\n",
       "    }\n",
       "</style>\n",
       "<table border=\"1\" class=\"dataframe\">\n",
       "  <thead>\n",
       "    <tr style=\"text-align: right;\">\n",
       "      <th></th>\n",
       "      <th>title</th>\n",
       "      <th>genres</th>\n",
       "    </tr>\n",
       "    <tr>\n",
       "      <th>movie_id</th>\n",
       "      <th></th>\n",
       "      <th></th>\n",
       "    </tr>\n",
       "  </thead>\n",
       "  <tbody>\n",
       "    <tr>\n",
       "      <th>1</th>\n",
       "      <td>Toy Story (1995)</td>\n",
       "      <td>Animation|Children's|Comedy</td>\n",
       "    </tr>\n",
       "    <tr>\n",
       "      <th>2</th>\n",
       "      <td>Jumanji (1995)</td>\n",
       "      <td>Adventure|Children's|Fantasy</td>\n",
       "    </tr>\n",
       "    <tr>\n",
       "      <th>3</th>\n",
       "      <td>Grumpier Old Men (1995)</td>\n",
       "      <td>Comedy|Romance</td>\n",
       "    </tr>\n",
       "    <tr>\n",
       "      <th>4</th>\n",
       "      <td>Waiting to Exhale (1995)</td>\n",
       "      <td>Comedy|Drama</td>\n",
       "    </tr>\n",
       "    <tr>\n",
       "      <th>5</th>\n",
       "      <td>Father of the Bride Part II (1995)</td>\n",
       "      <td>Comedy</td>\n",
       "    </tr>\n",
       "  </tbody>\n",
       "</table>\n",
       "</div>"
      ],
      "text/plain": [
       "                                       title                        genres\n",
       "movie_id                                                                  \n",
       "1                           Toy Story (1995)   Animation|Children's|Comedy\n",
       "2                             Jumanji (1995)  Adventure|Children's|Fantasy\n",
       "3                    Grumpier Old Men (1995)                Comedy|Romance\n",
       "4                   Waiting to Exhale (1995)                  Comedy|Drama\n",
       "5         Father of the Bride Part II (1995)                        Comedy"
      ]
     },
     "execution_count": 4,
     "metadata": {},
     "output_type": "execute_result"
    }
   ],
   "source": [
    "dfMovies = SourceData.dfGetMovies()\n",
    "dfCopyMovies = dfMovies.copy()\n",
    "dfMovies.head()"
   ]
  },
  {
   "cell_type": "markdown",
   "id": "fa649dbd-7328-4c50-b3b1-270e9d4a95d5",
   "metadata": {
    "tags": []
   },
   "source": [
    "## Ratings"
   ]
  },
  {
   "cell_type": "code",
   "execution_count": 5,
   "id": "4fa20c83-30f3-4853-8721-eec372b5c79f",
   "metadata": {},
   "outputs": [
    {
     "data": {
      "text/html": [
       "<div>\n",
       "<style scoped>\n",
       "    .dataframe tbody tr th:only-of-type {\n",
       "        vertical-align: middle;\n",
       "    }\n",
       "\n",
       "    .dataframe tbody tr th {\n",
       "        vertical-align: top;\n",
       "    }\n",
       "\n",
       "    .dataframe thead th {\n",
       "        text-align: right;\n",
       "    }\n",
       "</style>\n",
       "<table border=\"1\" class=\"dataframe\">\n",
       "  <thead>\n",
       "    <tr style=\"text-align: right;\">\n",
       "      <th></th>\n",
       "      <th>user_id</th>\n",
       "      <th>movie_id</th>\n",
       "      <th>rating</th>\n",
       "      <th>timestamp</th>\n",
       "    </tr>\n",
       "  </thead>\n",
       "  <tbody>\n",
       "    <tr>\n",
       "      <th>0</th>\n",
       "      <td>1</td>\n",
       "      <td>1193</td>\n",
       "      <td>5</td>\n",
       "      <td>978300760</td>\n",
       "    </tr>\n",
       "    <tr>\n",
       "      <th>1</th>\n",
       "      <td>1</td>\n",
       "      <td>661</td>\n",
       "      <td>3</td>\n",
       "      <td>978302109</td>\n",
       "    </tr>\n",
       "    <tr>\n",
       "      <th>2</th>\n",
       "      <td>1</td>\n",
       "      <td>914</td>\n",
       "      <td>3</td>\n",
       "      <td>978301968</td>\n",
       "    </tr>\n",
       "    <tr>\n",
       "      <th>3</th>\n",
       "      <td>1</td>\n",
       "      <td>3408</td>\n",
       "      <td>4</td>\n",
       "      <td>978300275</td>\n",
       "    </tr>\n",
       "    <tr>\n",
       "      <th>4</th>\n",
       "      <td>1</td>\n",
       "      <td>2355</td>\n",
       "      <td>5</td>\n",
       "      <td>978824291</td>\n",
       "    </tr>\n",
       "  </tbody>\n",
       "</table>\n",
       "</div>"
      ],
      "text/plain": [
       "   user_id  movie_id  rating  timestamp\n",
       "0        1      1193       5  978300760\n",
       "1        1       661       3  978302109\n",
       "2        1       914       3  978301968\n",
       "3        1      3408       4  978300275\n",
       "4        1      2355       5  978824291"
      ]
     },
     "execution_count": 5,
     "metadata": {},
     "output_type": "execute_result"
    }
   ],
   "source": [
    "dfRatings = SourceData.dfGetRatings()\n",
    "dfCopyRatings = dfRatings.copy()\n",
    "dfRatings.head()"
   ]
  },
  {
   "cell_type": "markdown",
   "id": "91bcfca2-ce23-4c92-a720-d5729f9e35ec",
   "metadata": {
    "tags": []
   },
   "source": [
    "# PREPROCESSING"
   ]
  },
  {
   "cell_type": "markdown",
   "id": "49ada615-03f3-4df8-80da-0d89e2681ea1",
   "metadata": {
    "jp-MarkdownHeadingCollapsed": true,
    "tags": []
   },
   "source": [
    "## Extract Year of Release of Movies\n",
    "\n",
    "After moving the \"\"year_of_release\"\" from \"\"title\"\" there can be duplicated names. It means that same movie name has different release years. (e.g., <i>Hamlet</i>)"
   ]
  },
  {
   "cell_type": "code",
   "execution_count": 6,
   "id": "e479bee2-bc79-4ce5-847d-7694a085fc2b",
   "metadata": {},
   "outputs": [],
   "source": [
    "dfMovies = PreProcessing.dfExtractYearOfReleaseOfMovies(dfMovies)"
   ]
  },
  {
   "cell_type": "code",
   "execution_count": 7,
   "id": "01d46236-ca21-417d-bd5c-2f21f66f3088",
   "metadata": {},
   "outputs": [
    {
     "data": {
      "text/html": [
       "<div>\n",
       "<style scoped>\n",
       "    .dataframe tbody tr th:only-of-type {\n",
       "        vertical-align: middle;\n",
       "    }\n",
       "\n",
       "    .dataframe tbody tr th {\n",
       "        vertical-align: top;\n",
       "    }\n",
       "\n",
       "    .dataframe thead th {\n",
       "        text-align: right;\n",
       "    }\n",
       "</style>\n",
       "<table border=\"1\" class=\"dataframe\">\n",
       "  <thead>\n",
       "    <tr style=\"text-align: right;\">\n",
       "      <th></th>\n",
       "      <th>title</th>\n",
       "      <th>genres</th>\n",
       "      <th>year_of_release</th>\n",
       "    </tr>\n",
       "    <tr>\n",
       "      <th>movie_id</th>\n",
       "      <th></th>\n",
       "      <th></th>\n",
       "      <th></th>\n",
       "    </tr>\n",
       "  </thead>\n",
       "  <tbody>\n",
       "    <tr>\n",
       "      <th>1411</th>\n",
       "      <td>Hamlet</td>\n",
       "      <td>Drama</td>\n",
       "      <td>1996</td>\n",
       "    </tr>\n",
       "    <tr>\n",
       "      <th>1941</th>\n",
       "      <td>Hamlet</td>\n",
       "      <td>Drama</td>\n",
       "      <td>1948</td>\n",
       "    </tr>\n",
       "    <tr>\n",
       "      <th>2820</th>\n",
       "      <td>Hamlet</td>\n",
       "      <td>Drama</td>\n",
       "      <td>1964</td>\n",
       "    </tr>\n",
       "    <tr>\n",
       "      <th>3598</th>\n",
       "      <td>Hamlet</td>\n",
       "      <td>Drama</td>\n",
       "      <td>2000</td>\n",
       "    </tr>\n",
       "    <tr>\n",
       "      <th>3723</th>\n",
       "      <td>Hamlet</td>\n",
       "      <td>Drama</td>\n",
       "      <td>1990</td>\n",
       "    </tr>\n",
       "  </tbody>\n",
       "</table>\n",
       "</div>"
      ],
      "text/plain": [
       "           title genres  year_of_release\n",
       "movie_id                                \n",
       "1411      Hamlet  Drama             1996\n",
       "1941      Hamlet  Drama             1948\n",
       "2820      Hamlet  Drama             1964\n",
       "3598      Hamlet  Drama             2000\n",
       "3723      Hamlet  Drama             1990"
      ]
     },
     "execution_count": 7,
     "metadata": {},
     "output_type": "execute_result"
    }
   ],
   "source": [
    "dfMovies[dfMovies['title'] == 'Hamlet']"
   ]
  },
  {
   "cell_type": "markdown",
   "id": "1fdf9df0-f0c0-444b-b7de-09cc87e3f5c5",
   "metadata": {
    "tags": []
   },
   "source": [
    "## Transform Genres of Movies to One Hot Vector"
   ]
  },
  {
   "cell_type": "code",
   "execution_count": 8,
   "id": "41d5c299-d24c-45cd-8e79-b6056ace0d4e",
   "metadata": {},
   "outputs": [
    {
     "data": {
      "text/html": [
       "<div>\n",
       "<style scoped>\n",
       "    .dataframe tbody tr th:only-of-type {\n",
       "        vertical-align: middle;\n",
       "    }\n",
       "\n",
       "    .dataframe tbody tr th {\n",
       "        vertical-align: top;\n",
       "    }\n",
       "\n",
       "    .dataframe thead th {\n",
       "        text-align: right;\n",
       "    }\n",
       "</style>\n",
       "<table border=\"1\" class=\"dataframe\">\n",
       "  <thead>\n",
       "    <tr style=\"text-align: right;\">\n",
       "      <th></th>\n",
       "      <th>title</th>\n",
       "      <th>genres</th>\n",
       "      <th>year_of_release</th>\n",
       "      <th>Action</th>\n",
       "      <th>Adventure</th>\n",
       "      <th>Animation</th>\n",
       "      <th>Children's</th>\n",
       "      <th>Comedy</th>\n",
       "      <th>Crime</th>\n",
       "      <th>Documentary</th>\n",
       "      <th>...</th>\n",
       "      <th>Fantasy</th>\n",
       "      <th>Film-Noir</th>\n",
       "      <th>Horror</th>\n",
       "      <th>Musical</th>\n",
       "      <th>Mystery</th>\n",
       "      <th>Romance</th>\n",
       "      <th>Sci-Fi</th>\n",
       "      <th>Thriller</th>\n",
       "      <th>War</th>\n",
       "      <th>Western</th>\n",
       "    </tr>\n",
       "    <tr>\n",
       "      <th>movie_id</th>\n",
       "      <th></th>\n",
       "      <th></th>\n",
       "      <th></th>\n",
       "      <th></th>\n",
       "      <th></th>\n",
       "      <th></th>\n",
       "      <th></th>\n",
       "      <th></th>\n",
       "      <th></th>\n",
       "      <th></th>\n",
       "      <th></th>\n",
       "      <th></th>\n",
       "      <th></th>\n",
       "      <th></th>\n",
       "      <th></th>\n",
       "      <th></th>\n",
       "      <th></th>\n",
       "      <th></th>\n",
       "      <th></th>\n",
       "      <th></th>\n",
       "      <th></th>\n",
       "    </tr>\n",
       "  </thead>\n",
       "  <tbody>\n",
       "    <tr>\n",
       "      <th>1</th>\n",
       "      <td>Toy Story</td>\n",
       "      <td>Animation|Children's|Comedy</td>\n",
       "      <td>1995</td>\n",
       "      <td>0</td>\n",
       "      <td>0</td>\n",
       "      <td>1</td>\n",
       "      <td>1</td>\n",
       "      <td>1</td>\n",
       "      <td>0</td>\n",
       "      <td>0</td>\n",
       "      <td>...</td>\n",
       "      <td>0</td>\n",
       "      <td>0</td>\n",
       "      <td>0</td>\n",
       "      <td>0</td>\n",
       "      <td>0</td>\n",
       "      <td>0</td>\n",
       "      <td>0</td>\n",
       "      <td>0</td>\n",
       "      <td>0</td>\n",
       "      <td>0</td>\n",
       "    </tr>\n",
       "    <tr>\n",
       "      <th>2</th>\n",
       "      <td>Jumanji</td>\n",
       "      <td>Adventure|Children's|Fantasy</td>\n",
       "      <td>1995</td>\n",
       "      <td>0</td>\n",
       "      <td>1</td>\n",
       "      <td>0</td>\n",
       "      <td>1</td>\n",
       "      <td>0</td>\n",
       "      <td>0</td>\n",
       "      <td>0</td>\n",
       "      <td>...</td>\n",
       "      <td>1</td>\n",
       "      <td>0</td>\n",
       "      <td>0</td>\n",
       "      <td>0</td>\n",
       "      <td>0</td>\n",
       "      <td>0</td>\n",
       "      <td>0</td>\n",
       "      <td>0</td>\n",
       "      <td>0</td>\n",
       "      <td>0</td>\n",
       "    </tr>\n",
       "    <tr>\n",
       "      <th>3</th>\n",
       "      <td>Grumpier Old Men</td>\n",
       "      <td>Comedy|Romance</td>\n",
       "      <td>1995</td>\n",
       "      <td>0</td>\n",
       "      <td>0</td>\n",
       "      <td>0</td>\n",
       "      <td>0</td>\n",
       "      <td>1</td>\n",
       "      <td>0</td>\n",
       "      <td>0</td>\n",
       "      <td>...</td>\n",
       "      <td>0</td>\n",
       "      <td>0</td>\n",
       "      <td>0</td>\n",
       "      <td>0</td>\n",
       "      <td>0</td>\n",
       "      <td>1</td>\n",
       "      <td>0</td>\n",
       "      <td>0</td>\n",
       "      <td>0</td>\n",
       "      <td>0</td>\n",
       "    </tr>\n",
       "    <tr>\n",
       "      <th>4</th>\n",
       "      <td>Waiting to Exhale</td>\n",
       "      <td>Comedy|Drama</td>\n",
       "      <td>1995</td>\n",
       "      <td>0</td>\n",
       "      <td>0</td>\n",
       "      <td>0</td>\n",
       "      <td>0</td>\n",
       "      <td>1</td>\n",
       "      <td>0</td>\n",
       "      <td>0</td>\n",
       "      <td>...</td>\n",
       "      <td>0</td>\n",
       "      <td>0</td>\n",
       "      <td>0</td>\n",
       "      <td>0</td>\n",
       "      <td>0</td>\n",
       "      <td>0</td>\n",
       "      <td>0</td>\n",
       "      <td>0</td>\n",
       "      <td>0</td>\n",
       "      <td>0</td>\n",
       "    </tr>\n",
       "    <tr>\n",
       "      <th>5</th>\n",
       "      <td>Father of the Bride Part II</td>\n",
       "      <td>Comedy</td>\n",
       "      <td>1995</td>\n",
       "      <td>0</td>\n",
       "      <td>0</td>\n",
       "      <td>0</td>\n",
       "      <td>0</td>\n",
       "      <td>1</td>\n",
       "      <td>0</td>\n",
       "      <td>0</td>\n",
       "      <td>...</td>\n",
       "      <td>0</td>\n",
       "      <td>0</td>\n",
       "      <td>0</td>\n",
       "      <td>0</td>\n",
       "      <td>0</td>\n",
       "      <td>0</td>\n",
       "      <td>0</td>\n",
       "      <td>0</td>\n",
       "      <td>0</td>\n",
       "      <td>0</td>\n",
       "    </tr>\n",
       "    <tr>\n",
       "      <th>...</th>\n",
       "      <td>...</td>\n",
       "      <td>...</td>\n",
       "      <td>...</td>\n",
       "      <td>...</td>\n",
       "      <td>...</td>\n",
       "      <td>...</td>\n",
       "      <td>...</td>\n",
       "      <td>...</td>\n",
       "      <td>...</td>\n",
       "      <td>...</td>\n",
       "      <td>...</td>\n",
       "      <td>...</td>\n",
       "      <td>...</td>\n",
       "      <td>...</td>\n",
       "      <td>...</td>\n",
       "      <td>...</td>\n",
       "      <td>...</td>\n",
       "      <td>...</td>\n",
       "      <td>...</td>\n",
       "      <td>...</td>\n",
       "      <td>...</td>\n",
       "    </tr>\n",
       "    <tr>\n",
       "      <th>3948</th>\n",
       "      <td>Meet the Parents</td>\n",
       "      <td>Comedy</td>\n",
       "      <td>2000</td>\n",
       "      <td>0</td>\n",
       "      <td>0</td>\n",
       "      <td>0</td>\n",
       "      <td>0</td>\n",
       "      <td>1</td>\n",
       "      <td>0</td>\n",
       "      <td>0</td>\n",
       "      <td>...</td>\n",
       "      <td>0</td>\n",
       "      <td>0</td>\n",
       "      <td>0</td>\n",
       "      <td>0</td>\n",
       "      <td>0</td>\n",
       "      <td>0</td>\n",
       "      <td>0</td>\n",
       "      <td>0</td>\n",
       "      <td>0</td>\n",
       "      <td>0</td>\n",
       "    </tr>\n",
       "    <tr>\n",
       "      <th>3949</th>\n",
       "      <td>Requiem for a Dream</td>\n",
       "      <td>Drama</td>\n",
       "      <td>2000</td>\n",
       "      <td>0</td>\n",
       "      <td>0</td>\n",
       "      <td>0</td>\n",
       "      <td>0</td>\n",
       "      <td>0</td>\n",
       "      <td>0</td>\n",
       "      <td>0</td>\n",
       "      <td>...</td>\n",
       "      <td>0</td>\n",
       "      <td>0</td>\n",
       "      <td>0</td>\n",
       "      <td>0</td>\n",
       "      <td>0</td>\n",
       "      <td>0</td>\n",
       "      <td>0</td>\n",
       "      <td>0</td>\n",
       "      <td>0</td>\n",
       "      <td>0</td>\n",
       "    </tr>\n",
       "    <tr>\n",
       "      <th>3950</th>\n",
       "      <td>Tigerland</td>\n",
       "      <td>Drama</td>\n",
       "      <td>2000</td>\n",
       "      <td>0</td>\n",
       "      <td>0</td>\n",
       "      <td>0</td>\n",
       "      <td>0</td>\n",
       "      <td>0</td>\n",
       "      <td>0</td>\n",
       "      <td>0</td>\n",
       "      <td>...</td>\n",
       "      <td>0</td>\n",
       "      <td>0</td>\n",
       "      <td>0</td>\n",
       "      <td>0</td>\n",
       "      <td>0</td>\n",
       "      <td>0</td>\n",
       "      <td>0</td>\n",
       "      <td>0</td>\n",
       "      <td>0</td>\n",
       "      <td>0</td>\n",
       "    </tr>\n",
       "    <tr>\n",
       "      <th>3951</th>\n",
       "      <td>Two Family House</td>\n",
       "      <td>Drama</td>\n",
       "      <td>2000</td>\n",
       "      <td>0</td>\n",
       "      <td>0</td>\n",
       "      <td>0</td>\n",
       "      <td>0</td>\n",
       "      <td>0</td>\n",
       "      <td>0</td>\n",
       "      <td>0</td>\n",
       "      <td>...</td>\n",
       "      <td>0</td>\n",
       "      <td>0</td>\n",
       "      <td>0</td>\n",
       "      <td>0</td>\n",
       "      <td>0</td>\n",
       "      <td>0</td>\n",
       "      <td>0</td>\n",
       "      <td>0</td>\n",
       "      <td>0</td>\n",
       "      <td>0</td>\n",
       "    </tr>\n",
       "    <tr>\n",
       "      <th>3952</th>\n",
       "      <td>Contender, The</td>\n",
       "      <td>Drama|Thriller</td>\n",
       "      <td>2000</td>\n",
       "      <td>0</td>\n",
       "      <td>0</td>\n",
       "      <td>0</td>\n",
       "      <td>0</td>\n",
       "      <td>0</td>\n",
       "      <td>0</td>\n",
       "      <td>0</td>\n",
       "      <td>...</td>\n",
       "      <td>0</td>\n",
       "      <td>0</td>\n",
       "      <td>0</td>\n",
       "      <td>0</td>\n",
       "      <td>0</td>\n",
       "      <td>0</td>\n",
       "      <td>0</td>\n",
       "      <td>1</td>\n",
       "      <td>0</td>\n",
       "      <td>0</td>\n",
       "    </tr>\n",
       "  </tbody>\n",
       "</table>\n",
       "<p>3883 rows × 21 columns</p>\n",
       "</div>"
      ],
      "text/plain": [
       "                                title                        genres  \\\n",
       "movie_id                                                              \n",
       "1                           Toy Story   Animation|Children's|Comedy   \n",
       "2                             Jumanji  Adventure|Children's|Fantasy   \n",
       "3                    Grumpier Old Men                Comedy|Romance   \n",
       "4                   Waiting to Exhale                  Comedy|Drama   \n",
       "5         Father of the Bride Part II                        Comedy   \n",
       "...                               ...                           ...   \n",
       "3948                 Meet the Parents                        Comedy   \n",
       "3949              Requiem for a Dream                         Drama   \n",
       "3950                        Tigerland                         Drama   \n",
       "3951                 Two Family House                         Drama   \n",
       "3952                   Contender, The                Drama|Thriller   \n",
       "\n",
       "          year_of_release  Action  Adventure  Animation  Children's  Comedy  \\\n",
       "movie_id                                                                      \n",
       "1                    1995       0          0          1           1       1   \n",
       "2                    1995       0          1          0           1       0   \n",
       "3                    1995       0          0          0           0       1   \n",
       "4                    1995       0          0          0           0       1   \n",
       "5                    1995       0          0          0           0       1   \n",
       "...                   ...     ...        ...        ...         ...     ...   \n",
       "3948                 2000       0          0          0           0       1   \n",
       "3949                 2000       0          0          0           0       0   \n",
       "3950                 2000       0          0          0           0       0   \n",
       "3951                 2000       0          0          0           0       0   \n",
       "3952                 2000       0          0          0           0       0   \n",
       "\n",
       "          Crime  Documentary  ...  Fantasy  Film-Noir  Horror  Musical  \\\n",
       "movie_id                      ...                                        \n",
       "1             0            0  ...        0          0       0        0   \n",
       "2             0            0  ...        1          0       0        0   \n",
       "3             0            0  ...        0          0       0        0   \n",
       "4             0            0  ...        0          0       0        0   \n",
       "5             0            0  ...        0          0       0        0   \n",
       "...         ...          ...  ...      ...        ...     ...      ...   \n",
       "3948          0            0  ...        0          0       0        0   \n",
       "3949          0            0  ...        0          0       0        0   \n",
       "3950          0            0  ...        0          0       0        0   \n",
       "3951          0            0  ...        0          0       0        0   \n",
       "3952          0            0  ...        0          0       0        0   \n",
       "\n",
       "          Mystery  Romance  Sci-Fi  Thriller  War  Western  \n",
       "movie_id                                                    \n",
       "1               0        0       0         0    0        0  \n",
       "2               0        0       0         0    0        0  \n",
       "3               0        1       0         0    0        0  \n",
       "4               0        0       0         0    0        0  \n",
       "5               0        0       0         0    0        0  \n",
       "...           ...      ...     ...       ...  ...      ...  \n",
       "3948            0        0       0         0    0        0  \n",
       "3949            0        0       0         0    0        0  \n",
       "3950            0        0       0         0    0        0  \n",
       "3951            0        0       0         0    0        0  \n",
       "3952            0        0       0         1    0        0  \n",
       "\n",
       "[3883 rows x 21 columns]"
      ]
     },
     "execution_count": 8,
     "metadata": {},
     "output_type": "execute_result"
    }
   ],
   "source": [
    "dfMovies = PreProcessing.dfTransformGenresToOneHot(dfMovies)\n",
    "dfMovies"
   ]
  },
  {
   "cell_type": "markdown",
   "id": "0c617921-bed8-4535-9472-ef0ce2757433",
   "metadata": {
    "tags": []
   },
   "source": [
    "## Merge Datasets"
   ]
  },
  {
   "cell_type": "code",
   "execution_count": 9,
   "id": "0e264684-d1f3-4b6c-b77a-931be65fb700",
   "metadata": {},
   "outputs": [],
   "source": [
    "dfPreprocessed = PreProcessing.dfMergeRatingsMoviesUsers(dfRatings, dfMovies, dfUsers)"
   ]
  },
  {
   "cell_type": "markdown",
   "id": "17f76e0d-f334-4a04-86b5-78773454f3f5",
   "metadata": {
    "tags": []
   },
   "source": [
    "## Encode Movie ID and Item Id in Ratings Dataset"
   ]
  },
  {
   "cell_type": "code",
   "execution_count": 10,
   "id": "2ee90121-bb74-4468-9754-e7c951a6091c",
   "metadata": {},
   "outputs": [],
   "source": [
    "dfPreprocessed = PreProcessing.oEncodeFieldWithOrdinalEncoder(dfPreprocessed, 'movie_id')\n",
    "dfPreprocessed = PreProcessing.oEncodeFieldWithOrdinalEncoder(dfPreprocessed, 'user_id')"
   ]
  },
  {
   "cell_type": "markdown",
   "id": "bd278fea-8b2d-472e-8f5e-286b36a48f6f",
   "metadata": {
    "tags": []
   },
   "source": [
    "## Split Train-Validation-Test"
   ]
  },
  {
   "cell_type": "code",
   "execution_count": 11,
   "id": "fd849b31-2404-4692-8967-061fee7b3a02",
   "metadata": {},
   "outputs": [],
   "source": [
    "ixTrain, ixValidation , ixTest = PreProcessing.ixSplitTrainValidationTest(dfPreprocessed)"
   ]
  },
  {
   "cell_type": "markdown",
   "id": "6b484f89-20b3-4fc5-9ff9-e806b2144f6b",
   "metadata": {
    "tags": []
   },
   "source": [
    "# DEEP LEARNING MODEL"
   ]
  },
  {
   "cell_type": "markdown",
   "id": "ff349306-7972-4c2e-947d-8b7295334a74",
   "metadata": {
    "tags": []
   },
   "source": [
    "## Identify Unique Number of Movies and Users in Ratings Dataset"
   ]
  },
  {
   "cell_type": "code",
   "execution_count": 12,
   "id": "ee643cac-f842-4a77-8ffb-890f19b2604a",
   "metadata": {},
   "outputs": [],
   "source": [
    "iNrOfMovies, iNrOfUsers = DeepLearning.iGetNrOfUniqueMoviesUsers(dfPreprocessed)"
   ]
  },
  {
   "cell_type": "markdown",
   "id": "2cfe4e23-cbd0-4917-b21c-6a0fe694dd28",
   "metadata": {
    "tags": []
   },
   "source": [
    "## Build Input Datasets"
   ]
  },
  {
   "cell_type": "code",
   "execution_count": 13,
   "id": "85532d32-b8c8-4486-8b09-37ab1573b230",
   "metadata": {
    "tags": []
   },
   "outputs": [],
   "source": [
    "aMovie_X_Train, aMovie_X_Validation, aMovie_X_Test, aUser_X_Train, aUser_X_Validation, aUser_X_Test = DeepLearning.aBuildInputDatasets(dfPreprocessed, ixTrain, ixValidation, ixTest)"
   ]
  },
  {
   "cell_type": "markdown",
   "id": "0dab0abb-a7e0-4f0e-a949-cbbf7e3bf768",
   "metadata": {},
   "source": [
    "## Build Output Datasets"
   ]
  },
  {
   "cell_type": "code",
   "execution_count": 14,
   "id": "0ad99d62-98fa-4739-a67b-db00728e3544",
   "metadata": {},
   "outputs": [],
   "source": [
    "a_y_Train, a_y_Validation, a_y_Test = DeepLearning.aBuildOutputDatasets(dfPreprocessed, ixTrain, ixValidation,ixTest)"
   ]
  },
  {
   "cell_type": "markdown",
   "id": "dee1c0e3-b4b8-4d9f-a467-b4938cd2023e",
   "metadata": {
    "tags": []
   },
   "source": [
    "## Build Model"
   ]
  },
  {
   "cell_type": "code",
   "execution_count": 16,
   "id": "d9c3e89e-241b-473b-a222-bc34896b21d2",
   "metadata": {},
   "outputs": [
    {
     "data": {
      "image/png": "[encoded data removed]",
      "text/plain": [
       "<IPython.core.display.Image object>"
      ]
     },
     "execution_count": 16,
     "metadata": {},
     "output_type": "execute_result"
    }
   ],
   "source": [
    "oModelRatingEstimator = DeepLearning.oBuildModel(iNrOfMovies, iNrOfUsers)\n",
    "plot_model(oModelRatingEstimator, show_shapes=True)"
   ]
  },
  {
   "cell_type": "markdown",
   "id": "493b71f1-d867-4748-bb61-ca2056290e96",
   "metadata": {
    "tags": []
   },
   "source": [
    "## Fit Model"
   ]
  },
  {
   "cell_type": "code",
   "execution_count": 17,
   "id": "d4e5882b-ab05-410b-a6fc-4103e8289c49",
   "metadata": {},
   "outputs": [
    {
     "name": "stdout",
     "output_type": "stream",
     "text": [
      "Epoch 1/1000\n",
      "171/171 [==============================] - 4s 16ms/step - loss: 0.4775 - val_loss: 0.4315\n",
      "Epoch 2/1000\n",
      "171/171 [==============================] - 3s 15ms/step - loss: 0.4392 - val_loss: 0.4194\n",
      "Epoch 3/1000\n",
      "171/171 [==============================] - 3s 15ms/step - loss: 0.4284 - val_loss: 0.4154\n",
      "Epoch 4/1000\n",
      "171/171 [==============================] - 3s 15ms/step - loss: 0.4228 - val_loss: 0.4126\n",
      "Epoch 5/1000\n",
      "171/171 [==============================] - 3s 15ms/step - loss: 0.4188 - val_loss: 0.4108\n",
      "Epoch 6/1000\n",
      "171/171 [==============================] - 3s 15ms/step - loss: 0.4160 - val_loss: 0.4101\n",
      "Epoch 7/1000\n",
      "171/171 [==============================] - 3s 15ms/step - loss: 0.4140 - val_loss: 0.4089\n",
      "Epoch 8/1000\n",
      "171/171 [==============================] - 3s 15ms/step - loss: 0.4122 - val_loss: 0.4075\n",
      "Epoch 9/1000\n",
      "171/171 [==============================] - 3s 15ms/step - loss: 0.4108 - val_loss: 0.4069\n",
      "Epoch 10/1000\n",
      "171/171 [==============================] - 3s 19ms/step - loss: 0.4096 - val_loss: 0.4068\n",
      "Epoch 11/1000\n",
      "171/171 [==============================] - 3s 19ms/step - loss: 0.4086 - val_loss: 0.4064\n",
      "Epoch 12/1000\n",
      "171/171 [==============================] - 3s 19ms/step - loss: 0.4078 - val_loss: 0.4061\n",
      "Epoch 13/1000\n",
      "171/171 [==============================] - 3s 19ms/step - loss: 0.4071 - val_loss: 0.4056\n",
      "Epoch 14/1000\n",
      "171/171 [==============================] - 3s 18ms/step - loss: 0.4063 - val_loss: 0.4055\n",
      "Epoch 15/1000\n",
      "171/171 [==============================] - 3s 19ms/step - loss: 0.4055 - val_loss: 0.4052\n",
      "Epoch 16/1000\n",
      "171/171 [==============================] - 3s 18ms/step - loss: 0.4050 - val_loss: 0.4055\n",
      "Epoch 17/1000\n",
      "171/171 [==============================] - 3s 19ms/step - loss: 0.4044 - val_loss: 0.4046\n",
      "Epoch 18/1000\n",
      "171/171 [==============================] - 3s 19ms/step - loss: 0.4039 - val_loss: 0.4046\n",
      "Epoch 19/1000\n",
      "171/171 [==============================] - 3s 18ms/step - loss: 0.4032 - val_loss: 0.4045\n",
      "Epoch 20/1000\n",
      "171/171 [==============================] - 3s 18ms/step - loss: 0.4026 - val_loss: 0.4039\n",
      "Epoch 21/1000\n",
      "171/171 [==============================] - 3s 18ms/step - loss: 0.4019 - val_loss: 0.4042\n",
      "Epoch 22/1000\n",
      "171/171 [==============================] - 3s 20ms/step - loss: 0.4013 - val_loss: 0.4035\n",
      "Epoch 23/1000\n",
      "171/171 [==============================] - 3s 19ms/step - loss: 0.4007 - val_loss: 0.4036\n",
      "Epoch 24/1000\n",
      "171/171 [==============================] - 3s 18ms/step - loss: 0.4001 - val_loss: 0.4034\n",
      "Epoch 25/1000\n",
      "171/171 [==============================] - 3s 18ms/step - loss: 0.3996 - val_loss: 0.4033\n",
      "Epoch 26/1000\n",
      "171/171 [==============================] - 3s 19ms/step - loss: 0.3994 - val_loss: 0.4033\n",
      "Epoch 27/1000\n",
      "171/171 [==============================] - 3s 18ms/step - loss: 0.3988 - val_loss: 0.4031\n",
      "Epoch 28/1000\n",
      "171/171 [==============================] - 3s 18ms/step - loss: 0.3985 - val_loss: 0.4032\n",
      "Epoch 29/1000\n",
      "171/171 [==============================] - 3s 19ms/step - loss: 0.3980 - val_loss: 0.4031\n",
      "Epoch 30/1000\n",
      "171/171 [==============================] - 3s 18ms/step - loss: 0.3976 - val_loss: 0.4034\n",
      "Epoch 31/1000\n",
      "171/171 [==============================] - 3s 19ms/step - loss: 0.3973 - val_loss: 0.4028\n",
      "Epoch 32/1000\n",
      "171/171 [==============================] - 3s 19ms/step - loss: 0.3969 - val_loss: 0.4026\n",
      "Epoch 33/1000\n",
      "171/171 [==============================] - 3s 19ms/step - loss: 0.3964 - val_loss: 0.4023\n",
      "Epoch 34/1000\n",
      "171/171 [==============================] - 3s 19ms/step - loss: 0.3959 - val_loss: 0.4021\n",
      "Epoch 35/1000\n",
      "171/171 [==============================] - 3s 19ms/step - loss: 0.3956 - val_loss: 0.4020\n",
      "Epoch 36/1000\n",
      "171/171 [==============================] - 4s 21ms/step - loss: 0.3952 - val_loss: 0.4019\n",
      "Epoch 37/1000\n",
      "171/171 [==============================] - 3s 20ms/step - loss: 0.3948 - val_loss: 0.4016\n",
      "Epoch 38/1000\n",
      "171/171 [==============================] - 3s 20ms/step - loss: 0.3946 - val_loss: 0.4015\n",
      "Epoch 39/1000\n",
      "171/171 [==============================] - 4s 21ms/step - loss: 0.3943 - val_loss: 0.4016\n",
      "Epoch 40/1000\n",
      "171/171 [==============================] - 3s 18ms/step - loss: 0.3941 - val_loss: 0.4016\n",
      "Epoch 41/1000\n",
      "171/171 [==============================] - 3s 18ms/step - loss: 0.3936 - val_loss: 0.4014\n",
      "Epoch 42/1000\n",
      "171/171 [==============================] - 3s 18ms/step - loss: 0.3933 - val_loss: 0.4012\n",
      "Epoch 43/1000\n",
      "171/171 [==============================] - 3s 17ms/step - loss: 0.3930 - val_loss: 0.4013\n",
      "Epoch 44/1000\n",
      "171/171 [==============================] - 3s 17ms/step - loss: 0.3928 - val_loss: 0.4011\n",
      "Epoch 45/1000\n",
      "171/171 [==============================] - 3s 18ms/step - loss: 0.3925 - val_loss: 0.4012\n",
      "Epoch 46/1000\n",
      "171/171 [==============================] - 3s 17ms/step - loss: 0.3922 - val_loss: 0.4014\n",
      "Epoch 47/1000\n",
      "171/171 [==============================] - 3s 17ms/step - loss: 0.3920 - val_loss: 0.4006\n",
      "Epoch 48/1000\n",
      "171/171 [==============================] - 3s 17ms/step - loss: 0.3917 - val_loss: 0.4018\n",
      "Epoch 49/1000\n",
      "171/171 [==============================] - 3s 17ms/step - loss: 0.3915 - val_loss: 0.4010\n",
      "Epoch 50/1000\n",
      "171/171 [==============================] - 3s 18ms/step - loss: 0.3912 - val_loss: 0.4006\n",
      "Epoch 51/1000\n",
      "171/171 [==============================] - 3s 18ms/step - loss: 0.3911 - val_loss: 0.4010\n",
      "Epoch 52/1000\n",
      "171/171 [==============================] - 3s 18ms/step - loss: 0.3908 - val_loss: 0.4009\n",
      "Epoch 53/1000\n",
      "171/171 [==============================] - 3s 17ms/step - loss: 0.3907 - val_loss: 0.4007\n",
      "Epoch 54/1000\n",
      "171/171 [==============================] - 3s 17ms/step - loss: 0.3904 - val_loss: 0.4005\n",
      "Epoch 55/1000\n",
      "171/171 [==============================] - 3s 17ms/step - loss: 0.3901 - val_loss: 0.4005\n",
      "Epoch 56/1000\n",
      "171/171 [==============================] - 3s 17ms/step - loss: 0.3901 - val_loss: 0.4000\n",
      "Epoch 57/1000\n",
      "171/171 [==============================] - 3s 17ms/step - loss: 0.3901 - val_loss: 0.4000\n",
      "Epoch 58/1000\n",
      "171/171 [==============================] - 3s 17ms/step - loss: 0.3897 - val_loss: 0.4004\n",
      "Epoch 59/1000\n",
      "171/171 [==============================] - 3s 17ms/step - loss: 0.3895 - val_loss: 0.4010\n",
      "Epoch 60/1000\n",
      "171/171 [==============================] - 3s 18ms/step - loss: 0.3895 - val_loss: 0.4004\n",
      "Epoch 61/1000\n",
      "171/171 [==============================] - 3s 18ms/step - loss: 0.3893 - val_loss: 0.4003\n",
      "Epoch 62/1000\n",
      "171/171 [==============================] - 3s 18ms/step - loss: 0.3892 - val_loss: 0.4009\n",
      "Epoch 63/1000\n",
      "171/171 [==============================] - 3s 17ms/step - loss: 0.3891 - val_loss: 0.3998\n",
      "Epoch 64/1000\n",
      "171/171 [==============================] - 3s 17ms/step - loss: 0.3889 - val_loss: 0.4002\n",
      "Epoch 65/1000\n",
      "171/171 [==============================] - 3s 17ms/step - loss: 0.3888 - val_loss: 0.4003\n",
      "Epoch 66/1000\n",
      "171/171 [==============================] - 3s 17ms/step - loss: 0.3885 - val_loss: 0.4003\n",
      "Epoch 67/1000\n",
      "171/171 [==============================] - 3s 18ms/step - loss: 0.3884 - val_loss: 0.4006\n",
      "Epoch 68/1000\n",
      "171/171 [==============================] - 4s 22ms/step - loss: 0.3885 - val_loss: 0.4004\n",
      "Epoch 69/1000\n",
      "171/171 [==============================] - 3s 19ms/step - loss: 0.3882 - val_loss: 0.4003\n",
      "Epoch 70/1000\n",
      "171/171 [==============================] - 3s 18ms/step - loss: 0.3881 - val_loss: 0.4004\n",
      "Epoch 71/1000\n",
      "171/171 [==============================] - 3s 19ms/step - loss: 0.3879 - val_loss: 0.4001\n",
      "Epoch 72/1000\n",
      "171/171 [==============================] - 3s 18ms/step - loss: 0.3880 - val_loss: 0.4002\n",
      "Epoch 73/1000\n",
      "171/171 [==============================] - 4s 24ms/step - loss: 0.3878 - val_loss: 0.4008\n"
     ]
    },
    {
     "name": "stderr",
     "output_type": "stream",
     "text": [
      "WARNING:absl:Found untraced functions such as re_lu_layer_call_and_return_conditional_losses, re_lu_layer_call_fn, re_lu_1_layer_call_and_return_conditional_losses, re_lu_1_layer_call_fn, re_lu_2_layer_call_and_return_conditional_losses while saving (showing 5 of 15). These functions will not be directly callable after loading.\n"
     ]
    },
    {
     "name": "stdout",
     "output_type": "stream",
     "text": [
      "INFO:tensorflow:Assets written to: Models\\rating_estimator_model\\assets\n"
     ]
    },
    {
     "name": "stderr",
     "output_type": "stream",
     "text": [
      "INFO:tensorflow:Assets written to: Models\\rating_estimator_model\\assets\n"
     ]
    }
   ],
   "source": [
    "dfHistory = DeepLearning.dfFitModel(oModelRatingEstimator, aMovie_X_Train, aUser_X_Train,a_y_Train, aMovie_X_Validation, aUser_X_Validation, a_y_Validation)"
   ]
  },
  {
   "cell_type": "code",
   "execution_count": 18,
   "id": "e68d0d5c-c5ac-497f-ab0f-5074d5b451f9",
   "metadata": {},
   "outputs": [
    {
     "data": {
      "text/plain": [
       "<AxesSubplot:ylabel='loss'>"
      ]
     },
     "execution_count": 18,
     "metadata": {},
     "output_type": "execute_result"
    },
    {
     "data": {
      "image/png": "[encoded data removed]",
      "text/plain": [
       "<Figure size 1440x576 with 1 Axes>"
      ]
     },
     "metadata": {
      "needs_background": "light"
     },
     "output_type": "display_data"
    }
   ],
   "source": [
    "plt.figure(figsize = (20, 8))\n",
    "sns.lineplot(data = dfHistory['loss'].iloc[1:], legend = True, label = 'Train')\n",
    "sns.lineplot(data = dfHistory['val_loss'].iloc[1:], legend = True, label = 'Validation')"
   ]
  },
  {
   "cell_type": "markdown",
   "id": "129f0553-4dc7-412e-83c0-eef19928fac9",
   "metadata": {
    "tags": []
   },
   "source": [
    "## Test Model"
   ]
  },
  {
   "cell_type": "code",
   "execution_count": 19,
   "id": "dfc6feda-b639-4603-b1f2-d5fe0ca31422",
   "metadata": {},
   "outputs": [
    {
     "data": {
      "text/html": [
       "<div>\n",
       "<style scoped>\n",
       "    .dataframe tbody tr th:only-of-type {\n",
       "        vertical-align: middle;\n",
       "    }\n",
       "\n",
       "    .dataframe tbody tr th {\n",
       "        vertical-align: top;\n",
       "    }\n",
       "\n",
       "    .dataframe thead th {\n",
       "        text-align: right;\n",
       "    }\n",
       "</style>\n",
       "<table border=\"1\" class=\"dataframe\">\n",
       "  <thead>\n",
       "    <tr style=\"text-align: right;\">\n",
       "      <th></th>\n",
       "      <th>Value</th>\n",
       "    </tr>\n",
       "  </thead>\n",
       "  <tbody>\n",
       "    <tr>\n",
       "      <th>Mean Squared Error</th>\n",
       "      <td>0.99</td>\n",
       "    </tr>\n",
       "    <tr>\n",
       "      <th>Root Mean Squared Error</th>\n",
       "      <td>0.99</td>\n",
       "    </tr>\n",
       "    <tr>\n",
       "      <th>Mean Absolute Error</th>\n",
       "      <td>0.67</td>\n",
       "    </tr>\n",
       "    <tr>\n",
       "      <th>R2 Score</th>\n",
       "      <td>0.21</td>\n",
       "    </tr>\n",
       "  </tbody>\n",
       "</table>\n",
       "</div>"
      ],
      "text/plain": [
       "                         Value\n",
       "Mean Squared Error        0.99\n",
       "Root Mean Squared Error   0.99\n",
       "Mean Absolute Error       0.67\n",
       "R2 Score                  0.21"
      ]
     },
     "execution_count": 19,
     "metadata": {},
     "output_type": "execute_result"
    }
   ],
   "source": [
    "pred = DeepLearning.aPredict(aMovie_X_Test, aUser_X_Test, oModelRatingEstimator)\n",
    "ground_true = DeepLearning.aDecodeOutput(a_y_Test)\n",
    "\n",
    "DeepLearning.dfGetRegressionMetrics(ground_true, pred)"
   ]
  },
  {
   "cell_type": "code",
   "execution_count": 20,
   "id": "78da4e9d-6328-48c3-9088-0df9d35fb78e",
   "metadata": {},
   "outputs": [
    {
     "name": "stdout",
     "output_type": "stream",
     "text": [
      "              precision    recall  f1-score   support\n",
      "\n",
      "           1       0.50      0.29      0.37      8484\n",
      "           2       0.38      0.15      0.21     16088\n",
      "           3       0.41      0.42      0.42     38955\n",
      "           4       0.45      0.62      0.53     52609\n",
      "           5       0.56      0.45      0.49     33896\n",
      "\n",
      "    accuracy                           0.46    150032\n",
      "   macro avg       0.46      0.39      0.40    150032\n",
      "weighted avg       0.46      0.46      0.45    150032\n",
      "\n"
     ]
    },
    {
     "data": {
      "text/plain": [
       "<sklearn.metrics._plot.confusion_matrix.ConfusionMatrixDisplay at 0x1f5aef02788>"
      ]
     },
     "execution_count": 20,
     "metadata": {},
     "output_type": "execute_result"
    },
    {
     "data": {
      "image/png": "[encoded data removed]",
      "text/plain": [
       "<Figure size 1440x576 with 2 Axes>"
      ]
     },
     "metadata": {
      "needs_background": "light"
     },
     "output_type": "display_data"
    }
   ],
   "source": [
    "print(classification_report(ground_true, pred))\n",
    "\n",
    "aConfMatr = confusion_matrix(ground_true, pred, labels = np.unique(ground_true))\n",
    "oConfMatr = ConfusionMatrixDisplay(aConfMatr, display_labels  = np.unique(ground_true))\n",
    "fig, ax = plt.subplots(figsize=(20,8))\n",
    "oConfMatr.plot(ax=ax)"
   ]
  },
  {
   "cell_type": "code",
   "execution_count": 21,
   "id": "398a6aab-d59e-408c-a750-ee8eadfcfde4",
   "metadata": {},
   "outputs": [
    {
     "data": {
      "text/plain": [
       "<AxesSubplot:ylabel='Count'>"
      ]
     },
     "execution_count": 21,
     "metadata": {},
     "output_type": "execute_result"
    },
    {
     "data": {
      "image/png": "[encoded data removed]",
      "text/plain": [
       "<Figure size 1440x576 with 1 Axes>"
      ]
     },
     "metadata": {
      "needs_background": "light"
     },
     "output_type": "display_data"
    }
   ],
   "source": [
    "dfComparison = pd.DataFrame(index = ixTest)\n",
    "dfComparison['pred'] = pred\n",
    "dfComparison['ground_true'] = ground_true\n",
    "\n",
    "plt.figure(figsize = (20, 8))\n",
    "sns.histplot(data = dfComparison)"
   ]
  },
  {
   "cell_type": "markdown",
   "id": "9ad625b6-5265-4aa6-998d-763870e312ce",
   "metadata": {
    "tags": []
   },
   "source": [
    "# RECOMMENDATION"
   ]
  },
  {
   "cell_type": "markdown",
   "id": "57ab40ce-3dda-4a8c-861d-abf96780ca5b",
   "metadata": {},
   "source": [
    "The ones who has smallest **cosine** distance is the most similar to each other."
   ]
  },
  {
   "cell_type": "code",
   "execution_count": 22,
   "id": "c668a42d-1672-4bc0-8001-67bd6176d474",
   "metadata": {},
   "outputs": [],
   "source": [
    "iUserID = 205\n",
    "\n",
    "oRecommender = Recommendation(iUserID, dfPreprocessed)"
   ]
  },
  {
   "cell_type": "code",
   "execution_count": 23,
   "id": "e14337cd-0cfc-4eff-85f2-ce83bae7671e",
   "metadata": {},
   "outputs": [],
   "source": [
    "aMaxSimilarNUsers = oRecommender.aGetMostSimilarUsers()"
   ]
  },
  {
   "cell_type": "code",
   "execution_count": 24,
   "id": "bbaefa58-0090-4ddd-9b83-0caabf12fa93",
   "metadata": {},
   "outputs": [],
   "source": [
    "dfSimilarUserRatings = oRecommender.dfGetMovieIdsRatedByMostSimilarUsers(aMaxSimilarNUsers)\n",
    "dfSimilarUserRatings = oRecommender.dfExcludeMovieIdsThatAreAlreadyRatedByUser(dfSimilarUserRatings)\n",
    "dfSimilarUserRatings = oRecommender.dfGetExpectedRatingsForSimilarUserRatings(dfSimilarUserRatings)\n",
    "dfSimilarUserRatings = oRecommender.dfCalculateFinalExpectedScores(dfSimilarUserRatings)\n"
   ]
  },
  {
   "cell_type": "code",
   "execution_count": 25,
   "id": "4a29640b-bd5a-44dc-9b14-0c78d4a46850",
   "metadata": {},
   "outputs": [
    {
     "data": {
      "text/html": [
       "<div>\n",
       "<style scoped>\n",
       "    .dataframe tbody tr th:only-of-type {\n",
       "        vertical-align: middle;\n",
       "    }\n",
       "\n",
       "    .dataframe tbody tr th {\n",
       "        vertical-align: top;\n",
       "    }\n",
       "\n",
       "    .dataframe thead th {\n",
       "        text-align: right;\n",
       "    }\n",
       "</style>\n",
       "<table border=\"1\" class=\"dataframe\">\n",
       "  <thead>\n",
       "    <tr style=\"text-align: right;\">\n",
       "      <th></th>\n",
       "      <th>title</th>\n",
       "      <th>genres</th>\n",
       "      <th>expected_rating</th>\n",
       "    </tr>\n",
       "  </thead>\n",
       "  <tbody>\n",
       "    <tr>\n",
       "      <th>0</th>\n",
       "      <td>Fargo (1996)</td>\n",
       "      <td>Crime|Drama|Thriller</td>\n",
       "      <td>5.0</td>\n",
       "    </tr>\n",
       "    <tr>\n",
       "      <th>1</th>\n",
       "      <td>GoodFellas (1990)</td>\n",
       "      <td>Crime|Drama</td>\n",
       "      <td>5.0</td>\n",
       "    </tr>\n",
       "    <tr>\n",
       "      <th>2</th>\n",
       "      <td>Austin Powers: International Man of Mystery (1...</td>\n",
       "      <td>Comedy</td>\n",
       "      <td>5.0</td>\n",
       "    </tr>\n",
       "    <tr>\n",
       "      <th>3</th>\n",
       "      <td>Blade Runner (1982)</td>\n",
       "      <td>Film-Noir|Sci-Fi</td>\n",
       "      <td>5.0</td>\n",
       "    </tr>\n",
       "    <tr>\n",
       "      <th>4</th>\n",
       "      <td>Bound (1996)</td>\n",
       "      <td>Crime|Drama|Romance|Thriller</td>\n",
       "      <td>5.0</td>\n",
       "    </tr>\n",
       "  </tbody>\n",
       "</table>\n",
       "</div>"
      ],
      "text/plain": [
       "                                               title  \\\n",
       "0                                       Fargo (1996)   \n",
       "1                                  GoodFellas (1990)   \n",
       "2  Austin Powers: International Man of Mystery (1...   \n",
       "3                                Blade Runner (1982)   \n",
       "4                                       Bound (1996)   \n",
       "\n",
       "                         genres  expected_rating  \n",
       "0          Crime|Drama|Thriller              5.0  \n",
       "1                   Crime|Drama              5.0  \n",
       "2                        Comedy              5.0  \n",
       "3              Film-Noir|Sci-Fi              5.0  \n",
       "4  Crime|Drama|Romance|Thriller              5.0  "
      ]
     },
     "execution_count": 25,
     "metadata": {},
     "output_type": "execute_result"
    }
   ],
   "source": [
    "oRecommender.dfGetRecommendations(dfSimilarUserRatings)"
   ]
  },
  {
   "cell_type": "markdown",
   "id": "0a3a3d2f-c640-41f0-8461-855919dd4383",
   "metadata": {},
   "source": [
    "## User History"
   ]
  },
  {
   "cell_type": "code",
   "execution_count": 26,
   "id": "c4a691b9-7b8d-460d-a092-963a6fae1b83",
   "metadata": {},
   "outputs": [
    {
     "data": {
      "text/html": [
       "<div>\n",
       "<style scoped>\n",
       "    .dataframe tbody tr th:only-of-type {\n",
       "        vertical-align: middle;\n",
       "    }\n",
       "\n",
       "    .dataframe tbody tr th {\n",
       "        vertical-align: top;\n",
       "    }\n",
       "\n",
       "    .dataframe thead th {\n",
       "        text-align: right;\n",
       "    }\n",
       "</style>\n",
       "<table border=\"1\" class=\"dataframe\">\n",
       "  <thead>\n",
       "    <tr style=\"text-align: right;\">\n",
       "      <th></th>\n",
       "      <th>title</th>\n",
       "      <th>genres</th>\n",
       "      <th>rating</th>\n",
       "    </tr>\n",
       "  </thead>\n",
       "  <tbody>\n",
       "    <tr>\n",
       "      <th>152</th>\n",
       "      <td>Rosencrantz and Guildenstern Are Dead (1990)</td>\n",
       "      <td>Comedy|Drama</td>\n",
       "      <td>5</td>\n",
       "    </tr>\n",
       "    <tr>\n",
       "      <th>60</th>\n",
       "      <td>Ghost and Mrs. Muir, The (1947)</td>\n",
       "      <td>Drama|Romance</td>\n",
       "      <td>5</td>\n",
       "    </tr>\n",
       "    <tr>\n",
       "      <th>71</th>\n",
       "      <td>Beyond the Mat (2000)</td>\n",
       "      <td>Documentary</td>\n",
       "      <td>5</td>\n",
       "    </tr>\n",
       "    <tr>\n",
       "      <th>132</th>\n",
       "      <td>Big Blue, The (Le Grand Bleu) (1988)</td>\n",
       "      <td>Adventure|Romance</td>\n",
       "      <td>5</td>\n",
       "    </tr>\n",
       "    <tr>\n",
       "      <th>133</th>\n",
       "      <td>Seven Samurai (The Magnificent Seven) (Shichin...</td>\n",
       "      <td>Action|Drama</td>\n",
       "      <td>5</td>\n",
       "    </tr>\n",
       "    <tr>\n",
       "      <th>...</th>\n",
       "      <td>...</td>\n",
       "      <td>...</td>\n",
       "      <td>...</td>\n",
       "    </tr>\n",
       "    <tr>\n",
       "      <th>96</th>\n",
       "      <td>Little Shop of Horrors, The (1960)</td>\n",
       "      <td>Comedy|Horror</td>\n",
       "      <td>2</td>\n",
       "    </tr>\n",
       "    <tr>\n",
       "      <th>103</th>\n",
       "      <td>Mary Poppins (1964)</td>\n",
       "      <td>Children's|Comedy|Musical</td>\n",
       "      <td>1</td>\n",
       "    </tr>\n",
       "    <tr>\n",
       "      <th>11</th>\n",
       "      <td>Princess Mononoke, The (Mononoke Hime) (1997)</td>\n",
       "      <td>Action|Adventure|Animation</td>\n",
       "      <td>1</td>\n",
       "    </tr>\n",
       "    <tr>\n",
       "      <th>8</th>\n",
       "      <td>Stand by Me (1986)</td>\n",
       "      <td>Adventure|Comedy|Drama</td>\n",
       "      <td>1</td>\n",
       "    </tr>\n",
       "    <tr>\n",
       "      <th>0</th>\n",
       "      <td>Who Framed Roger Rabbit? (1988)</td>\n",
       "      <td>Adventure|Animation|Film-Noir</td>\n",
       "      <td>1</td>\n",
       "    </tr>\n",
       "  </tbody>\n",
       "</table>\n",
       "<p>153 rows × 3 columns</p>\n",
       "</div>"
      ],
      "text/plain": [
       "                                                 title  \\\n",
       "152       Rosencrantz and Guildenstern Are Dead (1990)   \n",
       "60                     Ghost and Mrs. Muir, The (1947)   \n",
       "71                               Beyond the Mat (2000)   \n",
       "132               Big Blue, The (Le Grand Bleu) (1988)   \n",
       "133  Seven Samurai (The Magnificent Seven) (Shichin...   \n",
       "..                                                 ...   \n",
       "96                  Little Shop of Horrors, The (1960)   \n",
       "103                                Mary Poppins (1964)   \n",
       "11       Princess Mononoke, The (Mononoke Hime) (1997)   \n",
       "8                                   Stand by Me (1986)   \n",
       "0                      Who Framed Roger Rabbit? (1988)   \n",
       "\n",
       "                            genres  rating  \n",
       "152                   Comedy|Drama       5  \n",
       "60                   Drama|Romance       5  \n",
       "71                     Documentary       5  \n",
       "132              Adventure|Romance       5  \n",
       "133                   Action|Drama       5  \n",
       "..                             ...     ...  \n",
       "96                   Comedy|Horror       2  \n",
       "103      Children's|Comedy|Musical       1  \n",
       "11      Action|Adventure|Animation       1  \n",
       "8           Adventure|Comedy|Drama       1  \n",
       "0    Adventure|Animation|Film-Noir       1  \n",
       "\n",
       "[153 rows x 3 columns]"
      ]
     },
     "execution_count": 26,
     "metadata": {},
     "output_type": "execute_result"
    }
   ],
   "source": [
    "oRecommender.dfGetUserHistory()"
   ]
  },
  {
   "cell_type": "markdown",
   "id": "bfaca5ba-a9e4-4a88-946d-049c72e97997",
   "metadata": {
    "jp-MarkdownHeadingCollapsed": true,
    "tags": []
   },
   "source": [
    "# FUTURE STEPS"
   ]
  },
  {
   "cell_type": "markdown",
   "id": "21310a63-5e5f-4bc0-92cb-4110bcff14b8",
   "metadata": {},
   "source": [
    "1. Book https://www.amazon.com/Recommender-Systems-Introduction-Dietmar-Jannach/dp/0521493366 should be read.\n",
    "1. For Embedding layer of movies, vocabulary of **title** of movie can be used.\n",
    "1. Scalibility is a challage. When there are millions of items. \n",
    "1. It is challange When a new user or new movie is added. Or when a person starts to rate.\n",
    "1. Sequence of user ratings is important\n",
    "1. Large dataset with a lof of users and movies are problem. Pandas will give out of memery error. \n",
    "1. Cross-Validation could be applied.\n",
    "1. Don't recommend second version of series if the user did not watch the first ones."
   ]
  },
  {
   "cell_type": "markdown",
   "id": "83e15b57-949f-43af-98f5-4d631ff67a7e",
   "metadata": {
    "tags": []
   },
   "source": [
    "# REFERENCES"
   ]
  },
  {
   "cell_type": "markdown",
   "id": "636f28ea-564e-4bd6-99b4-027562a4a624",
   "metadata": {},
   "source": [
    "1. https://developers.google.com/machine-learning/clustering/similarity/supervised-similarity\n",
    "1. https://towardsdatascience.com/recommender-systems-from-learned-embeddings-f1d12288f278#:~:text=Embeddings%20are%20vector%20representations%20of,and%20user%20IDs%20as%20embeddings.\n",
    "1. https://netflixtechblog.com/netflix-recommendations-beyond-the-5-stars-part-1-55838468f429\n",
    "1. https://netflixtechblog.com/netflix-recommendations-beyond-the-5-stars-part-2-d9b96aa399f5\n",
    "1. https://blog.tensorflow.org/2020/09/introducing-tensorflow-recommenders.html\n",
    "1. http://buzzard.ups.edu/courses/2014spring/420projects/math420-UPS-spring-2014-gower-netflix-SVD.pdf"
   ]
  }
 ],
 "metadata": {
  "kernelspec": {
   "display_name": "Python 3",
   "language": "python",
   "name": "python3"
  },
  "language_info": {
   "codemirror_mode": {
    "name": "ipython",
    "version": 3
   },
   "file_extension": ".py",
   "mimetype": "text/x-python",
   "name": "python",
   "nbconvert_exporter": "python",
   "pygments_lexer": "ipython3",
   "version": "3.7.10"
  }
 },
 "nbformat": 4,
 "nbformat_minor": 5
}
