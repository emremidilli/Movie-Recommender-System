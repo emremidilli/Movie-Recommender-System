{
 "cells": [
  {
   "cell_type": "markdown",
   "id": "0e0b4891-c21a-4bfa-a6c1-39e15e19e310",
   "metadata": {
    "jp-MarkdownHeadingCollapsed": true,
    "tags": []
   },
   "source": [
    "# INTRODUCTION"
   ]
  },
  {
   "cell_type": "markdown",
   "id": "b5e4bd9d-06bc-4f80-a47d-fc282993fed2",
   "metadata": {},
   "source": [
    "A recommendation will be done based on the the rating statistics until a given date. That's why, a configuration parameter **RECOMMMENDATION_DATE** will be used as input parameter.\n",
    "\n",
    "If you are looking for a ranking function that optimizes consumption, an obvious baseline is item popularity. The reason is clear: on average, a member is most likely to watch what most others are watching. However, popularity is the opposite of personalization: it will produce the same ordering of items for every member. Thus, the goal becomes to find a personalized ranking function that is better than item popularity, so we can better satisfy members with varying tastes.\n",
    "\n",
    "Recall that our goal is to recommend the titles that each member is most likely to play and enjoy. One obvious way to approach this is to use the member’s predicted rating of each item as an adjunct to item popularity. Using predicted ratings on their own as a ranking function can lead to items that are too niche or unfamiliar being recommended, and can exclude items that the member would want to watch even though they may not rate them highly. To compensate for this, rather than using either popularity or predicted rating on their own, we would like to produce rankings that balance both of these aspects. At this point, we are ready to build a ranking prediction model using these two features.\n",
    "\n",
    "There are many ways one could construct a ranking function ranging from simple scoring methods, to pairwise preferences, to optimization over the entire ranking. For the purposes of illustration, let us start with a very simple scoring approach by choosing our ranking function to be a linear combination of popularity and predicted rating. This gives an equation of the form frank(u,v) = w1 p(v) + w2 r(u,v) + b, where u=user, v=video item, p=popularity and r=predicted rating.\n",
    "\n",
    "Once we have such a function, we can pass a set of videos through our function and sort them in descending order according to the score. You might be wondering how we can set the weights w1 and w2 in our model (the bias b is constant and thus ends up not affecting the final ordering). In other words, in our simple two-dimensional model, how do we determine whether popularity is more or less important than predicted rating? There are at least two possible approaches to this. You could sample the space of possible weights and let the members decide what makes sense after many A/B tests. This procedure might be time consuming and not very cost effective. Another possible answer involves formulating this as a machine learning problem: select positive and negative examples from your historical data and let a machine learning algorithm learn the weights that optimize your goal. This family of machine learning problems is known as “Learning to rank” and is central to application scenarios such as search engines or ad targeting. Note though that a crucial difference in the case of ranked recommendations is the importance of personalization: we do not expect a global notion of relevance, but rather look for ways of optimizing a personalized model.\n",
    "\n",
    "**Baseline**\n",
    "\n",
    "We already mentioned item popularity as a baseline. But, there are many ways to compute popularity. We can compute it over various time ranges, for instance hourly, daily, or weekly. Or, we can group members by region or other similarity metrics and compute popularity within that group.\n",
    "\n",
    "\n",
    "**Online System**\n",
    "\n",
    "An online machine learning system has a continuous stream of new input data. You’ll need to train your DNN on the new data. However, if you retrain your DNN from scratch, then your embeddings will be different because DNNs are initialized with random weights. Instead, always warm-start the DNN with the existing weights and then update the DNN with new data."
   ]
  },
  {
   "cell_type": "code",
   "execution_count": 1,
   "id": "743fed38-fec7-4ea1-b657-94487143b684",
   "metadata": {},
   "outputs": [],
   "source": [
    "gc_dt_RECOMMENDATION_DATE = '2005-08-01'"
   ]
  },
  {
   "cell_type": "markdown",
   "id": "38b530b2-ea52-4d61-b5c3-76eb2aaff33a",
   "metadata": {
    "tags": []
   },
   "source": [
    "# LIBRARIES"
   ]
  },
  {
   "cell_type": "code",
   "execution_count": 2,
   "id": "0e9c55a1-ef5e-4637-ae61-cb2e3b440e5d",
   "metadata": {},
   "outputs": [],
   "source": [
    "import pandas as pd\n",
    "import numpy as np\n",
    "import tensorflow as tf\n",
    "from sklearn.preprocessing import MinMaxScaler\n",
    "from sklearn.model_selection import train_test_split\n",
    "from sklearn.metrics.pairwise import pairwise_distances\n",
    "from imblearn.over_sampling import RandomOverSampler\n",
    "from sklearn.preprocessing import OneHotEncoder\n",
    "import seaborn as sns\n",
    "import matplotlib.pyplot as plt\n",
    "from sklearn.preprocessing import OrdinalEncoder\n",
    "import sklearn.metrics\n",
    "import scipy.sparse as sp\n",
    "from scipy.sparse.linalg import svds\n",
    "from sklearn.utils import shuffle"
   ]
  },
  {
   "cell_type": "markdown",
   "id": "0e743e57-588d-4455-82c1-74875306eb7b",
   "metadata": {
    "jp-MarkdownHeadingCollapsed": true,
    "tags": []
   },
   "source": [
    "# DATA SOURCE"
   ]
  },
  {
   "cell_type": "markdown",
   "id": "4206f404-0fbe-4d9e-85db-34eb18efb983",
   "metadata": {},
   "source": [
    "Data is downloaded from the link https://www.kaggle.com/datasets/san1201/movielens1m?select=ml-1m.train.csv"
   ]
  },
  {
   "cell_type": "markdown",
   "id": "a6971f14-009d-4fda-bc45-2afd6ae0af35",
   "metadata": {
    "jp-MarkdownHeadingCollapsed": true,
    "tags": []
   },
   "source": [
    "## Users"
   ]
  },
  {
   "cell_type": "code",
   "execution_count": 3,
   "id": "8342fc19-8867-4c80-97a0-9c8c84a2250b",
   "metadata": {},
   "outputs": [
    {
     "data": {
      "text/html": [
       "<div>\n",
       "<style scoped>\n",
       "    .dataframe tbody tr th:only-of-type {\n",
       "        vertical-align: middle;\n",
       "    }\n",
       "\n",
       "    .dataframe tbody tr th {\n",
       "        vertical-align: top;\n",
       "    }\n",
       "\n",
       "    .dataframe thead th {\n",
       "        text-align: right;\n",
       "    }\n",
       "</style>\n",
       "<table border=\"1\" class=\"dataframe\">\n",
       "  <thead>\n",
       "    <tr style=\"text-align: right;\">\n",
       "      <th></th>\n",
       "      <th>gender</th>\n",
       "      <th>age</th>\n",
       "      <th>occupation</th>\n",
       "      <th>zip_code</th>\n",
       "    </tr>\n",
       "    <tr>\n",
       "      <th>user_id</th>\n",
       "      <th></th>\n",
       "      <th></th>\n",
       "      <th></th>\n",
       "      <th></th>\n",
       "    </tr>\n",
       "  </thead>\n",
       "  <tbody>\n",
       "    <tr>\n",
       "      <th>1</th>\n",
       "      <td>F</td>\n",
       "      <td>1</td>\n",
       "      <td>10</td>\n",
       "      <td>48067</td>\n",
       "    </tr>\n",
       "    <tr>\n",
       "      <th>2</th>\n",
       "      <td>M</td>\n",
       "      <td>56</td>\n",
       "      <td>16</td>\n",
       "      <td>70072</td>\n",
       "    </tr>\n",
       "    <tr>\n",
       "      <th>3</th>\n",
       "      <td>M</td>\n",
       "      <td>25</td>\n",
       "      <td>15</td>\n",
       "      <td>55117</td>\n",
       "    </tr>\n",
       "    <tr>\n",
       "      <th>4</th>\n",
       "      <td>M</td>\n",
       "      <td>45</td>\n",
       "      <td>7</td>\n",
       "      <td>02460</td>\n",
       "    </tr>\n",
       "    <tr>\n",
       "      <th>5</th>\n",
       "      <td>M</td>\n",
       "      <td>25</td>\n",
       "      <td>20</td>\n",
       "      <td>55455</td>\n",
       "    </tr>\n",
       "  </tbody>\n",
       "</table>\n",
       "</div>"
      ],
      "text/plain": [
       "        gender  age  occupation zip_code\n",
       "user_id                                 \n",
       "1            F    1          10    48067\n",
       "2            M   56          16    70072\n",
       "3            M   25          15    55117\n",
       "4            M   45           7    02460\n",
       "5            M   25          20    55455"
      ]
     },
     "execution_count": 3,
     "metadata": {},
     "output_type": "execute_result"
    }
   ],
   "source": [
    "aColNamesUsers = ['user_id', 'gender', 'age', 'occupation','zip_code']\n",
    "dfUsers = pd.read_csv(r'Data\\users.dat', delimiter = '::', names =aColNamesUsers , engine = 'python', encoding='latin-1', index_col = 'user_id')\n",
    "dfCopyUsers = dfUsers.copy()\n",
    "dfUsers.head()"
   ]
  },
  {
   "cell_type": "markdown",
   "id": "2283798d-0d7e-44bd-b677-8e626f883eaf",
   "metadata": {
    "jp-MarkdownHeadingCollapsed": true,
    "tags": []
   },
   "source": [
    "## Movies"
   ]
  },
  {
   "cell_type": "code",
   "execution_count": 4,
   "id": "ddaf93d9-757b-437c-9458-f5440c35165d",
   "metadata": {},
   "outputs": [
    {
     "data": {
      "text/html": [
       "<div>\n",
       "<style scoped>\n",
       "    .dataframe tbody tr th:only-of-type {\n",
       "        vertical-align: middle;\n",
       "    }\n",
       "\n",
       "    .dataframe tbody tr th {\n",
       "        vertical-align: top;\n",
       "    }\n",
       "\n",
       "    .dataframe thead th {\n",
       "        text-align: right;\n",
       "    }\n",
       "</style>\n",
       "<table border=\"1\" class=\"dataframe\">\n",
       "  <thead>\n",
       "    <tr style=\"text-align: right;\">\n",
       "      <th></th>\n",
       "      <th>title</th>\n",
       "      <th>genres</th>\n",
       "    </tr>\n",
       "    <tr>\n",
       "      <th>movie_id</th>\n",
       "      <th></th>\n",
       "      <th></th>\n",
       "    </tr>\n",
       "  </thead>\n",
       "  <tbody>\n",
       "    <tr>\n",
       "      <th>1</th>\n",
       "      <td>Toy Story (1995)</td>\n",
       "      <td>Animation|Children's|Comedy</td>\n",
       "    </tr>\n",
       "    <tr>\n",
       "      <th>2</th>\n",
       "      <td>Jumanji (1995)</td>\n",
       "      <td>Adventure|Children's|Fantasy</td>\n",
       "    </tr>\n",
       "    <tr>\n",
       "      <th>3</th>\n",
       "      <td>Grumpier Old Men (1995)</td>\n",
       "      <td>Comedy|Romance</td>\n",
       "    </tr>\n",
       "    <tr>\n",
       "      <th>4</th>\n",
       "      <td>Waiting to Exhale (1995)</td>\n",
       "      <td>Comedy|Drama</td>\n",
       "    </tr>\n",
       "    <tr>\n",
       "      <th>5</th>\n",
       "      <td>Father of the Bride Part II (1995)</td>\n",
       "      <td>Comedy</td>\n",
       "    </tr>\n",
       "  </tbody>\n",
       "</table>\n",
       "</div>"
      ],
      "text/plain": [
       "                                       title                        genres\n",
       "movie_id                                                                  \n",
       "1                           Toy Story (1995)   Animation|Children's|Comedy\n",
       "2                             Jumanji (1995)  Adventure|Children's|Fantasy\n",
       "3                    Grumpier Old Men (1995)                Comedy|Romance\n",
       "4                   Waiting to Exhale (1995)                  Comedy|Drama\n",
       "5         Father of the Bride Part II (1995)                        Comedy"
      ]
     },
     "execution_count": 4,
     "metadata": {},
     "output_type": "execute_result"
    }
   ],
   "source": [
    "aColNamesMovies = ['movie_id', 'title', 'genres']\n",
    "dfMovies = pd.read_csv(r'Data\\movies.dat', delimiter = '::', names =aColNamesMovies , engine = 'python', encoding='latin-1', index_col = 'movie_id')\n",
    "dfCopyMovies = dfMovies.copy()\n",
    "dfMovies.head()"
   ]
  },
  {
   "cell_type": "markdown",
   "id": "fa649dbd-7328-4c50-b3b1-270e9d4a95d5",
   "metadata": {
    "jp-MarkdownHeadingCollapsed": true,
    "tags": []
   },
   "source": [
    "## Ratings"
   ]
  },
  {
   "cell_type": "code",
   "execution_count": 5,
   "id": "4fa20c83-30f3-4853-8721-eec372b5c79f",
   "metadata": {},
   "outputs": [
    {
     "data": {
      "text/html": [
       "<div>\n",
       "<style scoped>\n",
       "    .dataframe tbody tr th:only-of-type {\n",
       "        vertical-align: middle;\n",
       "    }\n",
       "\n",
       "    .dataframe tbody tr th {\n",
       "        vertical-align: top;\n",
       "    }\n",
       "\n",
       "    .dataframe thead th {\n",
       "        text-align: right;\n",
       "    }\n",
       "</style>\n",
       "<table border=\"1\" class=\"dataframe\">\n",
       "  <thead>\n",
       "    <tr style=\"text-align: right;\">\n",
       "      <th></th>\n",
       "      <th>user_id</th>\n",
       "      <th>movie_id</th>\n",
       "      <th>rating</th>\n",
       "      <th>timestamp</th>\n",
       "    </tr>\n",
       "  </thead>\n",
       "  <tbody>\n",
       "    <tr>\n",
       "      <th>0</th>\n",
       "      <td>1</td>\n",
       "      <td>1193</td>\n",
       "      <td>5</td>\n",
       "      <td>978300760</td>\n",
       "    </tr>\n",
       "    <tr>\n",
       "      <th>1</th>\n",
       "      <td>1</td>\n",
       "      <td>661</td>\n",
       "      <td>3</td>\n",
       "      <td>978302109</td>\n",
       "    </tr>\n",
       "    <tr>\n",
       "      <th>2</th>\n",
       "      <td>1</td>\n",
       "      <td>914</td>\n",
       "      <td>3</td>\n",
       "      <td>978301968</td>\n",
       "    </tr>\n",
       "    <tr>\n",
       "      <th>3</th>\n",
       "      <td>1</td>\n",
       "      <td>3408</td>\n",
       "      <td>4</td>\n",
       "      <td>978300275</td>\n",
       "    </tr>\n",
       "    <tr>\n",
       "      <th>4</th>\n",
       "      <td>1</td>\n",
       "      <td>2355</td>\n",
       "      <td>5</td>\n",
       "      <td>978824291</td>\n",
       "    </tr>\n",
       "  </tbody>\n",
       "</table>\n",
       "</div>"
      ],
      "text/plain": [
       "   user_id  movie_id  rating  timestamp\n",
       "0        1      1193       5  978300760\n",
       "1        1       661       3  978302109\n",
       "2        1       914       3  978301968\n",
       "3        1      3408       4  978300275\n",
       "4        1      2355       5  978824291"
      ]
     },
     "execution_count": 5,
     "metadata": {},
     "output_type": "execute_result"
    }
   ],
   "source": [
    "aColNamesRatings = ['user_id', 'movie_id', 'rating' ,'timestamp']\n",
    "dfRatings = pd.read_csv(r'Data\\ratings.dat', delimiter = '::', names =aColNamesRatings , engine = 'python')\n",
    "dfCopyRatings = dfRatings.copy()\n",
    "dfRatings.head()"
   ]
  },
  {
   "cell_type": "markdown",
   "id": "8d24bf71-3630-4a86-be6d-06adf04e49b8",
   "metadata": {
    "jp-MarkdownHeadingCollapsed": true,
    "tags": []
   },
   "source": [
    "## Genres"
   ]
  },
  {
   "cell_type": "code",
   "execution_count": 6,
   "id": "aab9e18b-5463-4377-a907-0ea1f290ec37",
   "metadata": {},
   "outputs": [
    {
     "data": {
      "text/plain": [
       "['Action',\n",
       " 'Adventure',\n",
       " 'Animation',\n",
       " \"Children's\",\n",
       " 'Comedy',\n",
       " 'Crime',\n",
       " 'Documentary',\n",
       " 'Drama',\n",
       " 'Fantasy',\n",
       " 'Film-Noir',\n",
       " 'Horror',\n",
       " 'Musical',\n",
       " 'Mystery',\n",
       " 'Romance',\n",
       " 'Sci-Fi',\n",
       " 'Thriller',\n",
       " 'War',\n",
       " 'Western']"
      ]
     },
     "execution_count": 6,
     "metadata": {},
     "output_type": "execute_result"
    }
   ],
   "source": [
    "gc_a_GENRES = [\n",
    "\t\"Action\",\n",
    "\t\"Adventure\", \n",
    "\t\"Animation\", \n",
    "\t\"Children's\", \n",
    "\t\"Comedy\", \n",
    "\t\"Crime\", \n",
    "\t\"Documentary\", \n",
    "\t\"Drama\", \n",
    "\t\"Fantasy\", \n",
    "\t\"Film-Noir\", \n",
    "\t\"Horror\", \n",
    "\t\"Musical\", \n",
    "\t\"Mystery\", \n",
    "\t\"Romance\", \n",
    "\t\"Sci-Fi\", \n",
    "\t\"Thriller\", \n",
    "\t\"War\",\n",
    "\t\"Western\"\n",
    "]\n",
    "gc_a_GENRES"
   ]
  },
  {
   "cell_type": "markdown",
   "id": "91bcfca2-ce23-4c92-a720-d5729f9e35ec",
   "metadata": {
    "jp-MarkdownHeadingCollapsed": true,
    "tags": []
   },
   "source": [
    "# PREPROCESSING"
   ]
  },
  {
   "cell_type": "markdown",
   "id": "08048821-4cd0-4970-90ad-cc9adf62c7f5",
   "metadata": {
    "jp-MarkdownHeadingCollapsed": true,
    "tags": []
   },
   "source": [
    "## Convert Timestamp of Ratings to Date Time Format"
   ]
  },
  {
   "cell_type": "code",
   "execution_count": 7,
   "id": "76c43bdb-3792-46ac-8076-83d234d02885",
   "metadata": {},
   "outputs": [],
   "source": [
    "dfRatings['timestamp'] = pd.to_datetime(dfRatings['timestamp'], unit = 's')"
   ]
  },
  {
   "cell_type": "markdown",
   "id": "49ada615-03f3-4df8-80da-0d89e2681ea1",
   "metadata": {
    "jp-MarkdownHeadingCollapsed": true,
    "tags": []
   },
   "source": [
    "## Extract Year of Release of Movies\n",
    "\n",
    "After moving the \"\"year_of_release\"\" from \"\"title\"\" there can be duplicated names. It means that same movie name has different release years. (e.g., <i>Hamlet</i>)"
   ]
  },
  {
   "cell_type": "code",
   "execution_count": 8,
   "id": "e479bee2-bc79-4ce5-847d-7694a085fc2b",
   "metadata": {},
   "outputs": [],
   "source": [
    "dfMovies['year_of_release'] = dfMovies['title'].str[-5:-1].astype(int)\n",
    "dfMovies['title'] = dfMovies['title'].str[:-7]"
   ]
  },
  {
   "cell_type": "code",
   "execution_count": 9,
   "id": "01d46236-ca21-417d-bd5c-2f21f66f3088",
   "metadata": {},
   "outputs": [
    {
     "data": {
      "text/html": [
       "<div>\n",
       "<style scoped>\n",
       "    .dataframe tbody tr th:only-of-type {\n",
       "        vertical-align: middle;\n",
       "    }\n",
       "\n",
       "    .dataframe tbody tr th {\n",
       "        vertical-align: top;\n",
       "    }\n",
       "\n",
       "    .dataframe thead th {\n",
       "        text-align: right;\n",
       "    }\n",
       "</style>\n",
       "<table border=\"1\" class=\"dataframe\">\n",
       "  <thead>\n",
       "    <tr style=\"text-align: right;\">\n",
       "      <th></th>\n",
       "      <th>title</th>\n",
       "      <th>genres</th>\n",
       "      <th>year_of_release</th>\n",
       "    </tr>\n",
       "    <tr>\n",
       "      <th>movie_id</th>\n",
       "      <th></th>\n",
       "      <th></th>\n",
       "      <th></th>\n",
       "    </tr>\n",
       "  </thead>\n",
       "  <tbody>\n",
       "    <tr>\n",
       "      <th>1411</th>\n",
       "      <td>Hamlet</td>\n",
       "      <td>Drama</td>\n",
       "      <td>1996</td>\n",
       "    </tr>\n",
       "    <tr>\n",
       "      <th>1941</th>\n",
       "      <td>Hamlet</td>\n",
       "      <td>Drama</td>\n",
       "      <td>1948</td>\n",
       "    </tr>\n",
       "    <tr>\n",
       "      <th>2820</th>\n",
       "      <td>Hamlet</td>\n",
       "      <td>Drama</td>\n",
       "      <td>1964</td>\n",
       "    </tr>\n",
       "    <tr>\n",
       "      <th>3598</th>\n",
       "      <td>Hamlet</td>\n",
       "      <td>Drama</td>\n",
       "      <td>2000</td>\n",
       "    </tr>\n",
       "    <tr>\n",
       "      <th>3723</th>\n",
       "      <td>Hamlet</td>\n",
       "      <td>Drama</td>\n",
       "      <td>1990</td>\n",
       "    </tr>\n",
       "  </tbody>\n",
       "</table>\n",
       "</div>"
      ],
      "text/plain": [
       "           title genres  year_of_release\n",
       "movie_id                                \n",
       "1411      Hamlet  Drama             1996\n",
       "1941      Hamlet  Drama             1948\n",
       "2820      Hamlet  Drama             1964\n",
       "3598      Hamlet  Drama             2000\n",
       "3723      Hamlet  Drama             1990"
      ]
     },
     "execution_count": 9,
     "metadata": {},
     "output_type": "execute_result"
    }
   ],
   "source": [
    "dfMovies[dfMovies['title'] == 'Hamlet']"
   ]
  },
  {
   "cell_type": "markdown",
   "id": "87b146f2-a95a-4791-8b4b-92b1d198d3dd",
   "metadata": {
    "jp-MarkdownHeadingCollapsed": true,
    "tags": []
   },
   "source": [
    "## Identify The First Rating Date of Movies"
   ]
  },
  {
   "cell_type": "code",
   "execution_count": 10,
   "id": "f41b1a84-e8a8-469c-8c87-49d5a8d1ca63",
   "metadata": {},
   "outputs": [
    {
     "data": {
      "text/html": [
       "<div>\n",
       "<style scoped>\n",
       "    .dataframe tbody tr th:only-of-type {\n",
       "        vertical-align: middle;\n",
       "    }\n",
       "\n",
       "    .dataframe tbody tr th {\n",
       "        vertical-align: top;\n",
       "    }\n",
       "\n",
       "    .dataframe thead th {\n",
       "        text-align: right;\n",
       "    }\n",
       "</style>\n",
       "<table border=\"1\" class=\"dataframe\">\n",
       "  <thead>\n",
       "    <tr style=\"text-align: right;\">\n",
       "      <th></th>\n",
       "      <th>timestamp</th>\n",
       "    </tr>\n",
       "    <tr>\n",
       "      <th>movie_id</th>\n",
       "      <th></th>\n",
       "    </tr>\n",
       "  </thead>\n",
       "  <tbody>\n",
       "    <tr>\n",
       "      <th>1</th>\n",
       "      <td>2000-04-26 01:34:09</td>\n",
       "    </tr>\n",
       "    <tr>\n",
       "      <th>2</th>\n",
       "      <td>2000-04-26 03:20:38</td>\n",
       "    </tr>\n",
       "    <tr>\n",
       "      <th>3</th>\n",
       "      <td>2000-04-26 01:42:52</td>\n",
       "    </tr>\n",
       "    <tr>\n",
       "      <th>4</th>\n",
       "      <td>2000-04-26 01:22:00</td>\n",
       "    </tr>\n",
       "    <tr>\n",
       "      <th>5</th>\n",
       "      <td>2000-04-26 01:39:25</td>\n",
       "    </tr>\n",
       "    <tr>\n",
       "      <th>...</th>\n",
       "      <td>...</td>\n",
       "    </tr>\n",
       "    <tr>\n",
       "      <th>3948</th>\n",
       "      <td>2000-10-07 19:21:22</td>\n",
       "    </tr>\n",
       "    <tr>\n",
       "      <th>3949</th>\n",
       "      <td>2000-11-05 18:49:37</td>\n",
       "    </tr>\n",
       "    <tr>\n",
       "      <th>3950</th>\n",
       "      <td>2000-11-14 23:37:28</td>\n",
       "    </tr>\n",
       "    <tr>\n",
       "      <th>3951</th>\n",
       "      <td>2000-11-20 03:53:04</td>\n",
       "    </tr>\n",
       "    <tr>\n",
       "      <th>3952</th>\n",
       "      <td>2000-10-12 11:01:44</td>\n",
       "    </tr>\n",
       "  </tbody>\n",
       "</table>\n",
       "<p>3706 rows × 1 columns</p>\n",
       "</div>"
      ],
      "text/plain": [
       "                   timestamp\n",
       "movie_id                    \n",
       "1        2000-04-26 01:34:09\n",
       "2        2000-04-26 03:20:38\n",
       "3        2000-04-26 01:42:52\n",
       "4        2000-04-26 01:22:00\n",
       "5        2000-04-26 01:39:25\n",
       "...                      ...\n",
       "3948     2000-10-07 19:21:22\n",
       "3949     2000-11-05 18:49:37\n",
       "3950     2000-11-14 23:37:28\n",
       "3951     2000-11-20 03:53:04\n",
       "3952     2000-10-12 11:01:44\n",
       "\n",
       "[3706 rows x 1 columns]"
      ]
     },
     "execution_count": 10,
     "metadata": {},
     "output_type": "execute_result"
    }
   ],
   "source": [
    "dfFirstRatingDateOfMovies =  dfRatings[['movie_id', 'timestamp']].groupby('movie_id').min()\n",
    "dfFirstRatingDateOfMovies"
   ]
  },
  {
   "cell_type": "markdown",
   "id": "c09bde65-2c2d-48be-ac9a-4743df03c6a7",
   "metadata": {
    "jp-MarkdownHeadingCollapsed": true,
    "tags": []
   },
   "source": [
    "## Identify First Rating Day of Users"
   ]
  },
  {
   "cell_type": "code",
   "execution_count": 11,
   "id": "f01d625e-a94b-4b38-b610-323d167f7b38",
   "metadata": {},
   "outputs": [
    {
     "data": {
      "text/html": [
       "<div>\n",
       "<style scoped>\n",
       "    .dataframe tbody tr th:only-of-type {\n",
       "        vertical-align: middle;\n",
       "    }\n",
       "\n",
       "    .dataframe tbody tr th {\n",
       "        vertical-align: top;\n",
       "    }\n",
       "\n",
       "    .dataframe thead th {\n",
       "        text-align: right;\n",
       "    }\n",
       "</style>\n",
       "<table border=\"1\" class=\"dataframe\">\n",
       "  <thead>\n",
       "    <tr style=\"text-align: right;\">\n",
       "      <th></th>\n",
       "      <th>timestamp</th>\n",
       "    </tr>\n",
       "    <tr>\n",
       "      <th>user_id</th>\n",
       "      <th></th>\n",
       "    </tr>\n",
       "  </thead>\n",
       "  <tbody>\n",
       "    <tr>\n",
       "      <th>1</th>\n",
       "      <td>2000-12-31 22:00:19</td>\n",
       "    </tr>\n",
       "    <tr>\n",
       "      <th>2</th>\n",
       "      <td>2000-12-31 21:28:44</td>\n",
       "    </tr>\n",
       "    <tr>\n",
       "      <th>3</th>\n",
       "      <td>2000-12-31 21:10:18</td>\n",
       "    </tr>\n",
       "    <tr>\n",
       "      <th>4</th>\n",
       "      <td>2000-12-31 20:18:44</td>\n",
       "    </tr>\n",
       "    <tr>\n",
       "      <th>5</th>\n",
       "      <td>2000-12-31 05:37:52</td>\n",
       "    </tr>\n",
       "    <tr>\n",
       "      <th>...</th>\n",
       "      <td>...</td>\n",
       "    </tr>\n",
       "    <tr>\n",
       "      <th>6036</th>\n",
       "      <td>2000-04-26 00:35:49</td>\n",
       "    </tr>\n",
       "    <tr>\n",
       "      <th>6037</th>\n",
       "      <td>2000-04-26 00:29:57</td>\n",
       "    </tr>\n",
       "    <tr>\n",
       "      <th>6038</th>\n",
       "      <td>2000-04-25 23:53:47</td>\n",
       "    </tr>\n",
       "    <tr>\n",
       "      <th>6039</th>\n",
       "      <td>2000-04-25 23:25:58</td>\n",
       "    </tr>\n",
       "    <tr>\n",
       "      <th>6040</th>\n",
       "      <td>2000-04-25 23:05:32</td>\n",
       "    </tr>\n",
       "  </tbody>\n",
       "</table>\n",
       "<p>6040 rows × 1 columns</p>\n",
       "</div>"
      ],
      "text/plain": [
       "                  timestamp\n",
       "user_id                    \n",
       "1       2000-12-31 22:00:19\n",
       "2       2000-12-31 21:28:44\n",
       "3       2000-12-31 21:10:18\n",
       "4       2000-12-31 20:18:44\n",
       "5       2000-12-31 05:37:52\n",
       "...                     ...\n",
       "6036    2000-04-26 00:35:49\n",
       "6037    2000-04-26 00:29:57\n",
       "6038    2000-04-25 23:53:47\n",
       "6039    2000-04-25 23:25:58\n",
       "6040    2000-04-25 23:05:32\n",
       "\n",
       "[6040 rows x 1 columns]"
      ]
     },
     "execution_count": 11,
     "metadata": {},
     "output_type": "execute_result"
    }
   ],
   "source": [
    "dfFirstRatingDateOfUsers =  dfRatings[['user_id', 'timestamp']].groupby('user_id').min()\n",
    "dfFirstRatingDateOfUsers"
   ]
  },
  {
   "cell_type": "markdown",
   "id": "c10bd349-7724-4ff7-b5a9-2c5df0fe6677",
   "metadata": {
    "jp-MarkdownHeadingCollapsed": true,
    "tags": []
   },
   "source": [
    "## Filter Ratings Earlier Than Given Date"
   ]
  },
  {
   "cell_type": "code",
   "execution_count": 12,
   "id": "c20c28f0-50f4-4ba4-9a7f-adc53aeb4b31",
   "metadata": {},
   "outputs": [],
   "source": [
    "ixRatingsToDrop = dfRatings[dfRatings['timestamp'] > gc_dt_RECOMMENDATION_DATE ].index\n",
    "dfRatings.drop(ixRatingsToDrop, axis = 0, inplace = True)"
   ]
  },
  {
   "cell_type": "markdown",
   "id": "42b495b8-f3eb-47f3-957c-0945a1bbd7d3",
   "metadata": {
    "jp-MarkdownHeadingCollapsed": true,
    "tags": []
   },
   "source": [
    "## Drop Users Who Start To Rate After Given Date"
   ]
  },
  {
   "cell_type": "code",
   "execution_count": 13,
   "id": "837080d6-a43a-420e-a00b-386359e83818",
   "metadata": {},
   "outputs": [],
   "source": [
    "ixUsersToDrop = dfFirstRatingDateOfUsers[dfFirstRatingDateOfUsers['timestamp'] > gc_dt_RECOMMENDATION_DATE].index\n",
    "dfUsers.drop(ixUsersToDrop, axis = 0 , inplace = True)"
   ]
  },
  {
   "cell_type": "markdown",
   "id": "dc9b559b-304b-42af-8fb7-0396051671e8",
   "metadata": {
    "jp-MarkdownHeadingCollapsed": true,
    "tags": []
   },
   "source": [
    "## Drop Movies That Are Started To Be Rated After Given Date"
   ]
  },
  {
   "cell_type": "code",
   "execution_count": 14,
   "id": "e37a7c1f-c2d4-4b95-88ff-d2f801caba98",
   "metadata": {},
   "outputs": [],
   "source": [
    "ixMoviesToDrop = dfFirstRatingDateOfMovies[dfFirstRatingDateOfMovies['timestamp'] > gc_dt_RECOMMENDATION_DATE].index\n",
    "dfMovies.drop(ixMoviesToDrop, axis = 0 , inplace = True)"
   ]
  },
  {
   "cell_type": "markdown",
   "id": "1fdf9df0-f0c0-444b-b7de-09cc87e3f5c5",
   "metadata": {
    "jp-MarkdownHeadingCollapsed": true,
    "tags": []
   },
   "source": [
    "## Transform Genres of Movies to One Hot Vector"
   ]
  },
  {
   "cell_type": "code",
   "execution_count": 15,
   "id": "41d5c299-d24c-45cd-8e79-b6056ace0d4e",
   "metadata": {},
   "outputs": [
    {
     "data": {
      "text/html": [
       "<div>\n",
       "<style scoped>\n",
       "    .dataframe tbody tr th:only-of-type {\n",
       "        vertical-align: middle;\n",
       "    }\n",
       "\n",
       "    .dataframe tbody tr th {\n",
       "        vertical-align: top;\n",
       "    }\n",
       "\n",
       "    .dataframe thead th {\n",
       "        text-align: right;\n",
       "    }\n",
       "</style>\n",
       "<table border=\"1\" class=\"dataframe\">\n",
       "  <thead>\n",
       "    <tr style=\"text-align: right;\">\n",
       "      <th></th>\n",
       "      <th>title</th>\n",
       "      <th>year_of_release</th>\n",
       "      <th>Action</th>\n",
       "      <th>Adventure</th>\n",
       "      <th>Animation</th>\n",
       "      <th>Children's</th>\n",
       "      <th>Comedy</th>\n",
       "      <th>Crime</th>\n",
       "      <th>Documentary</th>\n",
       "      <th>Drama</th>\n",
       "      <th>Fantasy</th>\n",
       "      <th>Film-Noir</th>\n",
       "      <th>Horror</th>\n",
       "      <th>Musical</th>\n",
       "      <th>Mystery</th>\n",
       "      <th>Romance</th>\n",
       "      <th>Sci-Fi</th>\n",
       "      <th>Thriller</th>\n",
       "      <th>War</th>\n",
       "      <th>Western</th>\n",
       "    </tr>\n",
       "    <tr>\n",
       "      <th>movie_id</th>\n",
       "      <th></th>\n",
       "      <th></th>\n",
       "      <th></th>\n",
       "      <th></th>\n",
       "      <th></th>\n",
       "      <th></th>\n",
       "      <th></th>\n",
       "      <th></th>\n",
       "      <th></th>\n",
       "      <th></th>\n",
       "      <th></th>\n",
       "      <th></th>\n",
       "      <th></th>\n",
       "      <th></th>\n",
       "      <th></th>\n",
       "      <th></th>\n",
       "      <th></th>\n",
       "      <th></th>\n",
       "      <th></th>\n",
       "      <th></th>\n",
       "    </tr>\n",
       "  </thead>\n",
       "  <tbody>\n",
       "    <tr>\n",
       "      <th>1</th>\n",
       "      <td>Toy Story</td>\n",
       "      <td>1995</td>\n",
       "      <td>0</td>\n",
       "      <td>0</td>\n",
       "      <td>1</td>\n",
       "      <td>1</td>\n",
       "      <td>1</td>\n",
       "      <td>0</td>\n",
       "      <td>0</td>\n",
       "      <td>0</td>\n",
       "      <td>0</td>\n",
       "      <td>0</td>\n",
       "      <td>0</td>\n",
       "      <td>0</td>\n",
       "      <td>0</td>\n",
       "      <td>0</td>\n",
       "      <td>0</td>\n",
       "      <td>0</td>\n",
       "      <td>0</td>\n",
       "      <td>0</td>\n",
       "    </tr>\n",
       "    <tr>\n",
       "      <th>2</th>\n",
       "      <td>Jumanji</td>\n",
       "      <td>1995</td>\n",
       "      <td>0</td>\n",
       "      <td>1</td>\n",
       "      <td>0</td>\n",
       "      <td>1</td>\n",
       "      <td>0</td>\n",
       "      <td>0</td>\n",
       "      <td>0</td>\n",
       "      <td>0</td>\n",
       "      <td>1</td>\n",
       "      <td>0</td>\n",
       "      <td>0</td>\n",
       "      <td>0</td>\n",
       "      <td>0</td>\n",
       "      <td>0</td>\n",
       "      <td>0</td>\n",
       "      <td>0</td>\n",
       "      <td>0</td>\n",
       "      <td>0</td>\n",
       "    </tr>\n",
       "    <tr>\n",
       "      <th>3</th>\n",
       "      <td>Grumpier Old Men</td>\n",
       "      <td>1995</td>\n",
       "      <td>0</td>\n",
       "      <td>0</td>\n",
       "      <td>0</td>\n",
       "      <td>0</td>\n",
       "      <td>1</td>\n",
       "      <td>0</td>\n",
       "      <td>0</td>\n",
       "      <td>0</td>\n",
       "      <td>0</td>\n",
       "      <td>0</td>\n",
       "      <td>0</td>\n",
       "      <td>0</td>\n",
       "      <td>0</td>\n",
       "      <td>1</td>\n",
       "      <td>0</td>\n",
       "      <td>0</td>\n",
       "      <td>0</td>\n",
       "      <td>0</td>\n",
       "    </tr>\n",
       "    <tr>\n",
       "      <th>4</th>\n",
       "      <td>Waiting to Exhale</td>\n",
       "      <td>1995</td>\n",
       "      <td>0</td>\n",
       "      <td>0</td>\n",
       "      <td>0</td>\n",
       "      <td>0</td>\n",
       "      <td>1</td>\n",
       "      <td>0</td>\n",
       "      <td>0</td>\n",
       "      <td>1</td>\n",
       "      <td>0</td>\n",
       "      <td>0</td>\n",
       "      <td>0</td>\n",
       "      <td>0</td>\n",
       "      <td>0</td>\n",
       "      <td>0</td>\n",
       "      <td>0</td>\n",
       "      <td>0</td>\n",
       "      <td>0</td>\n",
       "      <td>0</td>\n",
       "    </tr>\n",
       "    <tr>\n",
       "      <th>5</th>\n",
       "      <td>Father of the Bride Part II</td>\n",
       "      <td>1995</td>\n",
       "      <td>0</td>\n",
       "      <td>0</td>\n",
       "      <td>0</td>\n",
       "      <td>0</td>\n",
       "      <td>1</td>\n",
       "      <td>0</td>\n",
       "      <td>0</td>\n",
       "      <td>0</td>\n",
       "      <td>0</td>\n",
       "      <td>0</td>\n",
       "      <td>0</td>\n",
       "      <td>0</td>\n",
       "      <td>0</td>\n",
       "      <td>0</td>\n",
       "      <td>0</td>\n",
       "      <td>0</td>\n",
       "      <td>0</td>\n",
       "      <td>0</td>\n",
       "    </tr>\n",
       "    <tr>\n",
       "      <th>...</th>\n",
       "      <td>...</td>\n",
       "      <td>...</td>\n",
       "      <td>...</td>\n",
       "      <td>...</td>\n",
       "      <td>...</td>\n",
       "      <td>...</td>\n",
       "      <td>...</td>\n",
       "      <td>...</td>\n",
       "      <td>...</td>\n",
       "      <td>...</td>\n",
       "      <td>...</td>\n",
       "      <td>...</td>\n",
       "      <td>...</td>\n",
       "      <td>...</td>\n",
       "      <td>...</td>\n",
       "      <td>...</td>\n",
       "      <td>...</td>\n",
       "      <td>...</td>\n",
       "      <td>...</td>\n",
       "      <td>...</td>\n",
       "    </tr>\n",
       "    <tr>\n",
       "      <th>3948</th>\n",
       "      <td>Meet the Parents</td>\n",
       "      <td>2000</td>\n",
       "      <td>0</td>\n",
       "      <td>0</td>\n",
       "      <td>0</td>\n",
       "      <td>0</td>\n",
       "      <td>1</td>\n",
       "      <td>0</td>\n",
       "      <td>0</td>\n",
       "      <td>0</td>\n",
       "      <td>0</td>\n",
       "      <td>0</td>\n",
       "      <td>0</td>\n",
       "      <td>0</td>\n",
       "      <td>0</td>\n",
       "      <td>0</td>\n",
       "      <td>0</td>\n",
       "      <td>0</td>\n",
       "      <td>0</td>\n",
       "      <td>0</td>\n",
       "    </tr>\n",
       "    <tr>\n",
       "      <th>3949</th>\n",
       "      <td>Requiem for a Dream</td>\n",
       "      <td>2000</td>\n",
       "      <td>0</td>\n",
       "      <td>0</td>\n",
       "      <td>0</td>\n",
       "      <td>0</td>\n",
       "      <td>0</td>\n",
       "      <td>0</td>\n",
       "      <td>0</td>\n",
       "      <td>1</td>\n",
       "      <td>0</td>\n",
       "      <td>0</td>\n",
       "      <td>0</td>\n",
       "      <td>0</td>\n",
       "      <td>0</td>\n",
       "      <td>0</td>\n",
       "      <td>0</td>\n",
       "      <td>0</td>\n",
       "      <td>0</td>\n",
       "      <td>0</td>\n",
       "    </tr>\n",
       "    <tr>\n",
       "      <th>3950</th>\n",
       "      <td>Tigerland</td>\n",
       "      <td>2000</td>\n",
       "      <td>0</td>\n",
       "      <td>0</td>\n",
       "      <td>0</td>\n",
       "      <td>0</td>\n",
       "      <td>0</td>\n",
       "      <td>0</td>\n",
       "      <td>0</td>\n",
       "      <td>1</td>\n",
       "      <td>0</td>\n",
       "      <td>0</td>\n",
       "      <td>0</td>\n",
       "      <td>0</td>\n",
       "      <td>0</td>\n",
       "      <td>0</td>\n",
       "      <td>0</td>\n",
       "      <td>0</td>\n",
       "      <td>0</td>\n",
       "      <td>0</td>\n",
       "    </tr>\n",
       "    <tr>\n",
       "      <th>3951</th>\n",
       "      <td>Two Family House</td>\n",
       "      <td>2000</td>\n",
       "      <td>0</td>\n",
       "      <td>0</td>\n",
       "      <td>0</td>\n",
       "      <td>0</td>\n",
       "      <td>0</td>\n",
       "      <td>0</td>\n",
       "      <td>0</td>\n",
       "      <td>1</td>\n",
       "      <td>0</td>\n",
       "      <td>0</td>\n",
       "      <td>0</td>\n",
       "      <td>0</td>\n",
       "      <td>0</td>\n",
       "      <td>0</td>\n",
       "      <td>0</td>\n",
       "      <td>0</td>\n",
       "      <td>0</td>\n",
       "      <td>0</td>\n",
       "    </tr>\n",
       "    <tr>\n",
       "      <th>3952</th>\n",
       "      <td>Contender, The</td>\n",
       "      <td>2000</td>\n",
       "      <td>0</td>\n",
       "      <td>0</td>\n",
       "      <td>0</td>\n",
       "      <td>0</td>\n",
       "      <td>0</td>\n",
       "      <td>0</td>\n",
       "      <td>0</td>\n",
       "      <td>1</td>\n",
       "      <td>0</td>\n",
       "      <td>0</td>\n",
       "      <td>0</td>\n",
       "      <td>0</td>\n",
       "      <td>0</td>\n",
       "      <td>0</td>\n",
       "      <td>0</td>\n",
       "      <td>1</td>\n",
       "      <td>0</td>\n",
       "      <td>0</td>\n",
       "    </tr>\n",
       "  </tbody>\n",
       "</table>\n",
       "<p>3883 rows × 20 columns</p>\n",
       "</div>"
      ],
      "text/plain": [
       "                                title  year_of_release  Action  Adventure  \\\n",
       "movie_id                                                                    \n",
       "1                           Toy Story             1995       0          0   \n",
       "2                             Jumanji             1995       0          1   \n",
       "3                    Grumpier Old Men             1995       0          0   \n",
       "4                   Waiting to Exhale             1995       0          0   \n",
       "5         Father of the Bride Part II             1995       0          0   \n",
       "...                               ...              ...     ...        ...   \n",
       "3948                 Meet the Parents             2000       0          0   \n",
       "3949              Requiem for a Dream             2000       0          0   \n",
       "3950                        Tigerland             2000       0          0   \n",
       "3951                 Two Family House             2000       0          0   \n",
       "3952                   Contender, The             2000       0          0   \n",
       "\n",
       "          Animation  Children's  Comedy  Crime  Documentary  Drama  Fantasy  \\\n",
       "movie_id                                                                      \n",
       "1                 1           1       1      0            0      0        0   \n",
       "2                 0           1       0      0            0      0        1   \n",
       "3                 0           0       1      0            0      0        0   \n",
       "4                 0           0       1      0            0      1        0   \n",
       "5                 0           0       1      0            0      0        0   \n",
       "...             ...         ...     ...    ...          ...    ...      ...   \n",
       "3948              0           0       1      0            0      0        0   \n",
       "3949              0           0       0      0            0      1        0   \n",
       "3950              0           0       0      0            0      1        0   \n",
       "3951              0           0       0      0            0      1        0   \n",
       "3952              0           0       0      0            0      1        0   \n",
       "\n",
       "          Film-Noir  Horror  Musical  Mystery  Romance  Sci-Fi  Thriller  War  \\\n",
       "movie_id                                                                        \n",
       "1                 0       0        0        0        0       0         0    0   \n",
       "2                 0       0        0        0        0       0         0    0   \n",
       "3                 0       0        0        0        1       0         0    0   \n",
       "4                 0       0        0        0        0       0         0    0   \n",
       "5                 0       0        0        0        0       0         0    0   \n",
       "...             ...     ...      ...      ...      ...     ...       ...  ...   \n",
       "3948              0       0        0        0        0       0         0    0   \n",
       "3949              0       0        0        0        0       0         0    0   \n",
       "3950              0       0        0        0        0       0         0    0   \n",
       "3951              0       0        0        0        0       0         0    0   \n",
       "3952              0       0        0        0        0       0         1    0   \n",
       "\n",
       "          Western  \n",
       "movie_id           \n",
       "1               0  \n",
       "2               0  \n",
       "3               0  \n",
       "4               0  \n",
       "5               0  \n",
       "...           ...  \n",
       "3948            0  \n",
       "3949            0  \n",
       "3950            0  \n",
       "3951            0  \n",
       "3952            0  \n",
       "\n",
       "[3883 rows x 20 columns]"
      ]
     },
     "execution_count": 15,
     "metadata": {},
     "output_type": "execute_result"
    }
   ],
   "source": [
    "for sGenre in gc_a_GENRES:\n",
    "    dfMovies.loc[:, sGenre] = dfMovies.loc[: ,'genres'].str.contains(sGenre).astype(int)\n",
    "    \n",
    "dfMovies.drop(['genres'], axis = 1, inplace = True)\n",
    "dfMovies"
   ]
  },
  {
   "cell_type": "markdown",
   "id": "9c0dbaaf-a312-414e-996c-9ed783a83137",
   "metadata": {
    "jp-MarkdownHeadingCollapsed": true,
    "tags": []
   },
   "source": [
    "## Remove Non-Numeric Columns from Movies Dataset"
   ]
  },
  {
   "cell_type": "code",
   "execution_count": 16,
   "id": "04046531-06f5-46f1-a061-d43dd79b9827",
   "metadata": {},
   "outputs": [],
   "source": [
    "dfMovies.drop(['title'], axis = 1, inplace = True)"
   ]
  },
  {
   "cell_type": "markdown",
   "id": "6b484f89-20b3-4fc5-9ff9-e806b2144f6b",
   "metadata": {
    "tags": []
   },
   "source": [
    "# DEEP LEARNING MODEL"
   ]
  },
  {
   "cell_type": "code",
   "execution_count": 34,
   "id": "0e264684-d1f3-4b6c-b77a-931be65fb700",
   "metadata": {},
   "outputs": [],
   "source": [
    "dfAnalysis = dfRatings.copy()"
   ]
  },
  {
   "cell_type": "markdown",
   "id": "17f76e0d-f334-4a04-86b5-78773454f3f5",
   "metadata": {
    "jp-MarkdownHeadingCollapsed": true,
    "tags": []
   },
   "source": [
    "## Encode Movie ID and Item Id in Ratings Dataset"
   ]
  },
  {
   "cell_type": "code",
   "execution_count": 35,
   "id": "2ee90121-bb74-4468-9754-e7c951a6091c",
   "metadata": {},
   "outputs": [],
   "source": [
    "oMovieEncoder = OrdinalEncoder()\n",
    "dfAnalysis['movie_id_encoded'] =  oMovieEncoder.fit_transform(dfAnalysis['movie_id'].values.reshape(-1 , 1))\n",
    "\n",
    "oUserEncoder = OrdinalEncoder()\n",
    "dfAnalysis['user_id_encoded'] =  oUserEncoder.fit_transform(dfAnalysis['user_id'].values.reshape(-1 , 1))"
   ]
  },
  {
   "cell_type": "markdown",
   "id": "4255ab44-834b-4f1a-9fa9-5b66e18ac5e5",
   "metadata": {
    "jp-MarkdownHeadingCollapsed": true,
    "tags": []
   },
   "source": [
    "## Normalize Output"
   ]
  },
  {
   "cell_type": "code",
   "execution_count": 36,
   "id": "db5e7f94-113e-481c-ba0e-9f7a0593c874",
   "metadata": {},
   "outputs": [],
   "source": [
    "oScaler_y = MinMaxScaler()\n",
    "dfAnalysis['rating_normalized'] = oScaler_y.fit_transform(dfAnalysis['rating'].values.reshape(-1,1))"
   ]
  },
  {
   "cell_type": "markdown",
   "id": "ff349306-7972-4c2e-947d-8b7295334a74",
   "metadata": {
    "jp-MarkdownHeadingCollapsed": true,
    "tags": []
   },
   "source": [
    "## Identify Unique Number of Movies and Users in Ratings Dataset"
   ]
  },
  {
   "cell_type": "code",
   "execution_count": 37,
   "id": "27d665b5-68b0-41b8-80c4-c46398a31adc",
   "metadata": {},
   "outputs": [],
   "source": [
    "iNrOfMovies = dfAnalysis['movie_id_encoded'].nunique()\n",
    "iNrOfUsers = dfAnalysis['user_id_encoded'].nunique()"
   ]
  },
  {
   "cell_type": "markdown",
   "id": "bd278fea-8b2d-472e-8f5e-286b36a48f6f",
   "metadata": {
    "jp-MarkdownHeadingCollapsed": true,
    "tags": []
   },
   "source": [
    "## Split Train-Validation-Test"
   ]
  },
  {
   "cell_type": "code",
   "execution_count": 38,
   "id": "fd849b31-2404-4692-8967-061fee7b3a02",
   "metadata": {},
   "outputs": [],
   "source": [
    "c_fTrainingRatio = 0.7\n",
    "c_fValidationRatio = 0.15\n",
    "c_fTestRatio = 0.15\n",
    "\n",
    "ixTrain,ixTest = train_test_split(\n",
    "    dfAnalysis.index,\n",
    "    test_size=1-c_fTrainingRatio,\n",
    "    shuffle=True)\n",
    "\n",
    "ixValidation,ixTest= train_test_split(\n",
    "    ixTest,\n",
    "    test_size=c_fTestRatio/(c_fTestRatio + c_fValidationRatio),\n",
    "    shuffle=True)"
   ]
  },
  {
   "cell_type": "markdown",
   "id": "2cfe4e23-cbd0-4917-b21c-6a0fe694dd28",
   "metadata": {
    "tags": []
   },
   "source": [
    "## Build Input and Output Datasets"
   ]
  },
  {
   "cell_type": "code",
   "execution_count": 39,
   "id": "85532d32-b8c8-4486-8b09-37ab1573b230",
   "metadata": {},
   "outputs": [],
   "source": [
    "aColsMovie_X = [ 'movie_id_encoded']\n",
    "aMovie_X_Train = dfAnalysis.loc[ ixTrain , aColsMovie_X].values\n",
    "aMovie_X_Validation = dfAnalysis.loc[ ixValidation , aColsMovie_X].values\n",
    "aMovie_X_Test = dfAnalysis.loc[ ixTest , aColsMovie_X].values\n",
    "\n",
    "\n",
    "aColsUser_X = ['user_id_encoded']\n",
    "aUser_X_Train = dfAnalysis.loc[ ixTrain , aColsUser_X].values\n",
    "aUser_X_Validation = dfAnalysis.loc[ ixValidation , aColsUser_X].values\n",
    "aUser_X_Test = dfAnalysis.loc[ ixTest , aColsUser_X].values\n",
    "\n",
    "\n",
    "aCol_y = ['rating_normalized']\n",
    "a_y = dfAnalysis[aCol_y].values\n",
    "\n",
    "\n",
    "a_y_Train = dfAnalysis.loc[ ixTrain , aCol_y].values\n",
    "a_y_Validation = dfAnalysis.loc[ ixValidation , aCol_y].values\n",
    "a_y_Test = dfAnalysis.loc[ ixTest , aCol_y].values"
   ]
  },
  {
   "cell_type": "code",
   "execution_count": 478,
   "id": "38475989-5833-4a3c-8a8b-f32877d2a814",
   "metadata": {},
   "outputs": [
    {
     "data": {
      "text/plain": [
       "array([[0., 0., 0., 1., 0.],\n",
       "       [0., 0., 0., 0., 1.],\n",
       "       [0., 0., 0., 1., 0.],\n",
       "       ...,\n",
       "       [0., 0., 0., 1., 0.],\n",
       "       [0., 0., 1., 0., 0.],\n",
       "       [0., 0., 0., 0., 1.]])"
      ]
     },
     "execution_count": 478,
     "metadata": {},
     "output_type": "execute_result"
    }
   ],
   "source": [
    "oOhEnc = OneHotEncoder()\n",
    "oOhEnc.fit_transform(a_y_Train).toarray()"
   ]
  },
  {
   "cell_type": "markdown",
   "id": "dee1c0e3-b4b8-4d9f-a467-b4938cd2023e",
   "metadata": {
    "tags": []
   },
   "source": [
    "## Build Model"
   ]
  },
  {
   "cell_type": "code",
   "execution_count": 465,
   "id": "189c3491-19b8-47cb-886a-82e9c6ea31ce",
   "metadata": {},
   "outputs": [],
   "source": [
    "c_iEmbeddigSize = 5"
   ]
  },
  {
   "cell_type": "code",
   "execution_count": 466,
   "id": "c95fe6c1-669f-4eaa-a8a8-924d9cfb9559",
   "metadata": {},
   "outputs": [],
   "source": [
    "aMovieInput = tf.keras.Input(\n",
    "    shape = (aMovie_X_Train.shape[1],),\n",
    "    name = 'movie_input'\n",
    ")\n",
    "\n",
    "aMovieEmbedding = tf.keras.layers.Embedding(\n",
    "    input_dim=iNrOfMovies, # size of vocabulary\n",
    "    output_dim=c_iEmbeddigSize, # length of sequence\n",
    "    name = 'movie_embedding'\n",
    ")(aMovieInput)"
   ]
  },
  {
   "cell_type": "code",
   "execution_count": 467,
   "id": "d007b27d-5b54-4b98-9293-24b844a81398",
   "metadata": {},
   "outputs": [],
   "source": [
    "aUserInput = tf.keras.Input(\n",
    "    shape = (aUser_X_Train.shape[1],),\n",
    "    name = 'user_input'\n",
    ")\n",
    "\n",
    "aUserEmbedding = tf.keras.layers.Embedding(\n",
    "    input_dim=iNrOfUsers, # size of vocabulary\n",
    "    output_dim=c_iEmbeddigSize, # length of sequence\n",
    "    name = 'user_embedding'\n",
    ")(aUserInput)"
   ]
  },
  {
   "cell_type": "code",
   "execution_count": 468,
   "id": "30059f57-ae47-46a0-83d5-400e8a2676a0",
   "metadata": {},
   "outputs": [],
   "source": [
    "aOutput = tf.keras.layers.Dot(\n",
    "    name = 'dot_product', \n",
    "    normalize = True,\n",
    "    axes = 2)([aMovieEmbedding, aUserEmbedding])\n",
    "\n",
    "aOutput = tf.keras.layers.Flatten()(aOutput)\n",
    "aOutput = tf.keras.layers.Dense(10)(aOutput)\n",
    "aOutput = tf.keras.layers.Dense(5, activation = 'ReLU')(aOutput)\n",
    "aOutput = tf.keras.layers.Dense(1)(aOutput)"
   ]
  },
  {
   "cell_type": "code",
   "execution_count": 469,
   "id": "d9c3e89e-241b-473b-a222-bc34896b21d2",
   "metadata": {},
   "outputs": [
    {
     "data": {
      "image/png": "[encoded data removed]",
      "text/plain": [
       "<IPython.core.display.Image object>"
      ]
     },
     "execution_count": 469,
     "metadata": {},
     "output_type": "execute_result"
    }
   ],
   "source": [
    "oModelRatingEstimator = tf.keras.Model(inputs=[aMovieInput, aUserInput], outputs=aOutput)\n",
    "\n",
    "oOptimizer = tf.keras.optimizers.Adam(learning_rate=1e-03)\n",
    "\n",
    "oModelRatingEstimator.compile(optimizer=oOptimizer,loss= 'mse')\n",
    "\n",
    "tf.keras.utils.plot_model(oModelRatingEstimator, show_shapes=True)"
   ]
  },
  {
   "cell_type": "markdown",
   "id": "493b71f1-d867-4748-bb61-ca2056290e96",
   "metadata": {
    "tags": []
   },
   "source": [
    "## Fit Model"
   ]
  },
  {
   "cell_type": "code",
   "execution_count": 470,
   "id": "c355f2fa-127b-434a-8ad2-2e4688a2409e",
   "metadata": {},
   "outputs": [
    {
     "name": "stdout",
     "output_type": "stream",
     "text": [
      "Epoch 1/1000\n",
      "171/171 [==============================] - 2s 5ms/step - loss: 0.2063 - val_loss: 0.0842\n",
      "Epoch 2/1000\n",
      "171/171 [==============================] - 1s 4ms/step - loss: 0.0760 - val_loss: 0.0746\n",
      "Epoch 3/1000\n",
      "171/171 [==============================] - 1s 4ms/step - loss: 0.0679 - val_loss: 0.0661\n",
      "Epoch 4/1000\n",
      "171/171 [==============================] - 1s 4ms/step - loss: 0.0602 - val_loss: 0.0596\n",
      "Epoch 5/1000\n",
      "171/171 [==============================] - 1s 5ms/step - loss: 0.0556 - val_loss: 0.0566\n",
      "Epoch 6/1000\n",
      "171/171 [==============================] - 1s 4ms/step - loss: 0.0531 - val_loss: 0.0549\n",
      "Epoch 7/1000\n",
      "171/171 [==============================] - 1s 4ms/step - loss: 0.0515 - val_loss: 0.0538\n",
      "Epoch 8/1000\n",
      "171/171 [==============================] - 1s 4ms/step - loss: 0.0503 - val_loss: 0.0528\n",
      "Epoch 9/1000\n",
      "171/171 [==============================] - 1s 4ms/step - loss: 0.0493 - val_loss: 0.0522\n",
      "Epoch 10/1000\n",
      "171/171 [==============================] - 1s 4ms/step - loss: 0.0485 - val_loss: 0.0516\n",
      "Epoch 11/1000\n",
      "171/171 [==============================] - 1s 4ms/step - loss: 0.0479 - val_loss: 0.0513\n",
      "Epoch 12/1000\n",
      "171/171 [==============================] - 1s 4ms/step - loss: 0.0475 - val_loss: 0.0511\n",
      "Epoch 13/1000\n",
      "171/171 [==============================] - 1s 4ms/step - loss: 0.0472 - val_loss: 0.0508\n",
      "Epoch 14/1000\n",
      "171/171 [==============================] - 1s 4ms/step - loss: 0.0469 - val_loss: 0.0507\n",
      "Epoch 15/1000\n",
      "171/171 [==============================] - 1s 4ms/step - loss: 0.0467 - val_loss: 0.0505\n",
      "Epoch 16/1000\n",
      "171/171 [==============================] - 1s 4ms/step - loss: 0.0465 - val_loss: 0.0504\n",
      "Epoch 17/1000\n",
      "171/171 [==============================] - 1s 4ms/step - loss: 0.0463 - val_loss: 0.0503\n",
      "Epoch 18/1000\n",
      "171/171 [==============================] - 1s 4ms/step - loss: 0.0462 - val_loss: 0.0503\n",
      "Epoch 19/1000\n",
      "171/171 [==============================] - 1s 4ms/step - loss: 0.0460 - val_loss: 0.0502\n",
      "Epoch 20/1000\n",
      "171/171 [==============================] - 1s 4ms/step - loss: 0.0459 - val_loss: 0.0502\n",
      "Epoch 21/1000\n",
      "171/171 [==============================] - 1s 4ms/step - loss: 0.0458 - val_loss: 0.0500\n",
      "Epoch 22/1000\n",
      "171/171 [==============================] - 1s 4ms/step - loss: 0.0457 - val_loss: 0.0500\n",
      "Epoch 23/1000\n",
      "171/171 [==============================] - 1s 4ms/step - loss: 0.0456 - val_loss: 0.0500\n",
      "Epoch 24/1000\n",
      "171/171 [==============================] - 1s 4ms/step - loss: 0.0456 - val_loss: 0.0499\n",
      "Epoch 25/1000\n",
      "171/171 [==============================] - 1s 4ms/step - loss: 0.0455 - val_loss: 0.0500\n",
      "Epoch 26/1000\n",
      "171/171 [==============================] - 1s 4ms/step - loss: 0.0454 - val_loss: 0.0498\n",
      "Epoch 27/1000\n",
      "171/171 [==============================] - 1s 4ms/step - loss: 0.0453 - val_loss: 0.0498\n",
      "Epoch 28/1000\n",
      "171/171 [==============================] - 1s 4ms/step - loss: 0.0453 - val_loss: 0.0497\n",
      "Epoch 29/1000\n",
      "171/171 [==============================] - 1s 4ms/step - loss: 0.0452 - val_loss: 0.0497\n",
      "Epoch 30/1000\n",
      "171/171 [==============================] - 1s 4ms/step - loss: 0.0452 - val_loss: 0.0496\n",
      "Epoch 31/1000\n",
      "171/171 [==============================] - 1s 5ms/step - loss: 0.0451 - val_loss: 0.0496\n",
      "Epoch 32/1000\n",
      "171/171 [==============================] - 1s 4ms/step - loss: 0.0451 - val_loss: 0.0496\n",
      "Epoch 33/1000\n",
      "171/171 [==============================] - 1s 4ms/step - loss: 0.0450 - val_loss: 0.0496\n",
      "Epoch 34/1000\n",
      "171/171 [==============================] - 1s 4ms/step - loss: 0.0450 - val_loss: 0.0496\n",
      "Epoch 35/1000\n",
      "171/171 [==============================] - 1s 4ms/step - loss: 0.0449 - val_loss: 0.0495\n",
      "Epoch 36/1000\n",
      "171/171 [==============================] - 1s 4ms/step - loss: 0.0449 - val_loss: 0.0495\n",
      "Epoch 37/1000\n",
      "171/171 [==============================] - 1s 4ms/step - loss: 0.0448 - val_loss: 0.0495\n",
      "Epoch 38/1000\n",
      "171/171 [==============================] - 1s 4ms/step - loss: 0.0448 - val_loss: 0.0494\n",
      "Epoch 39/1000\n",
      "171/171 [==============================] - 1s 4ms/step - loss: 0.0447 - val_loss: 0.0494\n",
      "Epoch 40/1000\n",
      "171/171 [==============================] - 1s 4ms/step - loss: 0.0447 - val_loss: 0.0494\n",
      "Epoch 41/1000\n",
      "171/171 [==============================] - 1s 4ms/step - loss: 0.0446 - val_loss: 0.0495\n",
      "Epoch 42/1000\n",
      "171/171 [==============================] - 1s 4ms/step - loss: 0.0446 - val_loss: 0.0494\n",
      "Epoch 43/1000\n",
      "171/171 [==============================] - 1s 4ms/step - loss: 0.0446 - val_loss: 0.0494\n",
      "Epoch 44/1000\n",
      "171/171 [==============================] - 1s 4ms/step - loss: 0.0445 - val_loss: 0.0493\n",
      "Epoch 45/1000\n",
      "171/171 [==============================] - 1s 5ms/step - loss: 0.0445 - val_loss: 0.0493\n",
      "Epoch 46/1000\n",
      "171/171 [==============================] - 1s 4ms/step - loss: 0.0445 - val_loss: 0.0493\n",
      "Epoch 47/1000\n",
      "171/171 [==============================] - 1s 4ms/step - loss: 0.0444 - val_loss: 0.0493\n",
      "Epoch 48/1000\n",
      "171/171 [==============================] - 1s 4ms/step - loss: 0.0444 - val_loss: 0.0492\n",
      "Epoch 49/1000\n",
      "171/171 [==============================] - 1s 4ms/step - loss: 0.0444 - val_loss: 0.0493\n",
      "Epoch 50/1000\n",
      "171/171 [==============================] - 1s 4ms/step - loss: 0.0443 - val_loss: 0.0493\n",
      "Epoch 51/1000\n",
      "171/171 [==============================] - 1s 4ms/step - loss: 0.0443 - val_loss: 0.0492\n",
      "Epoch 52/1000\n",
      "171/171 [==============================] - 1s 4ms/step - loss: 0.0443 - val_loss: 0.0491\n",
      "Epoch 53/1000\n",
      "171/171 [==============================] - 1s 4ms/step - loss: 0.0442 - val_loss: 0.0492\n",
      "Epoch 54/1000\n",
      "171/171 [==============================] - 1s 4ms/step - loss: 0.0442 - val_loss: 0.0491\n",
      "Epoch 55/1000\n",
      "171/171 [==============================] - 1s 4ms/step - loss: 0.0442 - val_loss: 0.0491\n",
      "Epoch 56/1000\n",
      "171/171 [==============================] - 1s 4ms/step - loss: 0.0442 - val_loss: 0.0492\n",
      "Epoch 57/1000\n",
      "171/171 [==============================] - 1s 4ms/step - loss: 0.0441 - val_loss: 0.0491\n",
      "Epoch 58/1000\n",
      "171/171 [==============================] - 1s 5ms/step - loss: 0.0441 - val_loss: 0.0491\n",
      "Epoch 59/1000\n",
      "171/171 [==============================] - 1s 4ms/step - loss: 0.0441 - val_loss: 0.0490\n",
      "Epoch 60/1000\n",
      "171/171 [==============================] - 1s 4ms/step - loss: 0.0441 - val_loss: 0.0491\n",
      "Epoch 61/1000\n",
      "171/171 [==============================] - 1s 4ms/step - loss: 0.0440 - val_loss: 0.0491\n",
      "Epoch 62/1000\n",
      "171/171 [==============================] - 1s 4ms/step - loss: 0.0440 - val_loss: 0.0490\n",
      "Epoch 63/1000\n",
      "171/171 [==============================] - 1s 4ms/step - loss: 0.0440 - val_loss: 0.0490\n",
      "Epoch 64/1000\n",
      "171/171 [==============================] - 1s 4ms/step - loss: 0.0440 - val_loss: 0.0489\n",
      "Epoch 65/1000\n",
      "171/171 [==============================] - 1s 4ms/step - loss: 0.0440 - val_loss: 0.0490\n",
      "Epoch 66/1000\n",
      "171/171 [==============================] - 1s 4ms/step - loss: 0.0440 - val_loss: 0.0490\n",
      "Epoch 67/1000\n",
      "171/171 [==============================] - 1s 4ms/step - loss: 0.0439 - val_loss: 0.0490\n",
      "Epoch 68/1000\n",
      "171/171 [==============================] - 1s 4ms/step - loss: 0.0439 - val_loss: 0.0490\n",
      "Epoch 69/1000\n",
      "171/171 [==============================] - 1s 4ms/step - loss: 0.0439 - val_loss: 0.0490\n",
      "Epoch 70/1000\n",
      "171/171 [==============================] - 1s 4ms/step - loss: 0.0439 - val_loss: 0.0491\n",
      "Epoch 71/1000\n",
      "171/171 [==============================] - 1s 4ms/step - loss: 0.0439 - val_loss: 0.0490\n",
      "Epoch 72/1000\n",
      "171/171 [==============================] - 1s 4ms/step - loss: 0.0438 - val_loss: 0.0489\n",
      "Epoch 73/1000\n",
      "171/171 [==============================] - 1s 4ms/step - loss: 0.0438 - val_loss: 0.0490\n",
      "Epoch 74/1000\n",
      "171/171 [==============================] - 1s 4ms/step - loss: 0.0438 - val_loss: 0.0489\n",
      "Epoch 75/1000\n",
      "171/171 [==============================] - 1s 4ms/step - loss: 0.0438 - val_loss: 0.0490\n",
      "Epoch 76/1000\n",
      "171/171 [==============================] - 1s 4ms/step - loss: 0.0438 - val_loss: 0.0490\n",
      "Epoch 77/1000\n",
      "171/171 [==============================] - 1s 4ms/step - loss: 0.0438 - val_loss: 0.0489\n",
      "Epoch 78/1000\n",
      "171/171 [==============================] - 1s 5ms/step - loss: 0.0438 - val_loss: 0.0489\n",
      "Epoch 79/1000\n",
      "171/171 [==============================] - 1s 4ms/step - loss: 0.0437 - val_loss: 0.0489\n",
      "Epoch 80/1000\n",
      "171/171 [==============================] - 1s 4ms/step - loss: 0.0437 - val_loss: 0.0489\n",
      "Epoch 81/1000\n",
      "171/171 [==============================] - 1s 4ms/step - loss: 0.0437 - val_loss: 0.0489\n",
      "Epoch 82/1000\n",
      "171/171 [==============================] - 1s 4ms/step - loss: 0.0437 - val_loss: 0.0489\n",
      "Epoch 83/1000\n",
      "171/171 [==============================] - 1s 5ms/step - loss: 0.0437 - val_loss: 0.0489\n",
      "Epoch 84/1000\n",
      "171/171 [==============================] - 1s 4ms/step - loss: 0.0437 - val_loss: 0.0489\n",
      "Epoch 85/1000\n",
      "171/171 [==============================] - 1s 4ms/step - loss: 0.0437 - val_loss: 0.0489\n",
      "Epoch 86/1000\n",
      "171/171 [==============================] - 1s 4ms/step - loss: 0.0437 - val_loss: 0.0488\n",
      "Epoch 87/1000\n",
      "171/171 [==============================] - 1s 4ms/step - loss: 0.0436 - val_loss: 0.0488\n",
      "Epoch 88/1000\n",
      "171/171 [==============================] - 1s 4ms/step - loss: 0.0436 - val_loss: 0.0488\n",
      "Epoch 89/1000\n",
      "171/171 [==============================] - 1s 4ms/step - loss: 0.0436 - val_loss: 0.0488\n",
      "Epoch 90/1000\n",
      "171/171 [==============================] - 1s 4ms/step - loss: 0.0436 - val_loss: 0.0488\n",
      "Epoch 91/1000\n",
      "171/171 [==============================] - 1s 4ms/step - loss: 0.0436 - val_loss: 0.0488\n",
      "Epoch 92/1000\n",
      "171/171 [==============================] - 1s 4ms/step - loss: 0.0436 - val_loss: 0.0488\n",
      "Epoch 93/1000\n",
      "171/171 [==============================] - 1s 4ms/step - loss: 0.0436 - val_loss: 0.0488\n",
      "Epoch 94/1000\n",
      "171/171 [==============================] - 1s 4ms/step - loss: 0.0435 - val_loss: 0.0488\n",
      "Epoch 95/1000\n",
      "171/171 [==============================] - 1s 4ms/step - loss: 0.0435 - val_loss: 0.0488\n",
      "Epoch 96/1000\n",
      "171/171 [==============================] - 1s 4ms/step - loss: 0.0435 - val_loss: 0.0488\n",
      "Epoch 97/1000\n",
      "171/171 [==============================] - 1s 4ms/step - loss: 0.0435 - val_loss: 0.0488\n",
      "Epoch 98/1000\n",
      "171/171 [==============================] - 1s 4ms/step - loss: 0.0435 - val_loss: 0.0488\n",
      "Epoch 99/1000\n",
      "171/171 [==============================] - 1s 4ms/step - loss: 0.0435 - val_loss: 0.0488\n",
      "Epoch 100/1000\n",
      "171/171 [==============================] - 1s 4ms/step - loss: 0.0435 - val_loss: 0.0488\n",
      "Epoch 101/1000\n",
      "171/171 [==============================] - 1s 4ms/step - loss: 0.0435 - val_loss: 0.0488\n",
      "Epoch 102/1000\n",
      "171/171 [==============================] - 1s 4ms/step - loss: 0.0435 - val_loss: 0.0488\n",
      "Epoch 103/1000\n",
      "171/171 [==============================] - 1s 5ms/step - loss: 0.0435 - val_loss: 0.0488\n"
     ]
    }
   ],
   "source": [
    "oEarlyStop = tf.keras.callbacks.EarlyStopping(\n",
    "    monitor = 'val_loss', \n",
    "    mode = 'min', \n",
    "    verbose = 0 , \n",
    "    patience = 10, \n",
    "    restore_best_weights = True)\n",
    "\n",
    "oModelRatingEstimator.fit(\n",
    "    [aMovie_X_Train, aUser_X_Train], \n",
    "    a_y_Train, \n",
    "    epochs= 1000, \n",
    "    batch_size=2**12, \n",
    "    verbose=1, \n",
    "    validation_data= ([aMovie_X_Validation, aUser_X_Validation], a_y_Validation),\n",
    "    callbacks=[oEarlyStop]\n",
    ")\n",
    "\n",
    "dfHistory = pd.DataFrame(oModelRatingEstimator.history.history)"
   ]
  },
  {
   "cell_type": "code",
   "execution_count": 471,
   "id": "e68d0d5c-c5ac-497f-ab0f-5074d5b451f9",
   "metadata": {},
   "outputs": [
    {
     "data": {
      "text/plain": [
       "<AxesSubplot:ylabel='loss'>"
      ]
     },
     "execution_count": 471,
     "metadata": {},
     "output_type": "execute_result"
    },
    {
     "data": {
      "image/png": "[encoded data removed]",
      "text/plain": [
       "<Figure size 1440x576 with 1 Axes>"
      ]
     },
     "metadata": {
      "needs_background": "light"
     },
     "output_type": "display_data"
    }
   ],
   "source": [
    "plt.figure(figsize = (20, 8))\n",
    "sns.lineplot(data = dfHistory['loss'].iloc[1:], legend = True, label = 'Train')\n",
    "sns.lineplot(data = dfHistory['val_loss'].iloc[1:], legend = True, label = 'Validation')"
   ]
  },
  {
   "cell_type": "markdown",
   "id": "129f0553-4dc7-412e-83c0-eef19928fac9",
   "metadata": {
    "tags": []
   },
   "source": [
    "## Test Model"
   ]
  },
  {
   "cell_type": "code",
   "execution_count": 472,
   "id": "dfc6feda-b639-4603-b1f2-d5fe0ca31422",
   "metadata": {},
   "outputs": [
    {
     "name": "stdout",
     "output_type": "stream",
     "text": [
      "MSE: 0.79\n",
      "RMSE: 0.89\n",
      "MAE: 0.70\n",
      "R2: 0.37\n"
     ]
    }
   ],
   "source": [
    "a_y_pred = oModelRatingEstimator.predict([aMovie_X_Test, aUser_X_Test])\n",
    "\n",
    "pred = oScaler_y.inverse_transform(a_y_pred)\n",
    "ground_true = oScaler_y.inverse_transform(a_y_Test)\n",
    "\n",
    "fMse =  sklearn.metrics.mean_squared_error(ground_true, pred)\n",
    "fRmse = np.sqrt(fMse)\n",
    "fMae = sklearn.metrics.mean_absolute_error(ground_true, pred)\n",
    "fR2 =  sklearn.metrics.r2_score(ground_true, pred)\n",
    "\n",
    "print('MSE: {:.2f}\\nRMSE: {:.2f}\\nMAE: {:.2f}\\nR2: {:.2f}'.format(fMse, fRmse, fMae, fR2))"
   ]
  },
  {
   "cell_type": "code",
   "execution_count": 473,
   "id": "398a6aab-d59e-408c-a750-ee8eadfcfde4",
   "metadata": {},
   "outputs": [],
   "source": [
    "dfComparison = pd.DataFrame(index = ixTest)\n",
    "dfComparison['pred'] = pred\n",
    "dfComparison['ground_true'] = ground_true"
   ]
  },
  {
   "cell_type": "code",
   "execution_count": 474,
   "id": "2226953e-91e3-4e97-a9d7-0f45c35b320a",
   "metadata": {},
   "outputs": [
    {
     "data": {
      "text/plain": [
       "<AxesSubplot:xlabel='pred', ylabel='ground_true'>"
      ]
     },
     "execution_count": 474,
     "metadata": {},
     "output_type": "execute_result"
    },
    {
     "data": {
      "image/png": "[encoded data removed]",
      "text/plain": [
       "<Figure size 1440x576 with 1 Axes>"
      ]
     },
     "metadata": {
      "needs_background": "light"
     },
     "output_type": "display_data"
    }
   ],
   "source": [
    "plt.figure(figsize = (20, 8))\n",
    "sns.scatterplot(data = dfComparison, x = 'pred', y = 'ground_true')"
   ]
  },
  {
   "cell_type": "code",
   "execution_count": 475,
   "id": "3bfc317b-1c4d-44cf-83d4-0a407cd41493",
   "metadata": {},
   "outputs": [
    {
     "data": {
      "text/plain": [
       "<AxesSubplot:ylabel='Count'>"
      ]
     },
     "execution_count": 475,
     "metadata": {},
     "output_type": "execute_result"
    },
    {
     "data": {
      "image/png": "[encoded data removed]",
      "text/plain": [
       "<Figure size 1440x576 with 1 Axes>"
      ]
     },
     "metadata": {
      "needs_background": "light"
     },
     "output_type": "display_data"
    }
   ],
   "source": [
    "plt.figure(figsize = (20, 8))\n",
    "sns.histplot(data = dfComparison)"
   ]
  },
  {
   "cell_type": "markdown",
   "id": "bfaca5ba-a9e4-4a88-946d-049c72e97997",
   "metadata": {
    "jp-MarkdownHeadingCollapsed": true,
    "tags": []
   },
   "source": [
    "# FUTURE STEPS"
   ]
  },
  {
   "cell_type": "markdown",
   "id": "21310a63-5e5f-4bc0-92cb-4110bcff14b8",
   "metadata": {},
   "source": [
    "1. Book https://www.amazon.com/Recommender-Systems-Introduction-Dietmar-Jannach/dp/0521493366 should be read.\n",
    "1. For Embedding layer of movies, vocabulary of **title** of movie can be used.\n",
    "1. Scalibility is a challage. When there are millions of items. \n",
    "1. It is challange When a new user or new movie is added. Or when a person starts to rate.\n",
    "1. Sequence of user ratings is important\n",
    "1. Large dataset with a lof of users and movies are problem. Pandas will give out of memery error. "
   ]
  },
  {
   "cell_type": "markdown",
   "id": "83e15b57-949f-43af-98f5-4d631ff67a7e",
   "metadata": {
    "tags": []
   },
   "source": [
    "# REFERENCES"
   ]
  },
  {
   "cell_type": "markdown",
   "id": "636f28ea-564e-4bd6-99b4-027562a4a624",
   "metadata": {},
   "source": [
    "1. https://developers.google.com/machine-learning/clustering/similarity/supervised-similarity\n",
    "1. https://towardsdatascience.com/recommender-systems-from-learned-embeddings-f1d12288f278#:~:text=Embeddings%20are%20vector%20representations%20of,and%20user%20IDs%20as%20embeddings.\n",
    "1. https://netflixtechblog.com/netflix-recommendations-beyond-the-5-stars-part-1-55838468f429\n",
    "1. https://netflixtechblog.com/netflix-recommendations-beyond-the-5-stars-part-2-d9b96aa399f5\n",
    "1. https://blog.tensorflow.org/2020/09/introducing-tensorflow-recommenders.html\n",
    "1. http://buzzard.ups.edu/courses/2014spring/420projects/math420-UPS-spring-2014-gower-netflix-SVD.pdf"
   ]
  }
 ],
 "metadata": {
  "kernelspec": {
   "display_name": "Python 3",
   "language": "python",
   "name": "python3"
  },
  "language_info": {
   "codemirror_mode": {
    "name": "ipython",
    "version": 3
   },
   "file_extension": ".py",
   "mimetype": "text/x-python",
   "name": "python",
   "nbconvert_exporter": "python",
   "pygments_lexer": "ipython3",
   "version": "3.7.10"
  }
 },
 "nbformat": 4,
 "nbformat_minor": 5
}
